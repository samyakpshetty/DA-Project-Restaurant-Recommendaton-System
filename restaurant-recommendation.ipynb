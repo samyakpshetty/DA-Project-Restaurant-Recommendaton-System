{
 "cells": [
  {
   "cell_type": "markdown",
   "id": "c68aa122",
   "metadata": {
    "id": "0rcIzc1TPheF",
    "papermill": {
     "duration": 0.092163,
     "end_time": "2022-05-30T09:26:46.585477",
     "exception": false,
     "start_time": "2022-05-30T09:26:46.493314",
     "status": "completed"
    },
    "tags": []
   },
   "source": [
    "# Recommender system\n",
    "this project covers a buisness problem based out for a food delivery app where task is to recommend person with best vendor who fits for there purhase past or spending habits based out on various parameters\n",
    "\n",
    "the dataset for this case study can be obtained  [from here](https://github.com/samyakpshetty/DA-Project-Restaurant-Recommendaton-System)\n",
    "\n",
    "here we are given with various csv file each having specific values such as customers.csv is having values which are relevant to predict customers purchase, vendors tell about vendor rating, products they catter and order.csv acts as joining table that can be used to join all csv files and create a new matrix"
   ]
  },
  {
   "cell_type": "markdown",
   "id": "652e3ae9",
   "metadata": {
    "id": "OCYwuAqGrWYR",
    "papermill": {
     "duration": 0.091634,
     "end_time": "2022-05-30T09:26:46.767583",
     "exception": false,
     "start_time": "2022-05-30T09:26:46.675949",
     "status": "completed"
    },
    "tags": []
   },
   "source": [
    "## Loading important library"
   ]
  },
  {
   "cell_type": "code",
   "execution_count": 2,
   "id": "65565742",
   "metadata": {
    "execution": {
     "iopub.execute_input": "2022-05-30T09:26:59.824563Z",
     "iopub.status.busy": "2022-05-30T09:26:59.824339Z",
     "iopub.status.idle": "2022-05-30T09:27:04.558536Z",
     "shell.execute_reply": "2022-05-30T09:27:04.557826Z"
    },
    "id": "0brzt-LuSfnA",
    "papermill": {
     "duration": 4.830157,
     "end_time": "2022-05-30T09:27:04.562296",
     "exception": false,
     "start_time": "2022-05-30T09:26:59.732139",
     "status": "completed"
    },
    "tags": []
   },
   "outputs": [],
   "source": [
    "import pandas as pd\n",
    "import numpy as np\n",
    "import matplotlib.pyplot as plt\n",
    "import seaborn as sns\n",
    "from datetime import datetime\n",
    "from time import mktime\n",
    "from xgboost import XGBRegressor, plot_importance\n",
    "from sklearn.model_selection import train_test_split,GridSearchCV\n",
    "from sklearn.metrics.pairwise import haversine_distances\n",
    "from math import radians,sqrt\n",
    "from tqdm import tqdm\n",
    "from surprise import Reader, Dataset, BaselineOnly ,SVDpp, KNNBaseline\n",
    "from tensorflow.test import gpu_device_name\n",
    "import pickle\n",
    "from sklearn.metrics import mean_squared_error,make_scorer\n",
    "from statistics import mode\n",
    "import warnings\n",
    "warnings.filterwarnings('ignore')"
   ]
  },
  {
   "cell_type": "code",
   "execution_count": 3,
   "id": "f8d8a3c6",
   "metadata": {
    "execution": {
     "iopub.execute_input": "2022-05-30T09:27:04.753622Z",
     "iopub.status.busy": "2022-05-30T09:27:04.753367Z",
     "iopub.status.idle": "2022-05-30T09:27:06.711568Z",
     "shell.execute_reply": "2022-05-30T09:27:06.710354Z"
    },
    "id": "AW8frZ2A28Cu",
    "papermill": {
     "duration": 2.055243,
     "end_time": "2022-05-30T09:27:06.714082",
     "exception": false,
     "start_time": "2022-05-30T09:27:04.658839",
     "status": "completed"
    },
    "tags": []
   },
   "outputs": [
    {
     "name": "stderr",
     "output_type": "stream",
     "text": [
      "2022-05-30 09:27:04.756222: I tensorflow/core/platform/cpu_feature_guard.cc:142] This TensorFlow binary is optimized with oneAPI Deep Neural Network Library (oneDNN) to use the following CPU instructions in performance-critical operations:  AVX2 AVX512F FMA\n",
      "To enable them in other operations, rebuild TensorFlow with the appropriate compiler flags.\n",
      "2022-05-30 09:27:04.806945: I tensorflow/stream_executor/cuda/cuda_gpu_executor.cc:937] successful NUMA node read from SysFS had negative value (-1), but there must be at least one NUMA node, so returning NUMA node zero\n",
      "2022-05-30 09:27:04.894332: I tensorflow/stream_executor/cuda/cuda_gpu_executor.cc:937] successful NUMA node read from SysFS had negative value (-1), but there must be at least one NUMA node, so returning NUMA node zero\n",
      "2022-05-30 09:27:04.895128: I tensorflow/stream_executor/cuda/cuda_gpu_executor.cc:937] successful NUMA node read from SysFS had negative value (-1), but there must be at least one NUMA node, so returning NUMA node zero\n",
      "2022-05-30 09:27:06.698764: I tensorflow/stream_executor/cuda/cuda_gpu_executor.cc:937] successful NUMA node read from SysFS had negative value (-1), but there must be at least one NUMA node, so returning NUMA node zero\n",
      "2022-05-30 09:27:06.699692: I tensorflow/stream_executor/cuda/cuda_gpu_executor.cc:937] successful NUMA node read from SysFS had negative value (-1), but there must be at least one NUMA node, so returning NUMA node zero\n",
      "2022-05-30 09:27:06.700360: I tensorflow/stream_executor/cuda/cuda_gpu_executor.cc:937] successful NUMA node read from SysFS had negative value (-1), but there must be at least one NUMA node, so returning NUMA node zero\n",
      "2022-05-30 09:27:06.701655: I tensorflow/core/common_runtime/gpu/gpu_device.cc:1510] Created device /device:GPU:0 with 15403 MB memory:  -> device: 0, name: Tesla P100-PCIE-16GB, pci bus id: 0000:00:04.0, compute capability: 6.0\n"
     ]
    }
   ],
   "source": [
    "GPU=1 if gpu_device_name()=='/device:GPU:0' else 0"
   ]
  },
  {
   "cell_type": "markdown",
   "id": "e9e596cc",
   "metadata": {
    "id": "Gx4OsgEwTHqY",
    "papermill": {
     "duration": 0.091794,
     "end_time": "2022-05-30T09:27:06.897908",
     "exception": false,
     "start_time": "2022-05-30T09:27:06.806114",
     "status": "completed"
    },
    "tags": []
   },
   "source": [
    "## Data preprocessing and E.D.A."
   ]
  },
  {
   "cell_type": "markdown",
   "id": "554fc583",
   "metadata": {
    "id": "gmjPmaXf594D",
    "papermill": {
     "duration": 0.093981,
     "end_time": "2022-05-30T09:27:07.085236",
     "exception": false,
     "start_time": "2022-05-30T09:27:06.991255",
     "status": "completed"
    },
    "tags": []
   },
   "source": [
    "### Vendors.CSV"
   ]
  },
  {
   "cell_type": "code",
   "execution_count": 4,
   "id": "dd5cfeff",
   "metadata": {
    "execution": {
     "iopub.execute_input": "2022-05-30T09:27:07.271131Z",
     "iopub.status.busy": "2022-05-30T09:27:07.270873Z",
     "iopub.status.idle": "2022-05-30T09:27:07.315127Z",
     "shell.execute_reply": "2022-05-30T09:27:07.314466Z"
    },
    "id": "bN_ajLWATGib",
    "outputId": "50c3f9c1-145c-470a-dad1-a5791f091914",
    "papermill": {
     "duration": 0.139044,
     "end_time": "2022-05-30T09:27:07.317172",
     "exception": false,
     "start_time": "2022-05-30T09:27:07.178128",
     "status": "completed"
    },
    "tags": []
   },
   "outputs": [
    {
     "data": {
      "text/html": [
       "<div>\n",
       "<style scoped>\n",
       "    .dataframe tbody tr th:only-of-type {\n",
       "        vertical-align: middle;\n",
       "    }\n",
       "\n",
       "    .dataframe tbody tr th {\n",
       "        vertical-align: top;\n",
       "    }\n",
       "\n",
       "    .dataframe thead th {\n",
       "        text-align: right;\n",
       "    }\n",
       "</style>\n",
       "<table border=\"1\" class=\"dataframe\">\n",
       "  <thead>\n",
       "    <tr style=\"text-align: right;\">\n",
       "      <th></th>\n",
       "      <th>id</th>\n",
       "      <th>authentication_id</th>\n",
       "      <th>latitude</th>\n",
       "      <th>longitude</th>\n",
       "      <th>vendor_category_en</th>\n",
       "      <th>vendor_category_id</th>\n",
       "      <th>delivery_charge</th>\n",
       "      <th>serving_distance</th>\n",
       "      <th>is_open</th>\n",
       "      <th>OpeningTime</th>\n",
       "      <th>...</th>\n",
       "      <th>open_close_flags</th>\n",
       "      <th>vendor_tag</th>\n",
       "      <th>vendor_tag_name</th>\n",
       "      <th>one_click_vendor</th>\n",
       "      <th>country_id</th>\n",
       "      <th>city_id</th>\n",
       "      <th>created_at</th>\n",
       "      <th>updated_at</th>\n",
       "      <th>device_type</th>\n",
       "      <th>display_orders</th>\n",
       "    </tr>\n",
       "  </thead>\n",
       "  <tbody>\n",
       "    <tr>\n",
       "      <th>0</th>\n",
       "      <td>4</td>\n",
       "      <td>118597.0</td>\n",
       "      <td>-0.588596</td>\n",
       "      <td>0.754434</td>\n",
       "      <td>Restaurants</td>\n",
       "      <td>2.0</td>\n",
       "      <td>0.0</td>\n",
       "      <td>6.0</td>\n",
       "      <td>1.0</td>\n",
       "      <td>11:00AM-11:30PM</td>\n",
       "      <td>...</td>\n",
       "      <td>1.0</td>\n",
       "      <td>2,4,5,8,91,22,12,24,16,23</td>\n",
       "      <td>Arabic,Breakfast,Burgers,Desserts,Free Deliver...</td>\n",
       "      <td>Y</td>\n",
       "      <td>1.0</td>\n",
       "      <td>1.0</td>\n",
       "      <td>2018-01-30 14:42:04</td>\n",
       "      <td>2020-04-07 15:12:43</td>\n",
       "      <td>3</td>\n",
       "      <td>1</td>\n",
       "    </tr>\n",
       "    <tr>\n",
       "      <th>1</th>\n",
       "      <td>13</td>\n",
       "      <td>118608.0</td>\n",
       "      <td>-0.471654</td>\n",
       "      <td>0.744470</td>\n",
       "      <td>Restaurants</td>\n",
       "      <td>2.0</td>\n",
       "      <td>0.7</td>\n",
       "      <td>5.0</td>\n",
       "      <td>1.0</td>\n",
       "      <td>08:30AM-10:30PM</td>\n",
       "      <td>...</td>\n",
       "      <td>1.0</td>\n",
       "      <td>4,41,51,34,27,15,24,16,28</td>\n",
       "      <td>Breakfast,Cakes,Crepes,Italian,Pasta,Pizzas,Sa...</td>\n",
       "      <td>Y</td>\n",
       "      <td>1.0</td>\n",
       "      <td>1.0</td>\n",
       "      <td>2018-05-03 12:32:06</td>\n",
       "      <td>2020-04-05 20:46:03</td>\n",
       "      <td>3</td>\n",
       "      <td>1</td>\n",
       "    </tr>\n",
       "  </tbody>\n",
       "</table>\n",
       "<p>2 rows × 59 columns</p>\n",
       "</div>"
      ],
      "text/plain": [
       "   id  authentication_id  latitude  longitude vendor_category_en  \\\n",
       "0   4           118597.0 -0.588596   0.754434        Restaurants   \n",
       "1  13           118608.0 -0.471654   0.744470        Restaurants   \n",
       "\n",
       "   vendor_category_id  delivery_charge  serving_distance  is_open  \\\n",
       "0                 2.0              0.0               6.0      1.0   \n",
       "1                 2.0              0.7               5.0      1.0   \n",
       "\n",
       "       OpeningTime  ... open_close_flags                 vendor_tag  \\\n",
       "0  11:00AM-11:30PM  ...              1.0  2,4,5,8,91,22,12,24,16,23   \n",
       "1  08:30AM-10:30PM  ...              1.0  4,41,51,34,27,15,24,16,28   \n",
       "\n",
       "                                     vendor_tag_name one_click_vendor  \\\n",
       "0  Arabic,Breakfast,Burgers,Desserts,Free Deliver...                Y   \n",
       "1  Breakfast,Cakes,Crepes,Italian,Pasta,Pizzas,Sa...                Y   \n",
       "\n",
       "   country_id  city_id           created_at           updated_at device_type  \\\n",
       "0         1.0      1.0  2018-01-30 14:42:04  2020-04-07 15:12:43           3   \n",
       "1         1.0      1.0  2018-05-03 12:32:06  2020-04-05 20:46:03           3   \n",
       "\n",
       "   display_orders  \n",
       "0               1  \n",
       "1               1  \n",
       "\n",
       "[2 rows x 59 columns]"
      ]
     },
     "execution_count": 4,
     "metadata": {},
     "output_type": "execute_result"
    }
   ],
   "source": [
    "vendors=pd.read_csv(\"/kaggle/input/restaurant-recommendation-challenge/vendors.csv\")\n",
    "vendors.head(2)"
   ]
  },
  {
   "cell_type": "code",
   "execution_count": 5,
   "id": "5a5a562f",
   "metadata": {
    "execution": {
     "iopub.execute_input": "2022-05-30T09:27:07.505824Z",
     "iopub.status.busy": "2022-05-30T09:27:07.505224Z",
     "iopub.status.idle": "2022-05-30T09:27:07.523701Z",
     "shell.execute_reply": "2022-05-30T09:27:07.522646Z"
    },
    "id": "Wigomf-sUFZ5",
    "outputId": "020e421e-c2e1-4c99-e5d9-b2f6aaad82b9",
    "papermill": {
     "duration": 0.114466,
     "end_time": "2022-05-30T09:27:07.525654",
     "exception": false,
     "start_time": "2022-05-30T09:27:07.411188",
     "status": "completed"
    },
    "tags": []
   },
   "outputs": [
    {
     "name": "stdout",
     "output_type": "stream",
     "text": [
      "Unique languages present in Vendors.CSV are            ['EN' nan]\n",
      "Unique display_orders present in Vendors.CSV are       [1]\n",
      "Unique city_is present in Vendors.CSV are              [1.]\n",
      "Unique country_id present in Vendors.CSV are           [1.]\n",
      "Unique open_close_flags present in Vendors.CSV are     [1.]\n",
      "Unique commission present in Vendors.CSV are           [ 0. nan]\n",
      "Unique is_akeed_delivering present in Vendors.CSV are  ['Yes']\n",
      "Unique one_click_vendor present in Vendors.CSV are     ['Y']\n",
      "Unique device_type present in Vendors.CSV are          [3 1]\n",
      "Unique ranks present in Vendors.CSV are                [11  1]\n"
     ]
    }
   ],
   "source": [
    "print('Unique languages present in Vendors.CSV are            {}'.format(vendors['language'].unique()))\n",
    "print('Unique display_orders present in Vendors.CSV are       {}'.format(vendors['display_orders'].unique()))\n",
    "print('Unique city_is present in Vendors.CSV are              {}'.format(vendors['city_id'].unique()))\n",
    "print('Unique country_id present in Vendors.CSV are           {}'.format(vendors['country_id'].unique()))\n",
    "print('Unique open_close_flags present in Vendors.CSV are     {}'.format(vendors['open_close_flags'].unique()))\n",
    "print('Unique commission present in Vendors.CSV are           {}'.format(vendors['commission'].unique()))\n",
    "print('Unique is_akeed_delivering present in Vendors.CSV are  {}'.format(vendors['is_akeed_delivering'].unique()))\n",
    "print('Unique one_click_vendor present in Vendors.CSV are     {}'.format(vendors['one_click_vendor'].unique()))\n",
    "print('Unique device_type present in Vendors.CSV are          {}'.format(vendors['device_type'].unique()))\n",
    "print('Unique ranks present in Vendors.CSV are                {}'.format(vendors['rank'].unique()))\n"
   ]
  },
  {
   "cell_type": "code",
   "execution_count": 6,
   "id": "b96bd8e1",
   "metadata": {
    "execution": {
     "iopub.execute_input": "2022-05-30T09:27:07.717667Z",
     "iopub.status.busy": "2022-05-30T09:27:07.716977Z",
     "iopub.status.idle": "2022-05-30T09:27:07.724601Z",
     "shell.execute_reply": "2022-05-30T09:27:07.723925Z"
    },
    "id": "YfCBZzcHVPBD",
    "outputId": "f8340ba0-4970-40bf-ea30-6301656e2da3",
    "papermill": {
     "duration": 0.104829,
     "end_time": "2022-05-30T09:27:07.726533",
     "exception": false,
     "start_time": "2022-05-30T09:27:07.621704",
     "status": "completed"
    },
    "tags": []
   },
   "outputs": [
    {
     "data": {
      "text/plain": [
       "(array([1., 0.]), 85)"
      ]
     },
     "execution_count": 6,
     "metadata": {},
     "output_type": "execute_result"
    }
   ],
   "source": [
    "vendors['status'].unique(),vendors['status'][vendors['status']==1].count()#here we cannot drop this feature as value of 0 are also significant\n",
    "vendors['is_open'].unique(),vendors['is_open'][vendors['is_open']==1].count()#significant value of 0 are present"
   ]
  },
  {
   "cell_type": "code",
   "execution_count": 7,
   "id": "cd48218e",
   "metadata": {
    "execution": {
     "iopub.execute_input": "2022-05-30T09:27:07.919308Z",
     "iopub.status.busy": "2022-05-30T09:27:07.918631Z",
     "iopub.status.idle": "2022-05-30T09:27:07.927466Z",
     "shell.execute_reply": "2022-05-30T09:27:07.926819Z"
    },
    "id": "GccviivBUSZ2",
    "papermill": {
     "duration": 0.105769,
     "end_time": "2022-05-30T09:27:07.929398",
     "exception": false,
     "start_time": "2022-05-30T09:27:07.823629",
     "status": "completed"
    },
    "tags": []
   },
   "outputs": [],
   "source": [
    "#all these columns just comprise of single value thus they make no significant effect and thus can be removed to free some memory\n",
    "vendors.drop(['language','display_orders','device_type','city_id','country_id','open_close_flags','commission','is_akeed_delivering','one_click_vendor'],axis=1,inplace=True)\n",
    "\n",
    "vendors.drop(['OpeningTime','OpeningTime2'],axis=1,inplace=True)#these values can just be obtained from day wise timings given \n",
    "\n",
    "vendors.drop('vendor_tag',axis=1,inplace=True)# This feature is just a replica of feature vendor_tag_name"
   ]
  },
  {
   "cell_type": "code",
   "execution_count": 8,
   "id": "34cb30e6",
   "metadata": {
    "execution": {
     "iopub.execute_input": "2022-05-30T09:27:08.120147Z",
     "iopub.status.busy": "2022-05-30T09:27:08.119898Z",
     "iopub.status.idle": "2022-05-30T09:27:08.130482Z",
     "shell.execute_reply": "2022-05-30T09:27:08.129742Z"
    },
    "id": "uUgcD6ZeXbK2",
    "papermill": {
     "duration": 0.107715,
     "end_time": "2022-05-30T09:27:08.132279",
     "exception": false,
     "start_time": "2022-05-30T09:27:08.024564",
     "status": "completed"
    },
    "tags": []
   },
   "outputs": [],
   "source": [
    "'''\n",
    "idea=when observed almost all weekdays has same open and close time for a single marked restaurants where as all weekends were almost same thus drop all other and keep values of one week day and one weekend\n",
    "'''\n",
    "\n",
    "vendors.drop(['thursday_from_time1','thursday_from_time2','thursday_to_time1','thursday_to_time2'],axis=1,inplace=True)\n",
    "vendors.drop(['wednesday_from_time1','wednesday_from_time2','wednesday_to_time1','wednesday_to_time2'],axis=1,inplace=True)\n",
    "vendors.drop(['monday_from_time1','monday_from_time2','monday_to_time1','monday_to_time2'],axis=1,inplace=True)\n",
    "vendors.drop(['sunday_from_time1','sunday_from_time2','sunday_to_time1','sunday_to_time2'],axis=1,inplace=True)\n",
    "vendors.drop(['friday_from_time1','friday_from_time2','friday_to_time1','friday_to_time2'],axis=1,inplace=True)"
   ]
  },
  {
   "cell_type": "code",
   "execution_count": 9,
   "id": "a8b5271c",
   "metadata": {
    "execution": {
     "iopub.execute_input": "2022-05-30T09:27:08.320635Z",
     "iopub.status.busy": "2022-05-30T09:27:08.319990Z",
     "iopub.status.idle": "2022-05-30T09:27:08.326595Z",
     "shell.execute_reply": "2022-05-30T09:27:08.325910Z"
    },
    "id": "FH5M-zaQVqFk",
    "papermill": {
     "duration": 0.10251,
     "end_time": "2022-05-30T09:27:08.328222",
     "exception": false,
     "start_time": "2022-05-30T09:27:08.225712",
     "status": "completed"
    },
    "tags": []
   },
   "outputs": [],
   "source": [
    "def tagssort(x):\n",
    "  '''\n",
    "  primary tags are given in form of {\"primary_tags\":\"0\"} this function wil convert them to int 0 or whhatever value is present\n",
    "  '''\n",
    "  a=x.split(\":\")[1]\n",
    "  return int(a.split('\"')[1])\n",
    "vendors['primary_tags'].fillna('{\"primary_tags\":\"0\"}',inplace=True)\n",
    "vendors['primary_tags']=vendors['primary_tags'].apply(tagssort)"
   ]
  },
  {
   "cell_type": "code",
   "execution_count": 10,
   "id": "dd460d1b",
   "metadata": {
    "execution": {
     "iopub.execute_input": "2022-05-30T09:27:08.525621Z",
     "iopub.status.busy": "2022-05-30T09:27:08.525363Z",
     "iopub.status.idle": "2022-05-30T09:27:08.531529Z",
     "shell.execute_reply": "2022-05-30T09:27:08.530789Z"
    },
    "id": "9R0I_SnNwSwD",
    "papermill": {
     "duration": 0.110577,
     "end_time": "2022-05-30T09:27:08.533213",
     "exception": false,
     "start_time": "2022-05-30T09:27:08.422636",
     "status": "completed"
    },
    "tags": []
   },
   "outputs": [],
   "source": [
    "vendors.rename(columns={'tuesday_from_time1':'weekdaytime1','tuesday_from_time2':'weekdaytime2','tuesday_to_time1':'weekdayclose1','tuesday_to_time2':'weekdayclose2'},inplace=True)\n",
    "vendors.rename(columns={'saturday_from_time1':'weekendtime1','saturday_from_time2':'weekendtime2','saturday_to_time1':'weekendclose1','saturday_to_time2':'weekendclose2'},inplace=True)"
   ]
  },
  {
   "cell_type": "code",
   "execution_count": 11,
   "id": "d57562ff",
   "metadata": {
    "execution": {
     "iopub.execute_input": "2022-05-30T09:27:08.721952Z",
     "iopub.status.busy": "2022-05-30T09:27:08.721241Z",
     "iopub.status.idle": "2022-05-30T09:27:08.731647Z",
     "shell.execute_reply": "2022-05-30T09:27:08.731012Z"
    },
    "id": "EbvraHXjZfeB",
    "papermill": {
     "duration": 0.107016,
     "end_time": "2022-05-30T09:27:08.733321",
     "exception": false,
     "start_time": "2022-05-30T09:27:08.626305",
     "status": "completed"
    },
    "tags": []
   },
   "outputs": [],
   "source": [
    "vendors.weekdaytime1.fillna('00:01:00',inplace=True)\n",
    "vendors.weekdaytime2.fillna('11:00:00',inplace=True)\n",
    "vendors.weekdayclose1.fillna('23:45:00',inplace=True)\n",
    "vendors.weekdayclose2.fillna('23:59:00',inplace=True)\n",
    "vendors.weekendtime1.fillna('00:01:00',inplace=True)\n",
    "vendors.weekendtime2.fillna('08:00:00',inplace=True)\n",
    "vendors.weekendclose1.fillna('23:45:00',inplace=True)\n",
    "vendors.weekendclose2.fillna('23:59:00',inplace=True)"
   ]
  },
  {
   "cell_type": "code",
   "execution_count": 12,
   "id": "9bb17c5e",
   "metadata": {
    "execution": {
     "iopub.execute_input": "2022-05-30T09:27:08.922537Z",
     "iopub.status.busy": "2022-05-30T09:27:08.921812Z",
     "iopub.status.idle": "2022-05-30T09:27:08.928349Z",
     "shell.execute_reply": "2022-05-30T09:27:08.927671Z"
    },
    "id": "8m02YvHxUkuQ",
    "papermill": {
     "duration": 0.103468,
     "end_time": "2022-05-30T09:27:08.930107",
     "exception": false,
     "start_time": "2022-05-30T09:27:08.826639",
     "status": "completed"
    },
    "tags": []
   },
   "outputs": [],
   "source": [
    "vendors['rank']=vendors['rank'].replace({1:0,11:1}) #replacing rank 11 with 1 and 1 with 0"
   ]
  },
  {
   "cell_type": "code",
   "execution_count": 13,
   "id": "ad7faeae",
   "metadata": {
    "execution": {
     "iopub.execute_input": "2022-05-30T09:27:09.121844Z",
     "iopub.status.busy": "2022-05-30T09:27:09.121554Z",
     "iopub.status.idle": "2022-05-30T09:27:09.125996Z",
     "shell.execute_reply": "2022-05-30T09:27:09.125318Z"
    },
    "id": "USCeRuPgbig6",
    "papermill": {
     "duration": 0.103371,
     "end_time": "2022-05-30T09:27:09.127682",
     "exception": false,
     "start_time": "2022-05-30T09:27:09.024311",
     "status": "completed"
    },
    "tags": []
   },
   "outputs": [],
   "source": [
    "vendors.rename(columns={'id':'vendor_id'},inplace=True)"
   ]
  },
  {
   "cell_type": "code",
   "execution_count": 14,
   "id": "12ee49c8",
   "metadata": {
    "execution": {
     "iopub.execute_input": "2022-05-30T09:27:09.318264Z",
     "iopub.status.busy": "2022-05-30T09:27:09.318007Z",
     "iopub.status.idle": "2022-05-30T09:27:09.331154Z",
     "shell.execute_reply": "2022-05-30T09:27:09.330294Z"
    },
    "id": "5hGBo88Qak5u",
    "outputId": "44cfe1a9-30d3-42de-dec3-084c01e6e086",
    "papermill": {
     "duration": 0.110445,
     "end_time": "2022-05-30T09:27:09.333373",
     "exception": false,
     "start_time": "2022-05-30T09:27:09.222928",
     "status": "completed"
    },
    "tags": []
   },
   "outputs": [
    {
     "name": "stdout",
     "output_type": "stream",
     "text": [
      "3 vendor_tag_name\n"
     ]
    }
   ],
   "source": [
    "#this snippet shows null value in each column\n",
    "for i in vendors.columns:\n",
    "  if vendors[i].isnull().sum(axis=0)>0:\n",
    "    print(vendors[i].isnull().sum(axis=0),i)"
   ]
  },
  {
   "cell_type": "code",
   "execution_count": 15,
   "id": "58b002f2",
   "metadata": {
    "execution": {
     "iopub.execute_input": "2022-05-30T09:27:09.526565Z",
     "iopub.status.busy": "2022-05-30T09:27:09.526307Z",
     "iopub.status.idle": "2022-05-30T09:27:09.534463Z",
     "shell.execute_reply": "2022-05-30T09:27:09.533845Z"
    },
    "id": "yrl0s41yaaEp",
    "papermill": {
     "duration": 0.105539,
     "end_time": "2022-05-30T09:27:09.536095",
     "exception": false,
     "start_time": "2022-05-30T09:27:09.430556",
     "status": "completed"
    },
    "tags": []
   },
   "outputs": [],
   "source": [
    "vendors.to_csv(\"vendor_prep\")"
   ]
  },
  {
   "cell_type": "markdown",
   "id": "f3a8659e",
   "metadata": {
    "id": "7k4D0Gaj6DoF",
    "papermill": {
     "duration": 0.095281,
     "end_time": "2022-05-30T09:27:09.727912",
     "exception": false,
     "start_time": "2022-05-30T09:27:09.632631",
     "status": "completed"
    },
    "tags": []
   },
   "source": [
    "### Customers.CSV"
   ]
  },
  {
   "cell_type": "code",
   "execution_count": 16,
   "id": "e3e3b8fd",
   "metadata": {
    "execution": {
     "iopub.execute_input": "2022-05-30T09:27:09.920029Z",
     "iopub.status.busy": "2022-05-30T09:27:09.919769Z",
     "iopub.status.idle": "2022-05-30T09:27:10.006521Z",
     "shell.execute_reply": "2022-05-30T09:27:10.005698Z"
    },
    "id": "iOvRKsUvadNq",
    "outputId": "82f6f8e6-c317-40f0-df32-946ac7b89770",
    "papermill": {
     "duration": 0.186104,
     "end_time": "2022-05-30T09:27:10.008791",
     "exception": false,
     "start_time": "2022-05-30T09:27:09.822687",
     "status": "completed"
    },
    "tags": []
   },
   "outputs": [
    {
     "data": {
      "text/plain": [
       "(Index(['akeed_customer_id', 'gender', 'dob', 'status', 'verified', 'language',\n",
       "        'created_at', 'updated_at'],\n",
       "       dtype='object'),\n",
       " (34674, 8))"
      ]
     },
     "execution_count": 16,
     "metadata": {},
     "output_type": "execute_result"
    }
   ],
   "source": [
    "customers=pd.read_csv(\"/kaggle/input/restaurant-recommendation-challenge/train_customers.csv\")\n",
    "customers.columns,customers.shape"
   ]
  },
  {
   "cell_type": "code",
   "execution_count": 17,
   "id": "63929c95",
   "metadata": {
    "execution": {
     "iopub.execute_input": "2022-05-30T09:27:10.201017Z",
     "iopub.status.busy": "2022-05-30T09:27:10.200751Z",
     "iopub.status.idle": "2022-05-30T09:27:10.216989Z",
     "shell.execute_reply": "2022-05-30T09:27:10.215920Z"
    },
    "id": "FtViFynFdP25",
    "outputId": "84239ac1-0698-4194-e1ef-b223faf7fe73",
    "papermill": {
     "duration": 0.114235,
     "end_time": "2022-05-30T09:27:10.219070",
     "exception": false,
     "start_time": "2022-05-30T09:27:10.104835",
     "status": "completed"
    },
    "tags": []
   },
   "outputs": [
    {
     "name": "stdout",
     "output_type": "stream",
     "text": [
      "35\n"
     ]
    }
   ],
   "source": [
    "print(customers['status'][customers['status']==0].count())\n",
    "#as status feature is extremely imbalanced with just 35 feature as 0 whereas 34500 as 1 i belive it can be removed but to remove this we need to discard value with exception ie status=0\n",
    "i=customers.index[ customers.loc[:,'status'] == 0]\n",
    "customers.drop(i,inplace=True)\n",
    "customers.drop('status',axis=1,inplace=True)"
   ]
  },
  {
   "cell_type": "code",
   "execution_count": 18,
   "id": "9df28d61",
   "metadata": {
    "execution": {
     "iopub.execute_input": "2022-05-30T09:27:10.414345Z",
     "iopub.status.busy": "2022-05-30T09:27:10.413668Z",
     "iopub.status.idle": "2022-05-30T09:27:10.421068Z",
     "shell.execute_reply": "2022-05-30T09:27:10.420366Z"
    },
    "id": "wk62ICQykKn3",
    "papermill": {
     "duration": 0.105001,
     "end_time": "2022-05-30T09:27:10.422682",
     "exception": false,
     "start_time": "2022-05-30T09:27:10.317681",
     "status": "completed"
    },
    "tags": []
   },
   "outputs": [],
   "source": [
    "customers.gender.fillna('notgiven',inplace=True)#gender can be a imp feature of concern so we just cant fill it in either gender and better is to assign them new gender "
   ]
  },
  {
   "cell_type": "code",
   "execution_count": 19,
   "id": "2e5b30dd",
   "metadata": {
    "execution": {
     "iopub.execute_input": "2022-05-30T09:27:10.614484Z",
     "iopub.status.busy": "2022-05-30T09:27:10.613650Z",
     "iopub.status.idle": "2022-05-30T09:27:10.624094Z",
     "shell.execute_reply": "2022-05-30T09:27:10.623423Z"
    },
    "id": "CMEvFGGMdYZT",
    "papermill": {
     "duration": 0.108699,
     "end_time": "2022-05-30T09:27:10.625795",
     "exception": false,
     "start_time": "2022-05-30T09:27:10.517096",
     "status": "completed"
    },
    "tags": []
   },
   "outputs": [],
   "source": [
    "customers.drop('language',axis=1,inplace=True)#single value en\n",
    "customers.drop('created_at',axis=1,inplace=True)#almost same as verified at and places where these are not identical there also verified_at is passing more imp information"
   ]
  },
  {
   "cell_type": "code",
   "execution_count": 20,
   "id": "dce764f4",
   "metadata": {
    "execution": {
     "iopub.execute_input": "2022-05-30T09:27:10.817549Z",
     "iopub.status.busy": "2022-05-30T09:27:10.817292Z",
     "iopub.status.idle": "2022-05-30T09:27:10.824434Z",
     "shell.execute_reply": "2022-05-30T09:27:10.823819Z"
    },
    "id": "GVEKLQx7eJHo",
    "papermill": {
     "duration": 0.104323,
     "end_time": "2022-05-30T09:27:10.826239",
     "exception": false,
     "start_time": "2022-05-30T09:27:10.721916",
     "status": "completed"
    },
    "tags": []
   },
   "outputs": [],
   "source": [
    "customers.drop('dob',axis=1,inplace=True)# almost 80% values are NaN and this cannot be forged as it might be an important parameter\n",
    "customers.rename(columns={'akeed_customer_id':'customer_id'},inplace=True)"
   ]
  },
  {
   "cell_type": "code",
   "execution_count": 21,
   "id": "be87a3a0",
   "metadata": {
    "execution": {
     "iopub.execute_input": "2022-05-30T09:27:11.015959Z",
     "iopub.status.busy": "2022-05-30T09:27:11.015532Z",
     "iopub.status.idle": "2022-05-30T09:27:11.103493Z",
     "shell.execute_reply": "2022-05-30T09:27:11.102694Z"
    },
    "id": "B4O0LL9weTyh",
    "outputId": "c4ba80fe-f4ee-45a7-bfc2-2cda7e6469a5",
    "papermill": {
     "duration": 0.184913,
     "end_time": "2022-05-30T09:27:11.105436",
     "exception": false,
     "start_time": "2022-05-30T09:27:10.920523",
     "status": "completed"
    },
    "tags": []
   },
   "outputs": [
    {
     "data": {
      "text/plain": [
       "Index(['customer_id', 'location_number', 'location_type', 'latitude',\n",
       "       'longitude'],\n",
       "      dtype='object')"
      ]
     },
     "execution_count": 21,
     "metadata": {},
     "output_type": "execute_result"
    }
   ],
   "source": [
    "location=pd.read_csv('/kaggle/input/restaurant-recommendation-challenge/train_locations.csv')\n",
    "location.columns"
   ]
  },
  {
   "cell_type": "code",
   "execution_count": 22,
   "id": "088dbfc0",
   "metadata": {
    "execution": {
     "iopub.execute_input": "2022-05-30T09:27:11.297929Z",
     "iopub.status.busy": "2022-05-30T09:27:11.297120Z",
     "iopub.status.idle": "2022-05-30T09:27:11.307190Z",
     "shell.execute_reply": "2022-05-30T09:27:11.306521Z"
    },
    "id": "PkqY3d0bh1yJ",
    "papermill": {
     "duration": 0.108805,
     "end_time": "2022-05-30T09:27:11.308892",
     "exception": false,
     "start_time": "2022-05-30T09:27:11.200087",
     "status": "completed"
    },
    "tags": []
   },
   "outputs": [],
   "source": [
    "location['location_type'].fillna('Other',inplace=True)"
   ]
  },
  {
   "cell_type": "code",
   "execution_count": 23,
   "id": "06bbc1a0",
   "metadata": {
    "execution": {
     "iopub.execute_input": "2022-05-30T09:27:11.503510Z",
     "iopub.status.busy": "2022-05-30T09:27:11.502838Z",
     "iopub.status.idle": "2022-05-30T09:27:11.524423Z",
     "shell.execute_reply": "2022-05-30T09:27:11.523670Z"
    },
    "id": "2RrjHzbdiNl6",
    "outputId": "43dac496-2798-4e5a-e69d-a4127fe34d53",
    "papermill": {
     "duration": 0.122283,
     "end_time": "2022-05-30T09:27:11.526198",
     "exception": false,
     "start_time": "2022-05-30T09:27:11.403915",
     "status": "completed"
    },
    "tags": []
   },
   "outputs": [
    {
     "name": "stdout",
     "output_type": "stream",
     "text": [
      "0 customer_id\n",
      "0 location_number\n",
      "0 location_type\n",
      "6 latitude\n",
      "6 longitude\n"
     ]
    },
    {
     "data": {
      "text/plain": [
       "(59503, 5)"
      ]
     },
     "execution_count": 23,
     "metadata": {},
     "output_type": "execute_result"
    }
   ],
   "source": [
    "for i in location.columns:\n",
    "  print(location[i].isnull().sum(axis=0),i)\n",
    "location.shape"
   ]
  },
  {
   "cell_type": "code",
   "execution_count": 24,
   "id": "006ff7ad",
   "metadata": {
    "execution": {
     "iopub.execute_input": "2022-05-30T09:27:11.721900Z",
     "iopub.status.busy": "2022-05-30T09:27:11.721345Z",
     "iopub.status.idle": "2022-05-30T09:27:11.741629Z",
     "shell.execute_reply": "2022-05-30T09:27:11.741002Z"
    },
    "id": "DcJsPBgEix_F",
    "papermill": {
     "duration": 0.119324,
     "end_time": "2022-05-30T09:27:11.743266",
     "exception": false,
     "start_time": "2022-05-30T09:27:11.623942",
     "status": "completed"
    },
    "tags": []
   },
   "outputs": [],
   "source": [
    "location.dropna(inplace=True)"
   ]
  },
  {
   "cell_type": "code",
   "execution_count": 25,
   "id": "fde4501f",
   "metadata": {
    "execution": {
     "iopub.execute_input": "2022-05-30T09:27:11.938429Z",
     "iopub.status.busy": "2022-05-30T09:27:11.937746Z",
     "iopub.status.idle": "2022-05-30T09:27:11.975886Z",
     "shell.execute_reply": "2022-05-30T09:27:11.975213Z"
    },
    "id": "-OmSklxmiKiv",
    "papermill": {
     "duration": 0.138328,
     "end_time": "2022-05-30T09:27:11.977982",
     "exception": false,
     "start_time": "2022-05-30T09:27:11.839654",
     "status": "completed"
    },
    "tags": []
   },
   "outputs": [],
   "source": [
    "consumer=pd.merge(customers,location,on='customer_id')#merge customer and location to form consumer"
   ]
  },
  {
   "cell_type": "code",
   "execution_count": 26,
   "id": "713035ba",
   "metadata": {
    "execution": {
     "iopub.execute_input": "2022-05-30T09:27:12.172904Z",
     "iopub.status.busy": "2022-05-30T09:27:12.172192Z",
     "iopub.status.idle": "2022-05-30T09:27:12.206491Z",
     "shell.execute_reply": "2022-05-30T09:27:12.205296Z"
    },
    "id": "RxcAJDRjj1-Q",
    "outputId": "4f58a805-adb1-477d-a7cd-e9b926c5be2f",
    "papermill": {
     "duration": 0.133527,
     "end_time": "2022-05-30T09:27:12.208670",
     "exception": false,
     "start_time": "2022-05-30T09:27:12.075143",
     "status": "completed"
    },
    "tags": []
   },
   "outputs": [
    {
     "name": "stdout",
     "output_type": "stream",
     "text": [
      "0 customer_id\n",
      "0 gender\n",
      "0 verified\n",
      "0 updated_at\n",
      "0 location_number\n",
      "0 location_type\n",
      "0 latitude\n",
      "0 longitude\n"
     ]
    },
    {
     "data": {
      "text/plain": [
       "(58146, 8)"
      ]
     },
     "execution_count": 26,
     "metadata": {},
     "output_type": "execute_result"
    }
   ],
   "source": [
    "for i in consumer.columns:\n",
    "  print(consumer[i].isnull().sum(axis=0),i)\n",
    "consumer.shape"
   ]
  },
  {
   "cell_type": "code",
   "execution_count": 27,
   "id": "01da6829",
   "metadata": {
    "execution": {
     "iopub.execute_input": "2022-05-30T09:27:12.405655Z",
     "iopub.status.busy": "2022-05-30T09:27:12.405119Z",
     "iopub.status.idle": "2022-05-30T09:27:12.438914Z",
     "shell.execute_reply": "2022-05-30T09:27:12.438237Z"
    },
    "id": "Ji2pEpfzPNNI",
    "papermill": {
     "duration": 0.132799,
     "end_time": "2022-05-30T09:27:12.440747",
     "exception": false,
     "start_time": "2022-05-30T09:27:12.307948",
     "status": "completed"
    },
    "tags": []
   },
   "outputs": [],
   "source": [
    "def gender(x):\n",
    "    '''\n",
    "    values in gender were of class \"Male\",\"Male  \",\"male \" so this function brings them to base\n",
    "    '''\n",
    "    try:\n",
    "      x1=x.split(\" \")[0]\n",
    "      x1=x1.lower()\n",
    "      return x1\n",
    "    except:\n",
    "      return np.nan\n",
    "consumer.gender=consumer.gender.apply(gender)"
   ]
  },
  {
   "cell_type": "code",
   "execution_count": 28,
   "id": "dd92261e",
   "metadata": {
    "execution": {
     "iopub.execute_input": "2022-05-30T09:27:12.732202Z",
     "iopub.status.busy": "2022-05-30T09:27:12.731896Z",
     "iopub.status.idle": "2022-05-30T09:27:12.752624Z",
     "shell.execute_reply": "2022-05-30T09:27:12.752007Z"
    },
    "id": "nypHGuGxRM6M",
    "outputId": "2313fae0-1542-4ded-c1a1-45a3cca54ad5",
    "papermill": {
     "duration": 0.189324,
     "end_time": "2022-05-30T09:27:12.755108",
     "exception": false,
     "start_time": "2022-05-30T09:27:12.565784",
     "status": "completed"
    },
    "tags": []
   },
   "outputs": [
    {
     "data": {
      "text/plain": [
       "3"
      ]
     },
     "execution_count": 28,
     "metadata": {},
     "output_type": "execute_result"
    }
   ],
   "source": [
    "consumer.gender[consumer.gender==''].count()"
   ]
  },
  {
   "cell_type": "markdown",
   "id": "8215f186",
   "metadata": {
    "id": "3Rhxep5C6gmz",
    "papermill": {
     "duration": 0.163026,
     "end_time": "2022-05-30T09:27:13.085990",
     "exception": false,
     "start_time": "2022-05-30T09:27:12.922964",
     "status": "completed"
    },
    "tags": []
   },
   "source": [
    "### Orders.CSV"
   ]
  },
  {
   "cell_type": "code",
   "execution_count": 29,
   "id": "59c6e994",
   "metadata": {
    "execution": {
     "iopub.execute_input": "2022-05-30T09:27:13.281776Z",
     "iopub.status.busy": "2022-05-30T09:27:13.281520Z",
     "iopub.status.idle": "2022-05-30T09:27:14.050590Z",
     "shell.execute_reply": "2022-05-30T09:27:14.049911Z"
    },
    "id": "eIEsiiWilCyC",
    "outputId": "c8314875-c0cf-4b96-91d8-9cb33a3b12e4",
    "papermill": {
     "duration": 0.868252,
     "end_time": "2022-05-30T09:27:14.052521",
     "exception": false,
     "start_time": "2022-05-30T09:27:13.184269",
     "status": "completed"
    },
    "tags": []
   },
   "outputs": [
    {
     "data": {
      "text/plain": [
       "Index(['akeed_order_id', 'customer_id', 'item_count', 'grand_total',\n",
       "       'payment_mode', 'promo_code', 'vendor_discount_amount',\n",
       "       'promo_code_discount_percentage', 'is_favorite', 'is_rated',\n",
       "       'vendor_rating', 'driver_rating', 'deliverydistance', 'preparationtime',\n",
       "       'delivery_time', 'order_accepted_time', 'driver_accepted_time',\n",
       "       'ready_for_pickup_time', 'picked_up_time', 'delivered_time',\n",
       "       'delivery_date', 'vendor_id', 'created_at', 'LOCATION_NUMBER',\n",
       "       'LOCATION_TYPE', 'CID X LOC_NUM X VENDOR'],\n",
       "      dtype='object')"
      ]
     },
     "execution_count": 29,
     "metadata": {},
     "output_type": "execute_result"
    }
   ],
   "source": [
    "orders=pd.read_csv('/kaggle/input/restaurant-recommendation-challenge/orders.csv')\n",
    "orders.columns"
   ]
  },
  {
   "cell_type": "code",
   "execution_count": 30,
   "id": "afc358ef",
   "metadata": {
    "execution": {
     "iopub.execute_input": "2022-05-30T09:27:14.249944Z",
     "iopub.status.busy": "2022-05-30T09:27:14.249250Z",
     "iopub.status.idle": "2022-05-30T09:27:14.279827Z",
     "shell.execute_reply": "2022-05-30T09:27:14.279095Z"
    },
    "id": "u1AvCQLslKOn",
    "outputId": "24d96143-a356-4b0f-c14e-57ae4bdfe808",
    "papermill": {
     "duration": 0.13095,
     "end_time": "2022-05-30T09:27:14.281603",
     "exception": false,
     "start_time": "2022-05-30T09:27:14.150653",
     "status": "completed"
    },
    "tags": []
   },
   "outputs": [],
   "source": [
    "orders['promo_code'].fillna(0,inplace=True)\n",
    "#i dont need promo code instead it would be better to get weather promo code is being applied or not\n",
    "i=orders.index[orders.loc[:,'promo_code'] != 0]\n",
    "orders['promo_code'][i]=1"
   ]
  },
  {
   "cell_type": "code",
   "execution_count": 31,
   "id": "8ce292ed",
   "metadata": {
    "execution": {
     "iopub.execute_input": "2022-05-30T09:27:14.480568Z",
     "iopub.status.busy": "2022-05-30T09:27:14.480321Z",
     "iopub.status.idle": "2022-05-30T09:27:14.881819Z",
     "shell.execute_reply": "2022-05-30T09:27:14.881137Z"
    },
    "id": "dSgBUvmBlXEL",
    "outputId": "d01ee758-422a-403f-dba6-99e65fc900ba",
    "papermill": {
     "duration": 0.502347,
     "end_time": "2022-05-30T09:27:14.884072",
     "exception": false,
     "start_time": "2022-05-30T09:27:14.381725",
     "status": "completed"
    },
    "tags": []
   },
   "outputs": [
    {
     "data": {
      "text/plain": [
       "<AxesSubplot:xlabel='is_rated', ylabel='Count'>"
      ]
     },
     "execution_count": 31,
     "metadata": {},
     "output_type": "execute_result"
    },
    {
     "data": {
      "image/png": "[encoded data removed]",
      "text/plain": [
       "<Figure size 432x288 with 1 Axes>"
      ]
     },
     "metadata": {
      "needs_background": "light"
     },
     "output_type": "display_data"
    }
   ],
   "source": [
    "sns.histplot(orders.is_rated)"
   ]
  },
  {
   "cell_type": "code",
   "execution_count": 32,
   "id": "f4eb6d12",
   "metadata": {
    "execution": {
     "iopub.execute_input": "2022-05-30T09:27:15.086907Z",
     "iopub.status.busy": "2022-05-30T09:27:15.086627Z",
     "iopub.status.idle": "2022-05-30T09:27:15.120405Z",
     "shell.execute_reply": "2022-05-30T09:27:15.119588Z"
    },
    "id": "GOuidF8Ljbre",
    "outputId": "c6dabe84-07ee-44d6-cceb-0f27479d629a",
    "papermill": {
     "duration": 0.137571,
     "end_time": "2022-05-30T09:27:15.122249",
     "exception": false,
     "start_time": "2022-05-30T09:27:14.984678",
     "status": "completed"
    },
    "tags": []
   },
   "outputs": [
    {
     "data": {
      "text/plain": [
       "count    25111.0\n",
       "mean         0.0\n",
       "std          0.0\n",
       "min          0.0\n",
       "25%          0.0\n",
       "50%          0.0\n",
       "75%          0.0\n",
       "max          0.0\n",
       "Name: vendor_rating, dtype: float64"
      ]
     },
     "execution_count": 32,
     "metadata": {},
     "output_type": "execute_result"
    }
   ],
   "source": [
    "orders.vendor_rating[orders.is_rated=='No'].describe()"
   ]
  },
  {
   "cell_type": "code",
   "execution_count": 33,
   "id": "1cd3428b",
   "metadata": {
    "execution": {
     "iopub.execute_input": "2022-05-30T09:27:15.322260Z",
     "iopub.status.busy": "2022-05-30T09:27:15.322009Z",
     "iopub.status.idle": "2022-05-30T09:27:15.415539Z",
     "shell.execute_reply": "2022-05-30T09:27:15.414789Z"
    },
    "id": "hzIh-o7jkLGq",
    "papermill": {
     "duration": 0.196112,
     "end_time": "2022-05-30T09:27:15.417610",
     "exception": false,
     "start_time": "2022-05-30T09:27:15.221498",
     "status": "completed"
    },
    "tags": []
   },
   "outputs": [],
   "source": [
    "#if a order is not rated then it is having either NaN values or 0 as rating and since our rating is main value we are using to compare.\n",
    "i=orders.index[orders.loc[:,'is_rated'] == 'No']\n",
    "orders.drop(i,inplace=True)\n",
    "orders.drop('is_rated',axis=1,inplace=True)"
   ]
  },
  {
   "cell_type": "code",
   "execution_count": 34,
   "id": "a39c89eb",
   "metadata": {
    "execution": {
     "iopub.execute_input": "2022-05-30T09:27:15.613983Z",
     "iopub.status.busy": "2022-05-30T09:27:15.613726Z",
     "iopub.status.idle": "2022-05-30T09:27:15.620882Z",
     "shell.execute_reply": "2022-05-30T09:27:15.620121Z"
    },
    "id": "VHmhYDkgBzFq",
    "outputId": "f0d4d529-2fad-4972-f18d-a3a19347b9eb",
    "papermill": {
     "duration": 0.108003,
     "end_time": "2022-05-30T09:27:15.623607",
     "exception": false,
     "start_time": "2022-05-30T09:27:15.515604",
     "status": "completed"
    },
    "tags": []
   },
   "outputs": [
    {
     "data": {
      "text/plain": [
       "19670"
      ]
     },
     "execution_count": 34,
     "metadata": {},
     "output_type": "execute_result"
    }
   ],
   "source": [
    "orders['delivery_date'].isnull().sum(axis=0)"
   ]
  },
  {
   "cell_type": "markdown",
   "id": "b29682f1",
   "metadata": {
    "id": "HDfkMIUbDgnk",
    "papermill": {
     "duration": 0.098462,
     "end_time": "2022-05-30T09:27:15.821062",
     "exception": false,
     "start_time": "2022-05-30T09:27:15.722600",
     "status": "completed"
    },
    "tags": []
   },
   "source": [
    "as most delivery dates are null we need to drop this and post here we cannot predict any temporal nature"
   ]
  },
  {
   "cell_type": "code",
   "execution_count": 35,
   "id": "736d5f46",
   "metadata": {
    "execution": {
     "iopub.execute_input": "2022-05-30T09:27:16.020449Z",
     "iopub.status.busy": "2022-05-30T09:27:16.020190Z",
     "iopub.status.idle": "2022-05-30T09:27:16.146406Z",
     "shell.execute_reply": "2022-05-30T09:27:16.145665Z"
    },
    "id": "ambtTXDzlsPa",
    "papermill": {
     "duration": 0.227499,
     "end_time": "2022-05-30T09:27:16.148693",
     "exception": false,
     "start_time": "2022-05-30T09:27:15.921194",
     "status": "completed"
    },
    "tags": []
   },
   "outputs": [],
   "source": [
    "def minutes(x):\n",
    "  x1=x.split(\" \")[1]\n",
    "  #print(x1)\n",
    "  if x1.split(\":\")[0]=='0':\n",
    "    k=np.nan\n",
    "  elif (x1.split(\":\")[0]=='00'):\n",
    "    k=13*3600+int(x1.split(\":\")[1])*60+int(x1.split(\":\")[2])\n",
    "  else:\n",
    "    k=int(x1.split(\":\")[0])*3600+int(x1.split(\":\")[1])*60+int(x1.split(\":\")[2])\n",
    "  return k\n",
    "orders.order_accepted_time.fillna('0 0:0',inplace=True)\n",
    "orders['order_accepted_time']=orders.order_accepted_time.apply(minutes)\n",
    "orders.delivered_time.fillna('0 0:0',inplace=True)\n",
    "orders['delivered_time']=orders['delivered_time'].apply(minutes)\n",
    "orders['time_taken']=abs(orders['delivered_time']-orders['order_accepted_time'])\n",
    "orders.time_taken.fillna(orders.time_taken.median(),inplace=True)"
   ]
  },
  {
   "cell_type": "code",
   "execution_count": 36,
   "id": "4ba2ce78",
   "metadata": {
    "execution": {
     "iopub.execute_input": "2022-05-30T09:27:16.349565Z",
     "iopub.status.busy": "2022-05-30T09:27:16.349130Z",
     "iopub.status.idle": "2022-05-30T09:27:16.362841Z",
     "shell.execute_reply": "2022-05-30T09:27:16.362135Z"
    },
    "id": "WqbBY2MppFML",
    "papermill": {
     "duration": 0.114627,
     "end_time": "2022-05-30T09:27:16.364708",
     "exception": false,
     "start_time": "2022-05-30T09:27:16.250081",
     "status": "completed"
    },
    "tags": []
   },
   "outputs": [],
   "source": [
    "#I doubt that there can be no 0 ratings as usually ratings start from 1-5 or 1-10\n",
    "i=orders.index[orders.loc[:,'vendor_rating'] == 0]\n",
    "orders.drop(i,inplace=True)"
   ]
  },
  {
   "cell_type": "code",
   "execution_count": 37,
   "id": "7799217d",
   "metadata": {
    "execution": {
     "iopub.execute_input": "2022-05-30T09:27:16.565356Z",
     "iopub.status.busy": "2022-05-30T09:27:16.565120Z",
     "iopub.status.idle": "2022-05-30T09:27:16.569904Z",
     "shell.execute_reply": "2022-05-30T09:27:16.569107Z"
    },
    "id": "mwbW5Kz0o4sf",
    "papermill": {
     "duration": 0.107508,
     "end_time": "2022-05-30T09:27:16.572014",
     "exception": false,
     "start_time": "2022-05-30T09:27:16.464506",
     "status": "completed"
    },
    "tags": []
   },
   "outputs": [],
   "source": [
    "orders.promo_code_discount_percentage.fillna(0,inplace=True)"
   ]
  },
  {
   "cell_type": "code",
   "execution_count": 38,
   "id": "f8356754",
   "metadata": {
    "execution": {
     "iopub.execute_input": "2022-05-30T09:27:16.774019Z",
     "iopub.status.busy": "2022-05-30T09:27:16.773747Z",
     "iopub.status.idle": "2022-05-30T09:27:16.780050Z",
     "shell.execute_reply": "2022-05-30T09:27:16.779367Z"
    },
    "id": "5ASjOcjBpQKu",
    "papermill": {
     "duration": 0.10802,
     "end_time": "2022-05-30T09:27:16.781758",
     "exception": false,
     "start_time": "2022-05-30T09:27:16.673738",
     "status": "completed"
    },
    "tags": []
   },
   "outputs": [],
   "source": [
    "orders.is_favorite.fillna('No',inplace=True)"
   ]
  },
  {
   "cell_type": "code",
   "execution_count": 39,
   "id": "417aaa28",
   "metadata": {
    "execution": {
     "iopub.execute_input": "2022-05-30T09:27:16.983753Z",
     "iopub.status.busy": "2022-05-30T09:27:16.983529Z",
     "iopub.status.idle": "2022-05-30T09:27:16.989287Z",
     "shell.execute_reply": "2022-05-30T09:27:16.988617Z"
    },
    "id": "NV5fiLypnxkL",
    "papermill": {
     "duration": 0.110378,
     "end_time": "2022-05-30T09:27:16.991117",
     "exception": false,
     "start_time": "2022-05-30T09:27:16.880739",
     "status": "completed"
    },
    "tags": []
   },
   "outputs": [],
   "source": [
    "orders.item_count.fillna(orders.item_count.median(),inplace=True)"
   ]
  },
  {
   "cell_type": "code",
   "execution_count": 40,
   "id": "6689735d",
   "metadata": {
    "execution": {
     "iopub.execute_input": "2022-05-30T09:27:17.192588Z",
     "iopub.status.busy": "2022-05-30T09:27:17.191800Z",
     "iopub.status.idle": "2022-05-30T09:27:17.203385Z",
     "shell.execute_reply": "2022-05-30T09:27:17.202714Z"
    },
    "id": "wbJPAbvvl0Cn",
    "papermill": {
     "duration": 0.113154,
     "end_time": "2022-05-30T09:27:17.205231",
     "exception": false,
     "start_time": "2022-05-30T09:27:17.092077",
     "status": "completed"
    },
    "tags": []
   },
   "outputs": [],
   "source": [
    "orders.drop(['order_accepted_time', 'driver_accepted_time','ready_for_pickup_time', 'picked_up_time', 'delivered_time'],axis=1,inplace=True)"
   ]
  },
  {
   "cell_type": "markdown",
   "id": "cbbb4ac3",
   "metadata": {
    "id": "BkNiOwqk6qzB",
    "papermill": {
     "duration": 0.099358,
     "end_time": "2022-05-30T09:27:17.419526",
     "exception": false,
     "start_time": "2022-05-30T09:27:17.320168",
     "status": "completed"
    },
    "tags": []
   },
   "source": [
    "### Merging All to form df final"
   ]
  },
  {
   "cell_type": "code",
   "execution_count": 41,
   "id": "9a887216",
   "metadata": {
    "execution": {
     "iopub.execute_input": "2022-05-30T09:27:17.620473Z",
     "iopub.status.busy": "2022-05-30T09:27:17.619737Z",
     "iopub.status.idle": "2022-05-30T09:27:17.736147Z",
     "shell.execute_reply": "2022-05-30T09:27:17.735403Z"
    },
    "id": "-bzvpDRRmPpE",
    "papermill": {
     "duration": 0.218854,
     "end_time": "2022-05-30T09:27:17.738267",
     "exception": false,
     "start_time": "2022-05-30T09:27:17.519413",
     "status": "completed"
    },
    "tags": []
   },
   "outputs": [],
   "source": [
    "delivered=pd.merge(consumer,orders,on='customer_id')\n",
    "final=pd.merge(delivered,vendors,on='vendor_id')"
   ]
  },
  {
   "cell_type": "code",
   "execution_count": 42,
   "id": "94f63d33",
   "metadata": {
    "execution": {
     "iopub.execute_input": "2022-05-30T09:27:17.939632Z",
     "iopub.status.busy": "2022-05-30T09:27:17.939384Z",
     "iopub.status.idle": "2022-05-30T09:27:21.549806Z",
     "shell.execute_reply": "2022-05-30T09:27:21.549045Z"
    },
    "id": "0FCFr1ZurtRi",
    "papermill": {
     "duration": 3.713731,
     "end_time": "2022-05-30T09:27:21.551989",
     "exception": false,
     "start_time": "2022-05-30T09:27:17.838258",
     "status": "completed"
    },
    "tags": []
   },
   "outputs": [],
   "source": [
    "#calculate haversine distance between vendor and consumer\n",
    "\n",
    "\n",
    "distx=[];disty=[]\n",
    "distance=[]\n",
    "for i in range(len(final)):\n",
    "  distx.append([final['latitude_x'].iloc[i],final['longitude_x'].iloc[i]])\n",
    "  disty.append([final['latitude_y'].iloc[i],final['longitude_y'].iloc[i]])\n",
    "for i in range(len(distx)):\n",
    "  xinrad=[radians(_) for _ in distx[i]]\n",
    "  yinrad=[radians(_) for _ in disty[i]]\n",
    "  result = haversine_distances([xinrad, yinrad])\n",
    "  distance.append(np.max(result))\n",
    "\n",
    "final['dist']=distance\n",
    "del distx,disty,distance"
   ]
  },
  {
   "cell_type": "code",
   "execution_count": 43,
   "id": "46b415e5",
   "metadata": {
    "execution": {
     "iopub.execute_input": "2022-05-30T09:27:21.752011Z",
     "iopub.status.busy": "2022-05-30T09:27:21.751261Z",
     "iopub.status.idle": "2022-05-30T09:27:21.810644Z",
     "shell.execute_reply": "2022-05-30T09:27:21.809904Z"
    },
    "id": "54m2FJfimdJF",
    "papermill": {
     "duration": 0.162109,
     "end_time": "2022-05-30T09:27:21.812665",
     "exception": false,
     "start_time": "2022-05-30T09:27:21.650556",
     "status": "completed"
    },
    "tags": []
   },
   "outputs": [],
   "source": [
    "final.drop(['latitude_x','latitude_y','longitude_x','longitude_y','vendor_category_en','verified_x', 'driver_rating','created_at_x', 'updated_at_x','akeed_order_id','preparationtime', 'delivery_time', 'delivery_date','created_at_y', 'LOCATION_NUMBER', 'CID X LOC_NUM X VENDOR', 'LOCATION_TYPE','authentication_id',  'updated_at_y'],axis=1,inplace=True)"
   ]
  },
  {
   "cell_type": "code",
   "execution_count": 44,
   "id": "bc4b116c",
   "metadata": {
    "execution": {
     "iopub.execute_input": "2022-05-30T09:27:22.012392Z",
     "iopub.status.busy": "2022-05-30T09:27:22.011737Z",
     "iopub.status.idle": "2022-05-30T09:27:22.110213Z",
     "shell.execute_reply": "2022-05-30T09:27:22.109484Z"
    },
    "id": "HioLlgiop2YN",
    "papermill": {
     "duration": 0.200291,
     "end_time": "2022-05-30T09:27:22.112195",
     "exception": false,
     "start_time": "2022-05-30T09:27:21.911904",
     "status": "completed"
    },
    "tags": []
   },
   "outputs": [],
   "source": [
    "final.drop_duplicates(inplace=True)"
   ]
  },
  {
   "cell_type": "code",
   "execution_count": 45,
   "id": "8d0953c5",
   "metadata": {
    "execution": {
     "iopub.execute_input": "2022-05-30T09:27:22.312478Z",
     "iopub.status.busy": "2022-05-30T09:27:22.312229Z",
     "iopub.status.idle": "2022-05-30T09:27:22.781417Z",
     "shell.execute_reply": "2022-05-30T09:27:22.780668Z"
    },
    "id": "A_wbhQhHX7hA",
    "papermill": {
     "duration": 0.571581,
     "end_time": "2022-05-30T09:27:22.783504",
     "exception": false,
     "start_time": "2022-05-30T09:27:22.211923",
     "status": "completed"
    },
    "tags": []
   },
   "outputs": [],
   "source": [
    "items=[];counts=[]\n",
    "def tagfind(x):\n",
    "  global items\n",
    "  global counts\n",
    "  try:\n",
    "    x1=x.split(\",\")\n",
    "    #x1=x\n",
    "    for i in x1:\n",
    "      if i not in items:\n",
    "        items.append(i)\n",
    "    for i in range(len(items)):\n",
    "      if items[i] in x1:\n",
    "        counts.append(i)\n",
    "  except:\n",
    "    x1=x\n",
    "  return x1\n",
    "final.vendor_tag_name.fillna('Desserts,Sandwiches, Burgers',inplace=True)\n",
    "final.vendor_tag_name=final.vendor_tag_name.apply(tagfind)"
   ]
  },
  {
   "cell_type": "code",
   "execution_count": 46,
   "id": "a1af7a42",
   "metadata": {
    "execution": {
     "iopub.execute_input": "2022-05-30T09:27:22.984267Z",
     "iopub.status.busy": "2022-05-30T09:27:22.984023Z",
     "iopub.status.idle": "2022-05-30T09:27:23.024904Z",
     "shell.execute_reply": "2022-05-30T09:27:23.024197Z"
    },
    "id": "9xM-41Cvbg0O",
    "papermill": {
     "duration": 0.143134,
     "end_time": "2022-05-30T09:27:23.026640",
     "exception": false,
     "start_time": "2022-05-30T09:27:22.883506",
     "status": "completed"
    },
    "tags": []
   },
   "outputs": [],
   "source": [
    "def drinks(x):\n",
    "  try:\n",
    "    if ('Milkshakes' or 'Mojitos' or 'Fresh Juices' or 'Ice creams' or 'Coffee' or 'Smoothies' or 'Hot Chocolate' or 'Cafe' or 'Frozen yoghurt') in x:\n",
    "      return 1\n",
    "    else:\n",
    "      return 0\n",
    "  except:\n",
    "    pass\n",
    "final['shakes']=final.vendor_tag_name.apply(drinks)"
   ]
  },
  {
   "cell_type": "code",
   "execution_count": 47,
   "id": "79cde283",
   "metadata": {
    "execution": {
     "iopub.execute_input": "2022-05-30T09:27:23.226985Z",
     "iopub.status.busy": "2022-05-30T09:27:23.226329Z",
     "iopub.status.idle": "2022-05-30T09:27:23.230476Z",
     "shell.execute_reply": "2022-05-30T09:27:23.229805Z"
    },
    "id": "8qMtHf-nyexk",
    "papermill": {
     "duration": 0.105973,
     "end_time": "2022-05-30T09:27:23.232180",
     "exception": false,
     "start_time": "2022-05-30T09:27:23.126207",
     "status": "completed"
    },
    "tags": []
   },
   "outputs": [],
   "source": [
    "items=set(items)-{'Milkshakes', 'Mojitos', 'Fresh Juices', 'Ice creams', 'Coffee', 'Smoothies' ,'Hot Chocolate' ,'Cafe', 'Frozen yoghurt'}"
   ]
  },
  {
   "cell_type": "code",
   "execution_count": 48,
   "id": "7be7870a",
   "metadata": {
    "execution": {
     "iopub.execute_input": "2022-05-30T09:27:23.432107Z",
     "iopub.status.busy": "2022-05-30T09:27:23.431484Z",
     "iopub.status.idle": "2022-05-30T09:27:23.528039Z",
     "shell.execute_reply": "2022-05-30T09:27:23.527277Z"
    },
    "id": "olnc1ehlm2CE",
    "outputId": "da516b76-09cf-4b0d-a317-9c46c47ac18e",
    "papermill": {
     "duration": 0.200479,
     "end_time": "2022-05-30T09:27:23.531691",
     "exception": false,
     "start_time": "2022-05-30T09:27:23.331212",
     "status": "completed"
    },
    "tags": []
   },
   "outputs": [
    {
     "data": {
      "text/plain": [
       "(55374, 37)"
      ]
     },
     "execution_count": 48,
     "metadata": {},
     "output_type": "execute_result"
    }
   ],
   "source": [
    "for i in final.columns:\n",
    "  if final[i].isnull().sum(axis=0)>0:\n",
    "    print(final[i].isnull().sum(axis=0),i)\n",
    "final.shape"
   ]
  },
  {
   "cell_type": "code",
   "execution_count": 49,
   "id": "148335bd",
   "metadata": {
    "execution": {
     "iopub.execute_input": "2022-05-30T09:27:23.883565Z",
     "iopub.status.busy": "2022-05-30T09:27:23.882736Z",
     "iopub.status.idle": "2022-05-30T09:27:30.639429Z",
     "shell.execute_reply": "2022-05-30T09:27:30.638705Z"
    },
    "id": "8qI1BXbCkQc8",
    "papermill": {
     "duration": 6.927365,
     "end_time": "2022-05-30T09:27:30.641569",
     "exception": false,
     "start_time": "2022-05-30T09:27:23.714204",
     "status": "completed"
    },
    "tags": []
   },
   "outputs": [],
   "source": [
    "cust_id=[]\n",
    "def convert(x):\n",
    "  '''\n",
    "  convert customer id that is string in integer based on referencing in list\n",
    "  '''\n",
    "  global cust_id\n",
    "  if x not in cust_id:\n",
    "    cust_id.append(x)\n",
    "  return cust_id.index(x)\n",
    "final.customer_id = final.customer_id.apply(convert)"
   ]
  },
  {
   "cell_type": "markdown",
   "id": "6a66f078",
   "metadata": {
    "id": "i0w4XoSc68T3",
    "papermill": {
     "duration": 0.09827,
     "end_time": "2022-05-30T09:27:30.840991",
     "exception": false,
     "start_time": "2022-05-30T09:27:30.742721",
     "status": "completed"
    },
    "tags": []
   },
   "source": [
    "### One hot encoding"
   ]
  },
  {
   "cell_type": "code",
   "execution_count": 50,
   "id": "8d36148b",
   "metadata": {
    "execution": {
     "iopub.execute_input": "2022-05-30T09:27:31.041139Z",
     "iopub.status.busy": "2022-05-30T09:27:31.040894Z",
     "iopub.status.idle": "2022-05-30T09:27:31.096731Z",
     "shell.execute_reply": "2022-05-30T09:27:31.096057Z"
    },
    "id": "2WC5-2JKMgnT",
    "papermill": {
     "duration": 0.157924,
     "end_time": "2022-05-30T09:27:31.098733",
     "exception": false,
     "start_time": "2022-05-30T09:27:30.940809",
     "status": "completed"
    },
    "tags": []
   },
   "outputs": [],
   "source": [
    "genderDummy=pd.get_dummies(final['gender'],prefix='gender')\n",
    "loc_noDummy=pd.get_dummies(final['location_number'],prefix='locnumb')\n",
    "loc_type=pd.get_dummies(final['location_type'],prefix='loctype')\n",
    "final.is_favorite.replace({'Yes':1,'No':0},inplace=True)"
   ]
  },
  {
   "cell_type": "code",
   "execution_count": 51,
   "id": "4f9f37be",
   "metadata": {
    "execution": {
     "iopub.execute_input": "2022-05-30T09:27:31.300495Z",
     "iopub.status.busy": "2022-05-30T09:27:31.299789Z",
     "iopub.status.idle": "2022-05-30T09:27:31.382650Z",
     "shell.execute_reply": "2022-05-30T09:27:31.381919Z"
    },
    "id": "hTVB9RrWNgWB",
    "papermill": {
     "duration": 0.185515,
     "end_time": "2022-05-30T09:27:31.384708",
     "exception": false,
     "start_time": "2022-05-30T09:27:31.199193",
     "status": "completed"
    },
    "tags": []
   },
   "outputs": [],
   "source": [
    "final1=pd.concat([final,genderDummy,loc_noDummy,loc_type],axis=1)\n",
    "final1.drop(['weekendtime1','weekendtime2','weekendclose1','weekendclose2','weekdaytime1','weekdaytime2','weekdayclose1','weekdayclose2','gender','location_number','location_type'],axis=1,inplace=True)\n",
    "final1.dropna(inplace=True)"
   ]
  },
  {
   "cell_type": "code",
   "execution_count": 52,
   "id": "d3ec83aa",
   "metadata": {
    "execution": {
     "iopub.execute_input": "2022-05-30T09:27:31.585947Z",
     "iopub.status.busy": "2022-05-30T09:27:31.585686Z",
     "iopub.status.idle": "2022-05-30T09:27:31.592172Z",
     "shell.execute_reply": "2022-05-30T09:27:31.591456Z"
    },
    "id": "UrQz6_EACugF",
    "outputId": "2a4cf2a5-4c83-4bd1-a154-1d2d70494e3a",
    "papermill": {
     "duration": 0.108584,
     "end_time": "2022-05-30T09:27:31.593810",
     "exception": false,
     "start_time": "2022-05-30T09:27:31.485226",
     "status": "completed"
    },
    "tags": []
   },
   "outputs": [
    {
     "data": {
      "text/plain": [
       "100"
      ]
     },
     "execution_count": 52,
     "metadata": {},
     "output_type": "execute_result"
    }
   ],
   "source": [
    "len(final1.vendor_id.unique())"
   ]
  },
  {
   "cell_type": "code",
   "execution_count": 53,
   "id": "a155e9e0",
   "metadata": {
    "execution": {
     "iopub.execute_input": "2022-05-30T09:27:31.794541Z",
     "iopub.status.busy": "2022-05-30T09:27:31.794276Z",
     "iopub.status.idle": "2022-05-30T09:30:31.211823Z",
     "shell.execute_reply": "2022-05-30T09:30:31.210419Z"
    },
    "id": "nlVnLkldXlNK",
    "outputId": "115ff6c6-347b-4a15-c26d-bb1928ed90ad",
    "papermill": {
     "duration": 179.52003,
     "end_time": "2022-05-30T09:30:31.213591",
     "exception": false,
     "start_time": "2022-05-30T09:27:31.693561",
     "status": "completed"
    },
    "tags": []
   },
   "outputs": [
    {
     "name": "stderr",
     "output_type": "stream",
     "text": [
      "100%|██████████| 55374/55374 [02:59<00:00, 308.69it/s]\n"
     ]
    }
   ],
   "source": [
    "for i in items:\n",
    "  final1[i]=0\n",
    "for j in tqdm(range(len(final1))):\n",
    "  for i in items:\n",
    "    if i in final1.vendor_tag_name.iloc[j]:\n",
    "      final1[i].iloc[j]=1"
   ]
  },
  {
   "cell_type": "code",
   "execution_count": 54,
   "id": "f21c63a5",
   "metadata": {
    "execution": {
     "iopub.execute_input": "2022-05-30T09:30:32.427331Z",
     "iopub.status.busy": "2022-05-30T09:30:32.426754Z",
     "iopub.status.idle": "2022-05-30T09:30:32.464578Z",
     "shell.execute_reply": "2022-05-30T09:30:32.463886Z"
    },
    "id": "qzYxRvOga5wA",
    "papermill": {
     "duration": 0.649468,
     "end_time": "2022-05-30T09:30:32.466795",
     "exception": false,
     "start_time": "2022-05-30T09:30:31.817327",
     "status": "completed"
    },
    "tags": []
   },
   "outputs": [],
   "source": [
    "final1.drop('vendor_tag_name',axis=1,inplace=True)"
   ]
  },
  {
   "cell_type": "markdown",
   "id": "5921e64f",
   "metadata": {
    "id": "ASm1pSzb7GcO",
    "papermill": {
     "duration": 0.608504,
     "end_time": "2022-05-30T09:30:33.684747",
     "exception": false,
     "start_time": "2022-05-30T09:30:33.076243",
     "status": "completed"
    },
    "tags": []
   },
   "source": [
    "## EDA"
   ]
  },
  {
   "cell_type": "code",
   "execution_count": 55,
   "id": "f63bd7de",
   "metadata": {
    "execution": {
     "iopub.execute_input": "2022-05-30T09:30:34.914591Z",
     "iopub.status.busy": "2022-05-30T09:30:34.914320Z",
     "iopub.status.idle": "2022-05-30T09:30:35.210505Z",
     "shell.execute_reply": "2022-05-30T09:30:35.209662Z"
    },
    "id": "ySPQhX8OqKlB",
    "outputId": "90fb0c95-e98b-4351-d765-7e633855c368",
    "papermill": {
     "duration": 0.909847,
     "end_time": "2022-05-30T09:30:35.213386",
     "exception": false,
     "start_time": "2022-05-30T09:30:34.303539",
     "status": "completed"
    },
    "tags": []
   },
   "outputs": [
    {
     "data": {
      "text/plain": [
       "[Text(0.5, 1.0, 'delivery distanace providedin KM')]"
      ]
     },
     "execution_count": 55,
     "metadata": {},
     "output_type": "execute_result"
    },
    {
     "data": {
      "image/png": "[encoded data removed]",
      "text/plain": [
       "<Figure size 432x288 with 1 Axes>"
      ]
     },
     "metadata": {
      "needs_background": "light"
     },
     "output_type": "display_data"
    }
   ],
   "source": [
    "sns.violinplot(final1.deliverydistance).set(title=\"delivery distanace providedin KM\")"
   ]
  },
  {
   "cell_type": "code",
   "execution_count": 56,
   "id": "19cbdd29",
   "metadata": {
    "execution": {
     "iopub.execute_input": "2022-05-30T09:30:36.431418Z",
     "iopub.status.busy": "2022-05-30T09:30:36.431158Z",
     "iopub.status.idle": "2022-05-30T09:30:36.860450Z",
     "shell.execute_reply": "2022-05-30T09:30:36.859731Z"
    },
    "id": "po2Gfivvp8tm",
    "outputId": "69592a3b-758a-41b7-80a1-9b4b48a5fb16",
    "papermill": {
     "duration": 1.039733,
     "end_time": "2022-05-30T09:30:36.862298",
     "exception": false,
     "start_time": "2022-05-30T09:30:35.822565",
     "status": "completed"
    },
    "tags": []
   },
   "outputs": [
    {
     "data": {
      "text/plain": [
       "[Text(0.5, 1.0, 'hevsine distbetweeen venodor and consumer in KM')]"
      ]
     },
     "execution_count": 56,
     "metadata": {},
     "output_type": "execute_result"
    },
    {
     "data": {
      "image/png": "[encoded data removed]",
      "text/plain": [
       "<Figure size 432x288 with 1 Axes>"
      ]
     },
     "metadata": {
      "needs_background": "light"
     },
     "output_type": "display_data"
    }
   ],
   "source": [
    "sns.distplot(final.dist).set(title=\"hevsine distbetweeen venodor and consumer in KM\")"
   ]
  },
  {
   "cell_type": "markdown",
   "id": "dd1455b8",
   "metadata": {
    "id": "BE8eBxDy_ELp",
    "papermill": {
     "duration": 0.609527,
     "end_time": "2022-05-30T09:30:38.076201",
     "exception": false,
     "start_time": "2022-05-30T09:30:37.466674",
     "status": "completed"
    },
    "tags": []
   },
   "source": [
    "haversine distance doesnt seems valuable so we may either drop them or wait for feature importance plot"
   ]
  },
  {
   "cell_type": "code",
   "execution_count": 57,
   "id": "94564d74",
   "metadata": {
    "execution": {
     "iopub.execute_input": "2022-05-30T09:30:39.325401Z",
     "iopub.status.busy": "2022-05-30T09:30:39.325132Z",
     "iopub.status.idle": "2022-05-30T09:30:39.500407Z",
     "shell.execute_reply": "2022-05-30T09:30:39.499714Z"
    },
    "id": "cgMwZQ_9qF3D",
    "outputId": "a62e68ed-fae3-45dd-89a3-c9746e9e06ba",
    "papermill": {
     "duration": 0.78608,
     "end_time": "2022-05-30T09:30:39.502209",
     "exception": false,
     "start_time": "2022-05-30T09:30:38.716129",
     "status": "completed"
    },
    "tags": []
   },
   "outputs": [
    {
     "data": {
      "text/plain": [
       "[Text(0.5, 1.0, 'vendor_rating given per order by customer')]"
      ]
     },
     "execution_count": 57,
     "metadata": {},
     "output_type": "execute_result"
    },
    {
     "data": {
      "image/png": "[encoded data removed]",
      "text/plain": [
       "<Figure size 432x288 with 1 Axes>"
      ]
     },
     "metadata": {
      "needs_background": "light"
     },
     "output_type": "display_data"
    }
   ],
   "source": [
    "sns.countplot(final['vendor_rating_x']).set(title='vendor_rating given per order by customer')"
   ]
  },
  {
   "cell_type": "code",
   "execution_count": 58,
   "id": "fabf4b94",
   "metadata": {
    "execution": {
     "iopub.execute_input": "2022-05-30T09:30:40.733784Z",
     "iopub.status.busy": "2022-05-30T09:30:40.733524Z",
     "iopub.status.idle": "2022-05-30T09:30:41.237457Z",
     "shell.execute_reply": "2022-05-30T09:30:41.236715Z"
    },
    "id": "td8bg92oqSCz",
    "outputId": "6757d321-200b-4b63-a171-5e5e29326f80",
    "papermill": {
     "duration": 1.115865,
     "end_time": "2022-05-30T09:30:41.239512",
     "exception": false,
     "start_time": "2022-05-30T09:30:40.123647",
     "status": "completed"
    },
    "tags": []
   },
   "outputs": [
    {
     "data": {
      "text/plain": [
       "[Text(0.5, 1.0, 'This is avg past rating given to vendor')]"
      ]
     },
     "execution_count": 58,
     "metadata": {},
     "output_type": "execute_result"
    },
    {
     "data": {
      "image/png": "[encoded data removed]",
      "text/plain": [
       "<Figure size 432x288 with 1 Axes>"
      ]
     },
     "metadata": {
      "needs_background": "light"
     },
     "output_type": "display_data"
    }
   ],
   "source": [
    "sns.distplot(final.vendor_rating_y).set(title='This is avg past rating given to vendor')"
   ]
  },
  {
   "cell_type": "code",
   "execution_count": 59,
   "id": "5c525ca5",
   "metadata": {
    "execution": {
     "iopub.execute_input": "2022-05-30T09:30:42.714642Z",
     "iopub.status.busy": "2022-05-30T09:30:42.714369Z",
     "iopub.status.idle": "2022-05-30T09:30:42.722353Z",
     "shell.execute_reply": "2022-05-30T09:30:42.721522Z"
    },
    "id": "jsbBylRdDoZT",
    "outputId": "1be059c5-c5d1-4125-ab65-64f8fa594662",
    "papermill": {
     "duration": 0.621838,
     "end_time": "2022-05-30T09:30:42.724014",
     "exception": false,
     "start_time": "2022-05-30T09:30:42.102176",
     "status": "completed"
    },
    "tags": []
   },
   "outputs": [
    {
     "data": {
      "text/plain": [
       "4.471051395962004"
      ]
     },
     "execution_count": 59,
     "metadata": {},
     "output_type": "execute_result"
    }
   ],
   "source": [
    "final1.vendor_rating_x.mean() #global averge rating given by consumer"
   ]
  },
  {
   "cell_type": "code",
   "execution_count": 60,
   "id": "c430fe64",
   "metadata": {
    "execution": {
     "iopub.execute_input": "2022-05-30T09:30:43.990956Z",
     "iopub.status.busy": "2022-05-30T09:30:43.990683Z",
     "iopub.status.idle": "2022-05-30T09:30:43.997065Z",
     "shell.execute_reply": "2022-05-30T09:30:43.996366Z"
    },
    "id": "d4rpVmymEI9C",
    "outputId": "b3c5ef61-e5f7-426a-fac2-4dedf71a92dd",
    "papermill": {
     "duration": 0.66105,
     "end_time": "2022-05-30T09:30:43.999063",
     "exception": false,
     "start_time": "2022-05-30T09:30:43.338013",
     "status": "completed"
    },
    "tags": []
   },
   "outputs": [
    {
     "data": {
      "text/plain": [
       "6.539241882471918"
      ]
     },
     "execution_count": 60,
     "metadata": {},
     "output_type": "execute_result"
    }
   ],
   "source": [
    "final1.deliverydistance.mean() #global averge distance for the food ordered"
   ]
  },
  {
   "cell_type": "code",
   "execution_count": 61,
   "id": "3942ed7f",
   "metadata": {
    "execution": {
     "iopub.execute_input": "2022-05-30T09:30:45.213929Z",
     "iopub.status.busy": "2022-05-30T09:30:45.213655Z",
     "iopub.status.idle": "2022-05-30T09:30:45.698363Z",
     "shell.execute_reply": "2022-05-30T09:30:45.697695Z"
    },
    "id": "7tEt3nJ7A02A",
    "outputId": "1b2d82de-f2b6-437e-c4c7-729f9ea1b378",
    "papermill": {
     "duration": 1.093315,
     "end_time": "2022-05-30T09:30:45.700225",
     "exception": false,
     "start_time": "2022-05-30T09:30:44.606910",
     "status": "completed"
    },
    "tags": []
   },
   "outputs": [
    {
     "data": {
      "text/plain": [
       "[Text(0.5, 1.0, 'prepration time per order')]"
      ]
     },
     "execution_count": 61,
     "metadata": {},
     "output_type": "execute_result"
    },
    {
     "data": {
      "image/png": "[encoded data removed]",
      "text/plain": [
       "<Figure size 432x288 with 1 Axes>"
      ]
     },
     "metadata": {
      "needs_background": "light"
     },
     "output_type": "display_data"
    }
   ],
   "source": [
    "sns.distplot(final.prepration_time).set(title='prepration time per order') #food time taken to complete prepration"
   ]
  },
  {
   "cell_type": "code",
   "execution_count": 62,
   "id": "8d301bcf",
   "metadata": {
    "execution": {
     "iopub.execute_input": "2022-05-30T09:30:47.254258Z",
     "iopub.status.busy": "2022-05-30T09:30:47.253835Z",
     "iopub.status.idle": "2022-05-30T09:30:47.762493Z",
     "shell.execute_reply": "2022-05-30T09:30:47.761703Z"
    },
    "id": "jE9wsuHNqeUl",
    "outputId": "0c89a275-efaf-4da5-9f17-1d7d3a5aec8c",
    "papermill": {
     "duration": 1.459976,
     "end_time": "2022-05-30T09:30:47.764424",
     "exception": false,
     "start_time": "2022-05-30T09:30:46.304448",
     "status": "completed"
    },
    "tags": []
   },
   "outputs": [
    {
     "data": {
      "text/plain": [
       "<AxesSubplot:xlabel='is_favorite', ylabel='Count'>"
      ]
     },
     "execution_count": 62,
     "metadata": {},
     "output_type": "execute_result"
    },
    {
     "data": {
      "image/png": "[encoded data removed]",
      "text/plain": [
       "<Figure size 432x288 with 1 Axes>"
      ]
     },
     "metadata": {
      "needs_background": "light"
     },
     "output_type": "display_data"
    }
   ],
   "source": [
    "sns.histplot(orders.is_favorite) #shows usually people just not order food from here fav vendor"
   ]
  },
  {
   "cell_type": "code",
   "execution_count": 63,
   "id": "2a4e1726",
   "metadata": {
    "execution": {
     "iopub.execute_input": "2022-05-30T09:30:49.126956Z",
     "iopub.status.busy": "2022-05-30T09:30:49.125444Z",
     "iopub.status.idle": "2022-05-30T09:30:49.490450Z",
     "shell.execute_reply": "2022-05-30T09:30:49.489687Z"
    },
    "id": "Yhd4ql5m48-r",
    "outputId": "068e924e-e7d0-48e2-af6f-29a1ee6202d2",
    "papermill": {
     "duration": 1.046941,
     "end_time": "2022-05-30T09:30:49.492555",
     "exception": false,
     "start_time": "2022-05-30T09:30:48.445614",
     "status": "completed"
    },
    "tags": []
   },
   "outputs": [
    {
     "data": {
      "text/plain": [
       "<AxesSubplot:xlabel='gender', ylabel='count'>"
      ]
     },
     "execution_count": 63,
     "metadata": {},
     "output_type": "execute_result"
    },
    {
     "data": {
      "image/png": "[encoded data removed]",
      "text/plain": [
       "<Figure size 432x288 with 1 Axes>"
      ]
     },
     "metadata": {
      "needs_background": "light"
     },
     "output_type": "display_data"
    }
   ],
   "source": [
    "sns.countplot(consumer['gender'],hue=consumer['location_type'])"
   ]
  },
  {
   "cell_type": "code",
   "execution_count": 64,
   "id": "3ba1ff66",
   "metadata": {
    "execution": {
     "iopub.execute_input": "2022-05-30T09:30:50.808310Z",
     "iopub.status.busy": "2022-05-30T09:30:50.808060Z",
     "iopub.status.idle": "2022-05-30T09:30:51.175612Z",
     "shell.execute_reply": "2022-05-30T09:30:51.174922Z"
    },
    "id": "zhUUwfYSHl08",
    "outputId": "219c6e4c-a319-4ba7-fe7c-6d9fc81d6e63",
    "papermill": {
     "duration": 0.989632,
     "end_time": "2022-05-30T09:30:51.177513",
     "exception": false,
     "start_time": "2022-05-30T09:30:50.187881",
     "status": "completed"
    },
    "tags": []
   },
   "outputs": [
    {
     "data": {
      "image/png": "[encoded data removed]",
      "text/plain": [
       "<Figure size 576x288 with 2 Axes>"
      ]
     },
     "metadata": {
      "needs_background": "light"
     },
     "output_type": "display_data"
    }
   ],
   "source": [
    "food_ordered_per_user = final.groupby(by='customer_id')['vendor_rating_x'].count().sort_values(ascending=False)\n",
    "\n",
    "fig = plt.figure(figsize=plt.figaspect(.5))\n",
    "\n",
    "ax1 = plt.subplot(121)\n",
    "sns.kdeplot(food_ordered_per_user, shade=True, ax=ax1)\n",
    "plt.xlabel('No of ratings by user')\n",
    "plt.title(\"PDF\")\n",
    "\n",
    "ax2 = plt.subplot(122)\n",
    "sns.kdeplot(food_ordered_per_user, shade=True, cumulative=True,ax=ax2)\n",
    "plt.xlabel('No of ratings by user')\n",
    "plt.title('CDF')\n",
    "\n",
    "plt.show()"
   ]
  },
  {
   "cell_type": "markdown",
   "id": "61bf4152",
   "metadata": {
    "id": "ZuToV7f3tvZd",
    "papermill": {
     "duration": 0.613558,
     "end_time": "2022-05-30T09:30:52.409960",
     "exception": false,
     "start_time": "2022-05-30T09:30:51.796402",
     "status": "completed"
    },
    "tags": []
   },
   "source": [
    "these can be students or bachelors who usually order food regularly"
   ]
  },
  {
   "cell_type": "code",
   "execution_count": 65,
   "id": "098814ae",
   "metadata": {
    "execution": {
     "iopub.execute_input": "2022-05-30T09:30:53.883371Z",
     "iopub.status.busy": "2022-05-30T09:30:53.883121Z",
     "iopub.status.idle": "2022-05-30T09:30:54.146341Z",
     "shell.execute_reply": "2022-05-30T09:30:54.145691Z"
    },
    "id": "RpGzyKXTt02Q",
    "outputId": "4a05baaa-8b99-49a1-b0e0-c74de81fb256",
    "papermill": {
     "duration": 0.874417,
     "end_time": "2022-05-30T09:30:54.148155",
     "exception": false,
     "start_time": "2022-05-30T09:30:53.273738",
     "status": "completed"
    },
    "tags": []
   },
   "outputs": [
    {
     "data": {
      "image/png": "[encoded data removed]",
      "text/plain": [
       "<Figure size 576x288 with 2 Axes>"
      ]
     },
     "metadata": {
      "needs_background": "light"
     },
     "output_type": "display_data"
    }
   ],
   "source": [
    "venor_gets_orders = final.groupby(by='vendor_id')['vendor_rating_x'].count().sort_values(ascending=False)\n",
    "\n",
    "fig = plt.figure(figsize=plt.figaspect(.5))\n",
    "\n",
    "ax1 = plt.subplot(121)\n",
    "sns.kdeplot(venor_gets_orders, shade=True, ax=ax1)\n",
    "plt.xlabel('No of orders processed by vendor')\n",
    "plt.title(\"PDF\")\n",
    "\n",
    "ax2 = plt.subplot(122)\n",
    "sns.kdeplot(venor_gets_orders, shade=True, cumulative=True,ax=ax2)\n",
    "plt.xlabel('No of orders processed by vendor')\n",
    "plt.title('CDF')\n",
    "\n",
    "plt.show()"
   ]
  },
  {
   "cell_type": "markdown",
   "id": "b42f97b3",
   "metadata": {
    "id": "xrXeUTBOuceK",
    "papermill": {
     "duration": 0.608748,
     "end_time": "2022-05-30T09:30:55.364075",
     "exception": false,
     "start_time": "2022-05-30T09:30:54.755327",
     "status": "completed"
    },
    "tags": []
   },
   "source": [
    "this shows that max vendor get about 1000 orders in this time frame thus there is no such bias and dataset is healthy\n"
   ]
  },
  {
   "cell_type": "markdown",
   "id": "14cd7494",
   "metadata": {
    "id": "-Gy-xOcq7kmU",
    "papermill": {
     "duration": 0.610762,
     "end_time": "2022-05-30T09:30:56.585996",
     "exception": false,
     "start_time": "2022-05-30T09:30:55.975234",
     "status": "completed"
    },
    "tags": []
   },
   "source": [
    "## Hyperparameter Tuning"
   ]
  },
  {
   "cell_type": "code",
   "execution_count": 66,
   "id": "b08a7a0b",
   "metadata": {
    "execution": {
     "iopub.execute_input": "2022-05-30T09:30:57.810438Z",
     "iopub.status.busy": "2022-05-30T09:30:57.809893Z",
     "iopub.status.idle": "2022-05-30T09:30:57.818287Z",
     "shell.execute_reply": "2022-05-30T09:30:57.817538Z"
    },
    "id": "Uib6XBE-7rd2",
    "outputId": "91cd733a-f3f0-4365-bddc-6c388e6cd7c1",
    "papermill": {
     "duration": 0.621869,
     "end_time": "2022-05-30T09:30:57.820133",
     "exception": false,
     "start_time": "2022-05-30T09:30:57.198264",
     "status": "completed"
    },
    "tags": []
   },
   "outputs": [],
   "source": [
    "def hyperpara(x,y):\n",
    "  start=datetime.now()\n",
    "  if GPU:\n",
    "      estimator = XGBRegressor(random_state=15,tree_method='gpu_hist', gpu_id=0)\n",
    "  if GPU==0:\n",
    "      estimator = XGBRegressor(random_state=15,)\n",
    "\n",
    "  parameters = {'learning_rate': [0.01,0.02],'n_estimators' : [600,800],'max_depth' : [6,8]}\n",
    "\n",
    "  #https://scikit-learn.org/stable/modules/generated/sklearn.metrics.make_scorer.html#sklearn.metrics.make_scorer\n",
    "  def RMSE_hyp(y_true,y_pred):\n",
    "      mse = mean_squared_error(y_true, y_pred)\n",
    "      return sqrt(mse)\n",
    "\n",
    "  grid_search = GridSearchCV(estimator=estimator,param_grid=parameters,scoring = make_scorer(RMSE_hyp, greater_is_better=False) ,n_jobs = -1,cv = 3,verbose=True)\n",
    "  grid_search.fit(x,y)\n",
    "  stop=datetime.now()-start\n",
    "  print('time required to tune hyperparamter    ',stop)\n",
    "  print('*'*100)\n",
    "  print(grid_search.best_estimator_)\n",
    "  print(\"*\"*100)\n",
    "  return grid_search.best_estimator_\n"
   ]
  },
  {
   "cell_type": "markdown",
   "id": "e7e0a195",
   "metadata": {
    "id": "5MbeEsO1-cdd",
    "papermill": {
     "duration": 0.657409,
     "end_time": "2022-05-30T09:30:59.085841",
     "exception": false,
     "start_time": "2022-05-30T09:30:58.428432",
     "status": "completed"
    },
    "tags": []
   },
   "source": [
    "## Content based Recommendation"
   ]
  },
  {
   "cell_type": "code",
   "execution_count": 67,
   "id": "100a6c00",
   "metadata": {
    "execution": {
     "iopub.execute_input": "2022-05-30T09:31:00.315961Z",
     "iopub.status.busy": "2022-05-30T09:31:00.315691Z",
     "iopub.status.idle": "2022-05-30T09:31:00.329318Z",
     "shell.execute_reply": "2022-05-30T09:31:00.328634Z"
    },
    "id": "wxpJIJGsws4P",
    "papermill": {
     "duration": 0.629037,
     "end_time": "2022-05-30T09:31:00.331025",
     "exception": false,
     "start_time": "2022-05-30T09:30:59.701988",
     "status": "completed"
    },
    "tags": []
   },
   "outputs": [],
   "source": [
    "def regressor(X_train, X_test, y_train, y_test,name,imp_plot=True):\n",
    "  start=datetime.now()\n",
    "\n",
    "  xgb_r = hyperpara(X_train,y_train)\n",
    "\n",
    "  # Fitting the model\n",
    "  eval_set = [(X_train, y_train), (X_test, y_test)]\n",
    "  xgb_r.fit(X_train, y_train, eval_set=eval_set,verbose=False)\n",
    "  \n",
    "  #plotting\n",
    "  results = xgb_r.evals_result()\n",
    "  epochs = len(results['validation_0']['rmse'])\n",
    "  x_axis = range(0, epochs)\n",
    "  # plot log loss\n",
    "  fig, ax = plt.subplots()\n",
    "  ax.plot(x_axis, results['validation_0']['rmse'], label='Train')\n",
    "  ax.plot(x_axis, results['validation_1']['rmse'], label='Test')\n",
    "  ax.legend()\n",
    "  plt.ylabel('RMSE')\n",
    "  plt.title('XGBoost RMSE train test graph')\n",
    "  plt.show()\n",
    "\n",
    "  # Predict the model\n",
    "  pred = xgb_r.predict(X_test)\n",
    "  pred1=xgb_r.predict(X_train)\n",
    "  RMSE=0;RMSE1=0\n",
    "  for i in range(len(pred)):\n",
    "    RMSE+=(y_test.iloc[i]-pred[i])**2\n",
    "    RMSE1+=(y_train.iloc[i]-pred1[i])**2\n",
    "  RMSE/=len(pred)\n",
    "  RMSE1/=len(pred)\n",
    "  RMSE=sqrt(RMSE)\n",
    "  RMSE1=sqrt(RMSE1)\n",
    "  rmse[name]=[RMSE1,RMSE]\n",
    "  def roundoff(x):\n",
    "    return np.around(x,2)\n",
    "  if imp_plot:\n",
    "    result=pd.DataFrame()\n",
    "    result['y_acc']=y_test\n",
    "    result['y_pred']=xgb_r.predict(X_test)\n",
    "    result['y_pred']=result['y_pred'].apply(roundoff)\n",
    "    result['error']=abs(result.y_pred-result.y_acc)\n",
    "    sns.distplot(result.error)\n",
    "    plt.show()\n",
    "    print(\"-\"*100)\n",
    "    fig, ax = plt.subplots(figsize=(10, 20))\n",
    "    plot_importance(xgb_r,ax=ax)\n",
    "    plt.show()\n",
    "  \n",
    "  with open(name+'.pkl', 'wb') as handle:\n",
    "    pickle.dump(xgb_r, handle, protocol=pickle.HIGHEST_PROTOCOL)\n",
    "  print(datetime.now()-start)\n",
    "  print('-'*100)\n",
    "  return [RMSE1,RMSE]"
   ]
  },
  {
   "cell_type": "code",
   "execution_count": 68,
   "id": "4cb75716",
   "metadata": {
    "execution": {
     "iopub.execute_input": "2022-05-30T09:31:01.561907Z",
     "iopub.status.busy": "2022-05-30T09:31:01.561637Z",
     "iopub.status.idle": "2022-05-30T09:35:26.071895Z",
     "shell.execute_reply": "2022-05-30T09:35:26.070881Z"
    },
    "id": "unaBxP9L1l2M",
    "outputId": "8dd63ea4-f4b6-4506-bdcd-92e9935f0a7b",
    "papermill": {
     "duration": 265.131735,
     "end_time": "2022-05-30T09:35:26.074054",
     "exception": false,
     "start_time": "2022-05-30T09:31:00.942319",
     "status": "completed"
    },
    "tags": []
   },
   "outputs": [
    {
     "name": "stdout",
     "output_type": "stream",
     "text": [
      "Fitting 3 folds for each of 8 candidates, totalling 24 fits\n",
      "time required to tune hyperparamter     0:04:07.580999\n",
      "****************************************************************************************************\n",
      "XGBRegressor(base_score=0.5, booster='gbtree', callbacks=None,\n",
      "             colsample_bylevel=1, colsample_bynode=1, colsample_bytree=1,\n",
      "             early_stopping_rounds=None, enable_categorical=False,\n",
      "             eval_metric=None, gamma=0, gpu_id=0, grow_policy='depthwise',\n",
      "             importance_type=None, interaction_constraints='',\n",
      "             learning_rate=0.02, max_bin=256, max_cat_to_onehot=4,\n",
      "             max_delta_step=0, max_depth=8, max_leaves=0, min_child_weight=1,\n",
      "             missing=nan, monotone_constraints='()', n_estimators=800, n_jobs=0,\n",
      "             num_parallel_tree=1, predictor='auto', random_state=15,\n",
      "             reg_alpha=0, reg_lambda=1, ...)\n",
      "****************************************************************************************************\n"
     ]
    },
    {
     "data": {
      "image/png": "[encoded data removed]",
      "text/plain": [
       "<Figure size 432x288 with 1 Axes>"
      ]
     },
     "metadata": {
      "needs_background": "light"
     },
     "output_type": "display_data"
    },
    {
     "data": {
      "image/png": "[encoded data removed]",
      "text/plain": [
       "<Figure size 432x288 with 1 Axes>"
      ]
     },
     "metadata": {
      "needs_background": "light"
     },
     "output_type": "display_data"
    },
    {
     "name": "stdout",
     "output_type": "stream",
     "text": [
      "----------------------------------------------------------------------------------------------------\n"
     ]
    },
    {
     "data": {
      "image/png": "[encoded data removed]",
      "text/plain": [
       "<Figure size 720x1440 with 1 Axes>"
      ]
     },
     "metadata": {
      "needs_background": "light"
     },
     "output_type": "display_data"
    },
    {
     "name": "stdout",
     "output_type": "stream",
     "text": [
      "0:04:24.425395\n",
      "----------------------------------------------------------------------------------------------------\n"
     ]
    },
    {
     "data": {
      "text/plain": [
       "[0.6452332043639201, 0.7880284038981112]"
      ]
     },
     "execution_count": 68,
     "metadata": {},
     "output_type": "execute_result"
    }
   ],
   "source": [
    "rmse=dict()\n",
    "\n",
    "X_train, X_test, y_train, y_test = train_test_split(final1.drop('promo_code',axis=1), final1.vendor_rating_x, test_size=0.20,random_state=15)\n",
    "regressor(X_train.drop('vendor_rating_x',axis=1), X_test.drop('vendor_rating_x',axis=1), y_train, y_test ,'raw model',True)"
   ]
  },
  {
   "cell_type": "markdown",
   "id": "13e3df9f",
   "metadata": {
    "id": "7RmTn2tR1wF_",
    "papermill": {
     "duration": 0.628063,
     "end_time": "2022-05-30T09:35:27.342767",
     "exception": false,
     "start_time": "2022-05-30T09:35:26.714704",
     "status": "completed"
    },
    "tags": []
   },
   "source": [
    "## Adding some features based on collaborative filtering of customer_id, vendor_id and rating"
   ]
  },
  {
   "cell_type": "markdown",
   "id": "4e4e7093",
   "metadata": {
    "id": "pK3_njWNSvd0",
    "papermill": {
     "duration": 0.622489,
     "end_time": "2022-05-30T09:35:28.841908",
     "exception": false,
     "start_time": "2022-05-30T09:35:28.219419",
     "status": "completed"
    },
    "tags": []
   },
   "source": [
    "### adding features using Surprise library"
   ]
  },
  {
   "cell_type": "code",
   "execution_count": 69,
   "id": "abd63230",
   "metadata": {
    "execution": {
     "iopub.execute_input": "2022-05-30T09:35:30.070005Z",
     "iopub.status.busy": "2022-05-30T09:35:30.069731Z",
     "iopub.status.idle": "2022-05-30T09:35:30.174376Z",
     "shell.execute_reply": "2022-05-30T09:35:30.173683Z"
    },
    "id": "SdrJFIhp8Pk_",
    "papermill": {
     "duration": 0.721925,
     "end_time": "2022-05-30T09:35:30.176667",
     "exception": false,
     "start_time": "2022-05-30T09:35:29.454742",
     "status": "completed"
    },
    "tags": []
   },
   "outputs": [],
   "source": [
    "reader = Reader(rating_scale=(1,5))\n",
    "\n",
    "# create the traindata from the dataframe...\n",
    "train_data = Dataset.load_from_df(X_train[['customer_id', 'vendor_id', 'vendor_rating_x']], reader)\n",
    "trainset = train_data.build_full_trainset() \n",
    "\n",
    "#we are just adding both as we\n",
    "testset = list(zip(X_test.customer_id.values, X_test.vendor_id.values, X_test.vendor_rating_x.values))\n",
    "testset[:3]\n",
    "\n",
    "models_evaluation_train = dict()\n",
    "models_evaluation_test = dict()\n"
   ]
  },
  {
   "cell_type": "code",
   "execution_count": 70,
   "id": "ad36eb5b",
   "metadata": {
    "execution": {
     "iopub.execute_input": "2022-05-30T09:35:31.422304Z",
     "iopub.status.busy": "2022-05-30T09:35:31.422053Z",
     "iopub.status.idle": "2022-05-30T09:35:31.438406Z",
     "shell.execute_reply": "2022-05-30T09:35:31.437734Z"
    },
    "id": "WsTcOd_j9c3d",
    "papermill": {
     "duration": 0.641895,
     "end_time": "2022-05-30T09:35:31.440081",
     "exception": false,
     "start_time": "2022-05-30T09:35:30.798186",
     "status": "completed"
    },
    "tags": []
   },
   "outputs": [],
   "source": [
    "import random\n",
    "my_seed = 15\n",
    "random.seed(my_seed)\n",
    "np.random.seed(my_seed)\n",
    "\n",
    "##########################################################\n",
    "# get  (actual_list , predicted_list) ratings given list \n",
    "# of predictions (prediction is a class in Surprise).    \n",
    "##########################################################\n",
    "def get_ratings(predictions):\n",
    "    actual = np.array([pred.r_ui for pred in predictions])\n",
    "    pred = np.array([pred.est for pred in predictions])\n",
    "    \n",
    "    return actual, pred\n",
    "\n",
    "################################################################\n",
    "# get ''rmse'' and ''mape'' , given list of prediction objecs \n",
    "################################################################\n",
    "def get_errors(predictions, print_them=False):\n",
    "\n",
    "    actual, pred = get_ratings(predictions)\n",
    "    rmse = np.sqrt(np.mean((pred - actual)**2))\n",
    "    mape = np.mean(np.abs(pred - actual)/actual)\n",
    "\n",
    "    return rmse, mape*100\n",
    "\n",
    "##################################################################################\n",
    "# It will return predicted ratings, rmse and mape of both train and test data   #\n",
    "##################################################################################\n",
    "def run_surprise(algo, trainset, testset, verbose=True): \n",
    "    '''\n",
    "        return train_dict, test_dict\n",
    "    \n",
    "        It returns two dictionaries, one for train and the other is for test\n",
    "        Each of them have 3 key-value pairs, which specify ''rmse'', ''mape'', and ''predicted ratings''.\n",
    "    '''\n",
    "    start = datetime.now()\n",
    "    # dictionaries that stores metrics for train and test..\n",
    "    train = dict()\n",
    "    test = dict()\n",
    "    \n",
    "    # train the algorithm with the trainset\n",
    "    st = datetime.now()\n",
    "    print('Training the model...')\n",
    "    algo.fit(trainset)\n",
    "    print('Done. time taken : {} \\n'.format(datetime.now()-st))\n",
    "    \n",
    "    # ---------------- Evaluating train data--------------------#\n",
    "    st = datetime.now()\n",
    "    print('Evaluating the model with train data..')\n",
    "    # get the train predictions (list of prediction class inside Surprise)\n",
    "    train_preds = algo.test(trainset.build_testset())\n",
    "    # get predicted ratings from the train predictions..\n",
    "    train_actual_ratings, train_pred_ratings = get_ratings(train_preds)\n",
    "    # get ''rmse'' and ''mape'' from the train predictions.\n",
    "    train_rmse, train_mape = get_errors(train_preds)\n",
    "    print('time taken : {}'.format(datetime.now()-st))\n",
    "    \n",
    "    if verbose:\n",
    "        print('-'*15)\n",
    "        print('Train Data')\n",
    "        print('-'*15)\n",
    "        print(\"RMSE : {}\\n\\nMAPE : {}\\n\".format(train_rmse, train_mape))\n",
    "    \n",
    "    #store them in the train dictionary\n",
    "    if verbose:\n",
    "        print('adding train results in the dictionary..')\n",
    "    train['rmse'] = train_rmse\n",
    "    train['mape'] = train_mape\n",
    "    train['predictions'] = train_pred_ratings\n",
    "    \n",
    "    #------------ Evaluating Test data---------------#\n",
    "    st = datetime.now()\n",
    "    print('\\nEvaluating for test data...')\n",
    "    # get the predictions( list of prediction classes) of test data\n",
    "    test_preds = algo.test(testset)\n",
    "    # get the predicted ratings from the list of predictions\n",
    "    test_actual_ratings, test_pred_ratings = get_ratings(test_preds)\n",
    "    # get error metrics from the predicted and actual ratings\n",
    "    test_rmse, test_mape = get_errors(test_preds)\n",
    "    print('time taken : {}'.format(datetime.now()-st))\n",
    "    \n",
    "    if verbose:\n",
    "        print('-'*15)\n",
    "        print('Test Data')\n",
    "        print('-'*15)\n",
    "        print(\"RMSE : {}\\n\\nMAPE : {}\\n\".format(test_rmse, test_mape))\n",
    "    # store them in test dictionary\n",
    "    if verbose:\n",
    "        print('storing the test results in test dictionary...')\n",
    "    test['rmse'] = test_rmse\n",
    "    test['mape'] = test_mape\n",
    "    test['predictions'] = test_pred_ratings\n",
    "    \n",
    "    print('\\n'+'-'*45)\n",
    "    print('Total time taken to run this algorithm :', datetime.now() - start)\n",
    "    \n",
    "    # return two dictionaries train and test\n",
    "    return train, test"
   ]
  },
  {
   "cell_type": "markdown",
   "id": "a0a80545",
   "metadata": {
    "id": "80zDR9XnSfFK",
    "papermill": {
     "duration": 0.612351,
     "end_time": "2022-05-30T09:35:32.668348",
     "exception": false,
     "start_time": "2022-05-30T09:35:32.055997",
     "status": "completed"
    },
    "tags": []
   },
   "source": [
    "### Regression with xgboost and baselinemodel"
   ]
  },
  {
   "cell_type": "code",
   "execution_count": 71,
   "id": "a97d1836",
   "metadata": {
    "execution": {
     "iopub.execute_input": "2022-05-30T09:35:33.903346Z",
     "iopub.status.busy": "2022-05-30T09:35:33.903091Z",
     "iopub.status.idle": "2022-05-30T09:35:34.449994Z",
     "shell.execute_reply": "2022-05-30T09:35:34.449263Z"
    },
    "id": "vjaHbVcg9kvl",
    "outputId": "6fe3ea6f-2b46-4c3b-e89a-a3d01c559149",
    "papermill": {
     "duration": 1.164903,
     "end_time": "2022-05-30T09:35:34.452433",
     "exception": false,
     "start_time": "2022-05-30T09:35:33.287530",
     "status": "completed"
    },
    "tags": []
   },
   "outputs": [
    {
     "name": "stdout",
     "output_type": "stream",
     "text": [
      "Training the model...\n",
      "Estimating biases using sgd...\n",
      "Done. time taken : 0:00:00.181204 \n",
      "\n",
      "Evaluating the model with train data..\n",
      "time taken : 0:00:00.283954\n",
      "\n",
      "Evaluating for test data...\n",
      "time taken : 0:00:00.069134\n",
      "\n",
      "---------------------------------------------\n",
      "Total time taken to run this algorithm : 0:00:00.534933\n"
     ]
    }
   ],
   "source": [
    "bsl_options = {'method': 'sgd',\n",
    "               'learning_rate': .1\n",
    "               }\n",
    "bsl_algo = BaselineOnly(bsl_options=bsl_options)\n",
    "# run this algorithm.., It will return the train and test results..\n",
    "bsl_train_results, bsl_test_results = run_surprise(bsl_algo, trainset, testset, verbose=False)\n",
    "\n",
    "\n",
    "# Just store these error metrics in our models_evaluation datastructure\n",
    "models_evaluation_train['bsl_algo'] = bsl_train_results \n",
    "models_evaluation_test['bsl_algo'] = bsl_test_results"
   ]
  },
  {
   "cell_type": "code",
   "execution_count": 72,
   "id": "4e9b1ae2",
   "metadata": {
    "execution": {
     "iopub.execute_input": "2022-05-30T09:35:35.740225Z",
     "iopub.status.busy": "2022-05-30T09:35:35.739670Z",
     "iopub.status.idle": "2022-05-30T09:35:35.745363Z",
     "shell.execute_reply": "2022-05-30T09:35:35.744625Z"
    },
    "id": "u_7h1w-F-oqQ",
    "papermill": {
     "duration": 0.676028,
     "end_time": "2022-05-30T09:35:35.747046",
     "exception": false,
     "start_time": "2022-05-30T09:35:35.071018",
     "status": "completed"
    },
    "tags": []
   },
   "outputs": [],
   "source": [
    "X_train['bslpr']=models_evaluation_train['bsl_algo']['predictions']\n",
    "X_test['bslpr']=models_evaluation_test['bsl_algo']['predictions']"
   ]
  },
  {
   "cell_type": "code",
   "execution_count": 73,
   "id": "f9933d03",
   "metadata": {
    "execution": {
     "iopub.execute_input": "2022-05-30T09:35:36.981576Z",
     "iopub.status.busy": "2022-05-30T09:35:36.981334Z",
     "iopub.status.idle": "2022-05-30T09:39:57.808001Z",
     "shell.execute_reply": "2022-05-30T09:39:57.807209Z"
    },
    "id": "mrMRO_AV_Ydx",
    "outputId": "592c7131-863c-49c1-bba7-7ef3f4ab1f8f",
    "papermill": {
     "duration": 261.4471,
     "end_time": "2022-05-30T09:39:57.810273",
     "exception": false,
     "start_time": "2022-05-30T09:35:36.363173",
     "status": "completed"
    },
    "tags": []
   },
   "outputs": [
    {
     "name": "stdout",
     "output_type": "stream",
     "text": [
      "Fitting 3 folds for each of 8 candidates, totalling 24 fits\n",
      "time required to tune hyperparamter     0:04:06.086093\n",
      "****************************************************************************************************\n",
      "XGBRegressor(base_score=0.5, booster='gbtree', callbacks=None,\n",
      "             colsample_bylevel=1, colsample_bynode=1, colsample_bytree=1,\n",
      "             early_stopping_rounds=None, enable_categorical=False,\n",
      "             eval_metric=None, gamma=0, gpu_id=0, grow_policy='depthwise',\n",
      "             importance_type=None, interaction_constraints='',\n",
      "             learning_rate=0.02, max_bin=256, max_cat_to_onehot=4,\n",
      "             max_delta_step=0, max_depth=8, max_leaves=0, min_child_weight=1,\n",
      "             missing=nan, monotone_constraints='()', n_estimators=800, n_jobs=0,\n",
      "             num_parallel_tree=1, predictor='auto', random_state=15,\n",
      "             reg_alpha=0, reg_lambda=1, ...)\n",
      "****************************************************************************************************\n"
     ]
    },
    {
     "data": {
      "image/png": "[encoded data removed]",
      "text/plain": [
       "<Figure size 432x288 with 1 Axes>"
      ]
     },
     "metadata": {
      "needs_background": "light"
     },
     "output_type": "display_data"
    },
    {
     "name": "stdout",
     "output_type": "stream",
     "text": [
      "0:04:20.797905\n",
      "----------------------------------------------------------------------------------------------------\n"
     ]
    },
    {
     "data": {
      "text/plain": [
       "[0.6508886768436781, 0.7964104571409063]"
      ]
     },
     "execution_count": 73,
     "metadata": {},
     "output_type": "execute_result"
    }
   ],
   "source": [
    "regressor(X_train.drop('vendor_rating_x',axis=1), X_test.drop('vendor_rating_x',axis=1), y_train, y_test ,'baseline model',False)"
   ]
  },
  {
   "cell_type": "markdown",
   "id": "102fe1da",
   "metadata": {
    "id": "BQZIvSRcKtRa",
    "papermill": {
     "duration": 0.638077,
     "end_time": "2022-05-30T09:39:59.074829",
     "exception": false,
     "start_time": "2022-05-30T09:39:58.436752",
     "status": "completed"
    },
    "tags": []
   },
   "source": [
    "### Regression with xgboost and surprise SVD"
   ]
  },
  {
   "cell_type": "code",
   "execution_count": 74,
   "id": "659bb591",
   "metadata": {
    "execution": {
     "iopub.execute_input": "2022-05-30T09:40:00.334238Z",
     "iopub.status.busy": "2022-05-30T09:40:00.333983Z",
     "iopub.status.idle": "2022-05-30T09:41:30.217687Z",
     "shell.execute_reply": "2022-05-30T09:41:30.216729Z"
    },
    "id": "9SFulSC2KxjU",
    "outputId": "7afd6ce8-c4ce-4891-86f1-e8510946e289",
    "papermill": {
     "duration": 90.521193,
     "end_time": "2022-05-30T09:41:30.219942",
     "exception": false,
     "start_time": "2022-05-30T09:39:59.698749",
     "status": "completed"
    },
    "tags": []
   },
   "outputs": [
    {
     "name": "stdout",
     "output_type": "stream",
     "text": [
      "Training the model...\n",
      "Done. time taken : 0:01:24.997072 \n",
      "\n",
      "Evaluating the model with train data..\n",
      "time taken : 0:00:03.725829\n",
      "\n",
      "Evaluating for test data...\n",
      "time taken : 0:00:01.141399\n",
      "\n",
      "---------------------------------------------\n",
      "Total time taken to run this algorithm : 0:01:29.864687\n"
     ]
    }
   ],
   "source": [
    "svdpp = SVDpp(n_factors=60, random_state=15, verbose=False)\n",
    "svdpp_train_results, svdpp_test_results = run_surprise(svdpp, trainset, testset, verbose=False)\n",
    "\n",
    "# Just store these error metrics in our models_evaluation datastructure\n",
    "models_evaluation_train['svdpp'] = svdpp_train_results \n",
    "models_evaluation_test['svdpp'] = svdpp_test_results"
   ]
  },
  {
   "cell_type": "code",
   "execution_count": 75,
   "id": "a6257650",
   "metadata": {
    "execution": {
     "iopub.execute_input": "2022-05-30T09:41:31.724668Z",
     "iopub.status.busy": "2022-05-30T09:41:31.724416Z",
     "iopub.status.idle": "2022-05-30T09:41:31.729930Z",
     "shell.execute_reply": "2022-05-30T09:41:31.729137Z"
    },
    "id": "osq-uonGLRCc",
    "papermill": {
     "duration": 0.630585,
     "end_time": "2022-05-30T09:41:31.731997",
     "exception": false,
     "start_time": "2022-05-30T09:41:31.101412",
     "status": "completed"
    },
    "tags": []
   },
   "outputs": [],
   "source": [
    "X_train['svdpp']=models_evaluation_train['svdpp']['predictions']\n",
    "X_test['svdpp']=models_evaluation_test['svdpp']['predictions']"
   ]
  },
  {
   "cell_type": "code",
   "execution_count": 76,
   "id": "08f575eb",
   "metadata": {
    "execution": {
     "iopub.execute_input": "2022-05-30T09:41:32.977960Z",
     "iopub.status.busy": "2022-05-30T09:41:32.977673Z",
     "iopub.status.idle": "2022-05-30T09:45:56.019671Z",
     "shell.execute_reply": "2022-05-30T09:45:56.018768Z"
    },
    "id": "ZWKO2SxOLkfR",
    "outputId": "fbd3f7b4-0f7c-4e28-e39a-bf3de691d8df",
    "papermill": {
     "duration": 263.667564,
     "end_time": "2022-05-30T09:45:56.021982",
     "exception": false,
     "start_time": "2022-05-30T09:41:32.354418",
     "status": "completed"
    },
    "tags": []
   },
   "outputs": [
    {
     "name": "stdout",
     "output_type": "stream",
     "text": [
      "Fitting 3 folds for each of 8 candidates, totalling 24 fits\n",
      "time required to tune hyperparamter     0:04:07.099847\n",
      "****************************************************************************************************\n",
      "XGBRegressor(base_score=0.5, booster='gbtree', callbacks=None,\n",
      "             colsample_bylevel=1, colsample_bynode=1, colsample_bytree=1,\n",
      "             early_stopping_rounds=None, enable_categorical=False,\n",
      "             eval_metric=None, gamma=0, gpu_id=0, grow_policy='depthwise',\n",
      "             importance_type=None, interaction_constraints='',\n",
      "             learning_rate=0.02, max_bin=256, max_cat_to_onehot=4,\n",
      "             max_delta_step=0, max_depth=8, max_leaves=0, min_child_weight=1,\n",
      "             missing=nan, monotone_constraints='()', n_estimators=800, n_jobs=0,\n",
      "             num_parallel_tree=1, predictor='auto', random_state=15,\n",
      "             reg_alpha=0, reg_lambda=1, ...)\n",
      "****************************************************************************************************\n"
     ]
    },
    {
     "data": {
      "image/png": "[encoded data removed]",
      "text/plain": [
       "<Figure size 432x288 with 1 Axes>"
      ]
     },
     "metadata": {
      "needs_background": "light"
     },
     "output_type": "display_data"
    },
    {
     "name": "stdout",
     "output_type": "stream",
     "text": [
      "0:04:23.017921\n",
      "----------------------------------------------------------------------------------------------------\n"
     ]
    },
    {
     "data": {
      "text/plain": [
       "[0.6413237709473282, 0.7935520975795592]"
      ]
     },
     "execution_count": 76,
     "metadata": {},
     "output_type": "execute_result"
    }
   ],
   "source": [
    "regressor(X_train.drop(['vendor_rating_x','bslpr'],axis=1), X_test.drop(['vendor_rating_x','bslpr'],axis=1), y_train, y_test ,'SVD model',False)"
   ]
  },
  {
   "cell_type": "markdown",
   "id": "57482056",
   "metadata": {
    "id": "WV4LVErKNSsI",
    "papermill": {
     "duration": 0.631203,
     "end_time": "2022-05-30T09:45:57.276741",
     "exception": false,
     "start_time": "2022-05-30T09:45:56.645538",
     "status": "completed"
    },
    "tags": []
   },
   "source": [
    "### Regression with xgboost and knn"
   ]
  },
  {
   "cell_type": "code",
   "execution_count": 77,
   "id": "89e49c5f",
   "metadata": {
    "execution": {
     "iopub.execute_input": "2022-05-30T09:45:58.574622Z",
     "iopub.status.busy": "2022-05-30T09:45:58.574376Z",
     "iopub.status.idle": "2022-05-30T09:46:37.061269Z",
     "shell.execute_reply": "2022-05-30T09:46:37.059688Z"
    },
    "id": "Bbe_Djx1NVMj",
    "outputId": "720c7e29-c9a6-4dab-ce53-613073c3b6b1",
    "papermill": {
     "duration": 39.121857,
     "end_time": "2022-05-30T09:46:37.064085",
     "exception": false,
     "start_time": "2022-05-30T09:45:57.942228",
     "status": "completed"
    },
    "tags": []
   },
   "outputs": [
    {
     "name": "stdout",
     "output_type": "stream",
     "text": [
      "Training the model...\n",
      "Estimating biases using sgd...\n",
      "Computing the pearson_baseline similarity matrix...\n",
      "Done computing similarity matrix.\n",
      "Done. time taken : 0:00:06.304923 \n",
      "\n",
      "Evaluating the model with train data..\n",
      "time taken : 0:00:25.690345\n",
      "---------------\n",
      "Train Data\n",
      "---------------\n",
      "RMSE : 0.4910039126020711\n",
      "\n",
      "MAPE : 9.951418829635998\n",
      "\n",
      "adding train results in the dictionary..\n",
      "\n",
      "Evaluating for test data...\n",
      "time taken : 0:00:06.470353\n",
      "---------------\n",
      "Test Data\n",
      "---------------\n",
      "RMSE : 0.6614684124732495\n",
      "\n",
      "MAPE : 14.366878546529204\n",
      "\n",
      "storing the test results in test dictionary...\n",
      "\n",
      "---------------------------------------------\n",
      "Total time taken to run this algorithm : 0:00:38.466939\n"
     ]
    }
   ],
   "source": [
    "# we specify , how to compute similarities and what to consider with sim_options to our algorithm\n",
    "sim_options = {'user_based' : True,\n",
    "               'name': 'pearson_baseline',\n",
    "               'shrinkage': 100,\n",
    "               'min_support': 2\n",
    "              } \n",
    "# we keep other parameters like regularization parameter and learning_rate as default values.\n",
    "bsl_options = {'method': 'sgd'} \n",
    "\n",
    "knn_bsl_u = KNNBaseline(k=10, sim_options = sim_options, bsl_options = bsl_options)\n",
    "knn_bsl_u_train_results, knn_bsl_u_test_results = run_surprise(knn_bsl_u, trainset, testset, verbose=True)\n",
    "\n",
    "# Just store these error metrics in our models_evaluation datastructure\n",
    "models_evaluation_train['knn_bsl_u'] = knn_bsl_u_train_results \n",
    "models_evaluation_test['knn_bsl_u'] = knn_bsl_u_test_results"
   ]
  },
  {
   "cell_type": "code",
   "execution_count": 78,
   "id": "c7b63f5f",
   "metadata": {
    "execution": {
     "iopub.execute_input": "2022-05-30T09:46:38.334569Z",
     "iopub.status.busy": "2022-05-30T09:46:38.334313Z",
     "iopub.status.idle": "2022-05-30T09:46:38.339878Z",
     "shell.execute_reply": "2022-05-30T09:46:38.339066Z"
    },
    "id": "Uezxaai9Nza2",
    "papermill": {
     "duration": 0.64251,
     "end_time": "2022-05-30T09:46:38.342000",
     "exception": false,
     "start_time": "2022-05-30T09:46:37.699490",
     "status": "completed"
    },
    "tags": []
   },
   "outputs": [],
   "source": [
    "X_train['knn_u']=models_evaluation_train['knn_bsl_u']['predictions']\n",
    "X_test['knn_u']=models_evaluation_test['knn_bsl_u']['predictions']"
   ]
  },
  {
   "cell_type": "code",
   "execution_count": 79,
   "id": "f81666c8",
   "metadata": {
    "execution": {
     "iopub.execute_input": "2022-05-30T09:46:39.883388Z",
     "iopub.status.busy": "2022-05-30T09:46:39.883131Z",
     "iopub.status.idle": "2022-05-30T09:50:54.674201Z",
     "shell.execute_reply": "2022-05-30T09:50:54.673508Z"
    },
    "id": "VAxsQ67oN_Gv",
    "outputId": "a5b2a179-6445-4029-95ce-32751630451a",
    "papermill": {
     "duration": 255.426543,
     "end_time": "2022-05-30T09:50:54.675987",
     "exception": false,
     "start_time": "2022-05-30T09:46:39.249444",
     "status": "completed"
    },
    "tags": []
   },
   "outputs": [
    {
     "name": "stdout",
     "output_type": "stream",
     "text": [
      "Fitting 3 folds for each of 8 candidates, totalling 24 fits\n",
      "time required to tune hyperparamter     0:03:59.733001\n",
      "****************************************************************************************************\n",
      "XGBRegressor(base_score=0.5, booster='gbtree', callbacks=None,\n",
      "             colsample_bylevel=1, colsample_bynode=1, colsample_bytree=1,\n",
      "             early_stopping_rounds=None, enable_categorical=False,\n",
      "             eval_metric=None, gamma=0, gpu_id=0, grow_policy='depthwise',\n",
      "             importance_type=None, interaction_constraints='',\n",
      "             learning_rate=0.02, max_bin=256, max_cat_to_onehot=4,\n",
      "             max_delta_step=0, max_depth=8, max_leaves=0, min_child_weight=1,\n",
      "             missing=nan, monotone_constraints='()', n_estimators=800, n_jobs=0,\n",
      "             num_parallel_tree=1, predictor='auto', random_state=15,\n",
      "             reg_alpha=0, reg_lambda=1, ...)\n",
      "****************************************************************************************************\n"
     ]
    },
    {
     "data": {
      "image/png": "[encoded data removed]",
      "text/plain": [
       "<Figure size 432x288 with 1 Axes>"
      ]
     },
     "metadata": {
      "needs_background": "light"
     },
     "output_type": "display_data"
    },
    {
     "name": "stdout",
     "output_type": "stream",
     "text": [
      "0:04:14.766055\n",
      "----------------------------------------------------------------------------------------------------\n"
     ]
    },
    {
     "data": {
      "text/plain": [
       "[0.6480757753738614, 0.7956662884368232]"
      ]
     },
     "execution_count": 79,
     "metadata": {},
     "output_type": "execute_result"
    }
   ],
   "source": [
    "regressor(X_train.drop(['vendor_rating_x','bslpr','svdpp'],axis=1), X_test.drop(['vendor_rating_x','bslpr','svdpp'],axis=1), y_train, y_test ,'knn model',False)"
   ]
  },
  {
   "cell_type": "markdown",
   "id": "9d5cc61f",
   "metadata": {
    "id": "NOzK3ftQLcrW",
    "papermill": {
     "duration": 0.633188,
     "end_time": "2022-05-30T09:50:55.936125",
     "exception": false,
     "start_time": "2022-05-30T09:50:55.302937",
     "status": "completed"
    },
    "tags": []
   },
   "source": [
    "### all surprise features"
   ]
  },
  {
   "cell_type": "code",
   "execution_count": 80,
   "id": "f13e506c",
   "metadata": {
    "execution": {
     "iopub.execute_input": "2022-05-30T09:50:57.193029Z",
     "iopub.status.busy": "2022-05-30T09:50:57.192730Z",
     "iopub.status.idle": "2022-05-30T09:55:11.601360Z",
     "shell.execute_reply": "2022-05-30T09:55:11.600006Z"
    },
    "id": "CQM5rymjLYZN",
    "outputId": "828944b6-0168-47ef-8b1c-9fbb96a8adcb",
    "papermill": {
     "duration": 255.041407,
     "end_time": "2022-05-30T09:55:11.603818",
     "exception": false,
     "start_time": "2022-05-30T09:50:56.562411",
     "status": "completed"
    },
    "tags": []
   },
   "outputs": [
    {
     "name": "stdout",
     "output_type": "stream",
     "text": [
      "Fitting 3 folds for each of 8 candidates, totalling 24 fits\n",
      "time required to tune hyperparamter     0:03:57.437120\n",
      "****************************************************************************************************\n",
      "XGBRegressor(base_score=0.5, booster='gbtree', callbacks=None,\n",
      "             colsample_bylevel=1, colsample_bynode=1, colsample_bytree=1,\n",
      "             early_stopping_rounds=None, enable_categorical=False,\n",
      "             eval_metric=None, gamma=0, gpu_id=0, grow_policy='depthwise',\n",
      "             importance_type=None, interaction_constraints='',\n",
      "             learning_rate=0.02, max_bin=256, max_cat_to_onehot=4,\n",
      "             max_delta_step=0, max_depth=8, max_leaves=0, min_child_weight=1,\n",
      "             missing=nan, monotone_constraints='()', n_estimators=800, n_jobs=0,\n",
      "             num_parallel_tree=1, predictor='auto', random_state=15,\n",
      "             reg_alpha=0, reg_lambda=1, ...)\n",
      "****************************************************************************************************\n"
     ]
    },
    {
     "data": {
      "image/png": "[encoded data removed]",
      "text/plain": [
       "<Figure size 432x288 with 1 Axes>"
      ]
     },
     "metadata": {
      "needs_background": "light"
     },
     "output_type": "display_data"
    },
    {
     "data": {
      "image/png": "[encoded data removed]",
      "text/plain": [
       "<Figure size 432x288 with 1 Axes>"
      ]
     },
     "metadata": {
      "needs_background": "light"
     },
     "output_type": "display_data"
    },
    {
     "name": "stdout",
     "output_type": "stream",
     "text": [
      "----------------------------------------------------------------------------------------------------\n"
     ]
    },
    {
     "data": {
      "image/png": "[encoded data removed]",
      "text/plain": [
       "<Figure size 720x1440 with 1 Axes>"
      ]
     },
     "metadata": {
      "needs_background": "light"
     },
     "output_type": "display_data"
    },
    {
     "name": "stdout",
     "output_type": "stream",
     "text": [
      "0:04:14.388325\n",
      "----------------------------------------------------------------------------------------------------\n"
     ]
    },
    {
     "data": {
      "text/plain": [
       "[0.6553402701164466, 0.8070701554616005]"
      ]
     },
     "execution_count": 80,
     "metadata": {},
     "output_type": "execute_result"
    }
   ],
   "source": [
    "regressor(X_train.drop(['vendor_rating_x'],axis=1), X_test.drop(['vendor_rating_x'],axis=1), y_train, y_test ,'surprise features',True)"
   ]
  },
  {
   "cell_type": "markdown",
   "id": "dd8ffbdb",
   "metadata": {
    "id": "KtiOB3g1Tv2_",
    "papermill": {
     "duration": 0.631484,
     "end_time": "2022-05-30T09:55:12.870658",
     "exception": false,
     "start_time": "2022-05-30T09:55:12.239174",
     "status": "completed"
    },
    "tags": []
   },
   "source": [
    "## feature selection"
   ]
  },
  {
   "cell_type": "code",
   "execution_count": 81,
   "id": "48cebc1f",
   "metadata": {
    "execution": {
     "iopub.execute_input": "2022-05-30T09:55:14.137746Z",
     "iopub.status.busy": "2022-05-30T09:55:14.137485Z",
     "iopub.status.idle": "2022-05-30T09:58:05.816333Z",
     "shell.execute_reply": "2022-05-30T09:58:05.815089Z"
    },
    "id": "4PNniBDkT4_8",
    "outputId": "0b9cbd06-0ffe-4dda-afc8-007c71c8487c",
    "papermill": {
     "duration": 172.314943,
     "end_time": "2022-05-30T09:58:05.818818",
     "exception": false,
     "start_time": "2022-05-30T09:55:13.503875",
     "status": "completed"
    },
    "tags": []
   },
   "outputs": [
    {
     "name": "stdout",
     "output_type": "stream",
     "text": [
      "Fitting 3 folds for each of 8 candidates, totalling 24 fits\n",
      "time required to tune hyperparamter     0:02:42.849765\n",
      "****************************************************************************************************\n",
      "XGBRegressor(base_score=0.5, booster='gbtree', callbacks=None,\n",
      "             colsample_bylevel=1, colsample_bynode=1, colsample_bytree=1,\n",
      "             early_stopping_rounds=None, enable_categorical=False,\n",
      "             eval_metric=None, gamma=0, gpu_id=0, grow_policy='depthwise',\n",
      "             importance_type=None, interaction_constraints='',\n",
      "             learning_rate=0.02, max_bin=256, max_cat_to_onehot=4,\n",
      "             max_delta_step=0, max_depth=8, max_leaves=0, min_child_weight=1,\n",
      "             missing=nan, monotone_constraints='()', n_estimators=800, n_jobs=0,\n",
      "             num_parallel_tree=1, predictor='auto', random_state=15,\n",
      "             reg_alpha=0, reg_lambda=1, ...)\n",
      "****************************************************************************************************\n"
     ]
    },
    {
     "data": {
      "image/png": "[encoded data removed]",
      "text/plain": [
       "<Figure size 432x288 with 1 Axes>"
      ]
     },
     "metadata": {
      "needs_background": "light"
     },
     "output_type": "display_data"
    },
    {
     "name": "stdout",
     "output_type": "stream",
     "text": [
      "0:02:51.660245\n",
      "----------------------------------------------------------------------------------------------------\n"
     ]
    },
    {
     "data": {
      "text/plain": [
       "[0.6319388668844097, 0.7590906621242676]"
      ]
     },
     "execution_count": 81,
     "metadata": {},
     "output_type": "execute_result"
    }
   ],
   "source": [
    "x_train, x_test, y_train, y_test = train_test_split(final1[['customer_id','grand_total','time_taken','deliverydistance','vendor_rating_y','vendor_id']], final1.vendor_rating_x, test_size=0.20,random_state=15)\n",
    "regressor(x_train, x_test, y_train, y_test ,'selected features',False)"
   ]
  },
  {
   "cell_type": "markdown",
   "id": "c19b5610",
   "metadata": {
    "papermill": {
     "duration": 0.641544,
     "end_time": "2022-05-30T09:58:07.115602",
     "exception": false,
     "start_time": "2022-05-30T09:58:06.474058",
     "status": "completed"
    },
    "tags": []
   },
   "source": [
    "[0.8597408764553838, 0.9166745544300888]"
   ]
  },
  {
   "cell_type": "markdown",
   "id": "75ce157c",
   "metadata": {
    "id": "y-XDjP5HRAvq",
    "papermill": {
     "duration": 0.638676,
     "end_time": "2022-05-30T09:58:08.390993",
     "exception": false,
     "start_time": "2022-05-30T09:58:07.752317",
     "status": "completed"
    },
    "tags": []
   },
   "source": [
    "## plotting results"
   ]
  },
  {
   "cell_type": "code",
   "execution_count": 82,
   "id": "9b601ad8",
   "metadata": {
    "execution": {
     "iopub.execute_input": "2022-05-30T09:58:09.698215Z",
     "iopub.status.busy": "2022-05-30T09:58:09.697958Z",
     "iopub.status.idle": "2022-05-30T09:58:09.706600Z",
     "shell.execute_reply": "2022-05-30T09:58:09.705905Z"
    },
    "id": "IFI89LebB-KT",
    "outputId": "5bfcdf8d-c9c7-45d5-fec8-60c48913168d",
    "papermill": {
     "duration": 0.667129,
     "end_time": "2022-05-30T09:58:09.709850",
     "exception": false,
     "start_time": "2022-05-30T09:58:09.042721",
     "status": "completed"
    },
    "tags": []
   },
   "outputs": [
    {
     "name": "stdout",
     "output_type": "stream",
     "text": [
      "+-------------------+--------------------+--------------------+\n",
      "|       Model       |     Train RMSE     |     Test RMSE      |\n",
      "+-------------------+--------------------+--------------------+\n",
      "|     raw model     | 0.6452332043639201 | 0.7880284038981112 |\n",
      "|   baseline model  | 0.6508886768436781 | 0.7964104571409063 |\n",
      "|     knn model     | 0.6480757753738614 | 0.7956662884368232 |\n",
      "|     SVD model     | 0.6413237709473282 | 0.7935520975795592 |\n",
      "| surprise features | 0.6553402701164466 | 0.8070701554616005 |\n",
      "| selected features | 0.6319388668844097 | 0.7590906621242676 |\n",
      "+-------------------+--------------------+--------------------+\n"
     ]
    }
   ],
   "source": [
    "from prettytable import PrettyTable\n",
    "x = PrettyTable()\n",
    "x.field_names = ['Model','Train RMSE','Test RMSE']\n",
    "x.add_row(['raw model',rmse['raw model'][0], rmse['raw model'][1]]) \n",
    "x.add_row(['baseline model',rmse['baseline model'][0], rmse['baseline model'][1]])\n",
    "x.add_row(['knn model',rmse['knn model'][0],rmse['knn model'][1]])\n",
    "x.add_row(['SVD model',rmse['SVD model'][0], rmse['SVD model'][1]])\n",
    "x.add_row(['surprise features',rmse['surprise features'][0], rmse['surprise features'][1]])\n",
    "x.add_row(['selected features',rmse['selected features'][0], rmse['selected features'][1]])\n",
    "\n",
    "print(x)"
   ]
  },
  {
   "cell_type": "markdown",
   "id": "52e993c9",
   "metadata": {
    "id": "0WFYHWghqAk2",
    "papermill": {
     "duration": 0.645584,
     "end_time": "2022-05-30T09:58:10.993349",
     "exception": false,
     "start_time": "2022-05-30T09:58:10.347765",
     "status": "completed"
    },
    "tags": []
   },
   "source": [
    "**We can see models with even selected features**\n",
    "\n",
    "---\n",
    "\n",
    "\n",
    "**customer_id,grand_total,time_taken,deliverydistance even perform well than others with more features thus collaborative filtering can take place on these features only**"
   ]
  },
  {
   "cell_type": "code",
   "execution_count": 83,
   "id": "5ae5ea41",
   "metadata": {
    "execution": {
     "iopub.execute_input": "2022-05-30T09:58:12.513688Z",
     "iopub.status.busy": "2022-05-30T09:58:12.513433Z",
     "iopub.status.idle": "2022-05-30T09:58:12.529144Z",
     "shell.execute_reply": "2022-05-30T09:58:12.528353Z"
    },
    "id": "V1ZfGyPtzF8V",
    "outputId": "43b60e8f-711f-4bc3-f4df-bb5aac218d2a",
    "papermill": {
     "duration": 0.79334,
     "end_time": "2022-05-30T09:58:12.532105",
     "exception": false,
     "start_time": "2022-05-30T09:58:11.738765",
     "status": "completed"
    },
    "tags": []
   },
   "outputs": [
    {
     "data": {
      "text/html": [
       "<div>\n",
       "<style scoped>\n",
       "    .dataframe tbody tr th:only-of-type {\n",
       "        vertical-align: middle;\n",
       "    }\n",
       "\n",
       "    .dataframe tbody tr th {\n",
       "        vertical-align: top;\n",
       "    }\n",
       "\n",
       "    .dataframe thead th {\n",
       "        text-align: right;\n",
       "    }\n",
       "</style>\n",
       "<table border=\"1\" class=\"dataframe\">\n",
       "  <thead>\n",
       "    <tr style=\"text-align: right;\">\n",
       "      <th></th>\n",
       "      <th>vendor_rating_x</th>\n",
       "      <th>bslpr</th>\n",
       "      <th>svdpp</th>\n",
       "      <th>knn_u</th>\n",
       "    </tr>\n",
       "  </thead>\n",
       "  <tbody>\n",
       "    <tr>\n",
       "      <th>10656</th>\n",
       "      <td>5.0</td>\n",
       "      <td>5.000000</td>\n",
       "      <td>4.927010</td>\n",
       "      <td>5.000000</td>\n",
       "    </tr>\n",
       "    <tr>\n",
       "      <th>35843</th>\n",
       "      <td>5.0</td>\n",
       "      <td>5.000000</td>\n",
       "      <td>5.000000</td>\n",
       "      <td>4.700000</td>\n",
       "    </tr>\n",
       "    <tr>\n",
       "      <th>48156</th>\n",
       "      <td>5.0</td>\n",
       "      <td>5.000000</td>\n",
       "      <td>4.927010</td>\n",
       "      <td>5.000000</td>\n",
       "    </tr>\n",
       "    <tr>\n",
       "      <th>29884</th>\n",
       "      <td>5.0</td>\n",
       "      <td>5.000000</td>\n",
       "      <td>4.927010</td>\n",
       "      <td>5.000000</td>\n",
       "    </tr>\n",
       "    <tr>\n",
       "      <th>27001</th>\n",
       "      <td>4.0</td>\n",
       "      <td>5.000000</td>\n",
       "      <td>5.000000</td>\n",
       "      <td>4.700000</td>\n",
       "    </tr>\n",
       "    <tr>\n",
       "      <th>31449</th>\n",
       "      <td>5.0</td>\n",
       "      <td>5.000000</td>\n",
       "      <td>5.000000</td>\n",
       "      <td>4.700000</td>\n",
       "    </tr>\n",
       "    <tr>\n",
       "      <th>19381</th>\n",
       "      <td>5.0</td>\n",
       "      <td>4.933079</td>\n",
       "      <td>4.994192</td>\n",
       "      <td>4.987008</td>\n",
       "    </tr>\n",
       "    <tr>\n",
       "      <th>38940</th>\n",
       "      <td>5.0</td>\n",
       "      <td>5.000000</td>\n",
       "      <td>4.927010</td>\n",
       "      <td>5.000000</td>\n",
       "    </tr>\n",
       "    <tr>\n",
       "      <th>31571</th>\n",
       "      <td>5.0</td>\n",
       "      <td>4.604218</td>\n",
       "      <td>4.781894</td>\n",
       "      <td>4.910781</td>\n",
       "    </tr>\n",
       "    <tr>\n",
       "      <th>48395</th>\n",
       "      <td>5.0</td>\n",
       "      <td>5.000000</td>\n",
       "      <td>4.927010</td>\n",
       "      <td>5.000000</td>\n",
       "    </tr>\n",
       "    <tr>\n",
       "      <th>39379</th>\n",
       "      <td>4.0</td>\n",
       "      <td>5.000000</td>\n",
       "      <td>4.927010</td>\n",
       "      <td>5.000000</td>\n",
       "    </tr>\n",
       "    <tr>\n",
       "      <th>43536</th>\n",
       "      <td>4.0</td>\n",
       "      <td>4.933079</td>\n",
       "      <td>4.994192</td>\n",
       "      <td>4.987008</td>\n",
       "    </tr>\n",
       "    <tr>\n",
       "      <th>35001</th>\n",
       "      <td>5.0</td>\n",
       "      <td>5.000000</td>\n",
       "      <td>4.927010</td>\n",
       "      <td>5.000000</td>\n",
       "    </tr>\n",
       "    <tr>\n",
       "      <th>415</th>\n",
       "      <td>5.0</td>\n",
       "      <td>5.000000</td>\n",
       "      <td>4.927010</td>\n",
       "      <td>5.000000</td>\n",
       "    </tr>\n",
       "    <tr>\n",
       "      <th>26862</th>\n",
       "      <td>5.0</td>\n",
       "      <td>4.481252</td>\n",
       "      <td>4.987846</td>\n",
       "      <td>4.800000</td>\n",
       "    </tr>\n",
       "    <tr>\n",
       "      <th>21265</th>\n",
       "      <td>5.0</td>\n",
       "      <td>4.481252</td>\n",
       "      <td>4.987846</td>\n",
       "      <td>4.800000</td>\n",
       "    </tr>\n",
       "    <tr>\n",
       "      <th>37867</th>\n",
       "      <td>4.0</td>\n",
       "      <td>5.000000</td>\n",
       "      <td>5.000000</td>\n",
       "      <td>4.700000</td>\n",
       "    </tr>\n",
       "    <tr>\n",
       "      <th>32428</th>\n",
       "      <td>5.0</td>\n",
       "      <td>4.933079</td>\n",
       "      <td>4.994192</td>\n",
       "      <td>4.987008</td>\n",
       "    </tr>\n",
       "    <tr>\n",
       "      <th>30160</th>\n",
       "      <td>5.0</td>\n",
       "      <td>4.604218</td>\n",
       "      <td>4.781894</td>\n",
       "      <td>4.910781</td>\n",
       "    </tr>\n",
       "    <tr>\n",
       "      <th>46856</th>\n",
       "      <td>1.0</td>\n",
       "      <td>5.000000</td>\n",
       "      <td>5.000000</td>\n",
       "      <td>4.700000</td>\n",
       "    </tr>\n",
       "  </tbody>\n",
       "</table>\n",
       "</div>"
      ],
      "text/plain": [
       "       vendor_rating_x     bslpr     svdpp     knn_u\n",
       "10656              5.0  5.000000  4.927010  5.000000\n",
       "35843              5.0  5.000000  5.000000  4.700000\n",
       "48156              5.0  5.000000  4.927010  5.000000\n",
       "29884              5.0  5.000000  4.927010  5.000000\n",
       "27001              4.0  5.000000  5.000000  4.700000\n",
       "31449              5.0  5.000000  5.000000  4.700000\n",
       "19381              5.0  4.933079  4.994192  4.987008\n",
       "38940              5.0  5.000000  4.927010  5.000000\n",
       "31571              5.0  4.604218  4.781894  4.910781\n",
       "48395              5.0  5.000000  4.927010  5.000000\n",
       "39379              4.0  5.000000  4.927010  5.000000\n",
       "43536              4.0  4.933079  4.994192  4.987008\n",
       "35001              5.0  5.000000  4.927010  5.000000\n",
       "415                5.0  5.000000  4.927010  5.000000\n",
       "26862              5.0  4.481252  4.987846  4.800000\n",
       "21265              5.0  4.481252  4.987846  4.800000\n",
       "37867              4.0  5.000000  5.000000  4.700000\n",
       "32428              5.0  4.933079  4.994192  4.987008\n",
       "30160              5.0  4.604218  4.781894  4.910781\n",
       "46856              1.0  5.000000  5.000000  4.700000"
      ]
     },
     "execution_count": 83,
     "metadata": {},
     "output_type": "execute_result"
    }
   ],
   "source": [
    "X_train[['vendor_rating_x','bslpr','svdpp','knn_u']].iloc[60:80]"
   ]
  },
  {
   "cell_type": "markdown",
   "id": "9b804f34",
   "metadata": {
    "id": "-uXqiOCcwD_3",
    "papermill": {
     "duration": 0.644369,
     "end_time": "2022-05-30T09:58:13.835845",
     "exception": false,
     "start_time": "2022-05-30T09:58:13.191476",
     "status": "completed"
    },
    "tags": []
   },
   "source": [
    "**table above is showing that why is it so that more features are disturbing RMSE values**"
   ]
  },
  {
   "cell_type": "markdown",
   "id": "afb1cccd",
   "metadata": {
    "id": "QLmZ7OxR318N",
    "papermill": {
     "duration": 0.641428,
     "end_time": "2022-05-30T09:58:15.117578",
     "exception": false,
     "start_time": "2022-05-30T09:58:14.476150",
     "status": "completed"
    },
    "tags": []
   },
   "source": [
    "## Now we will be using our selected features and build user user similarity matrix and also try vendor vendor similarity matrix and based on these matrics we will try predicting next most similar vendors. what we can also do is leverage vendor rating already give and use refer only most rated vendors ie vendors with average rating greater than 4"
   ]
  },
  {
   "cell_type": "markdown",
   "id": "a3ff233d",
   "metadata": {
    "id": "EVDXuAFAkZfW",
    "papermill": {
     "duration": 0.639465,
     "end_time": "2022-05-30T09:58:16.440835",
     "exception": false,
     "start_time": "2022-05-30T09:58:15.801370",
     "status": "completed"
    },
    "tags": []
   },
   "source": [
    "## Collaborative filtering similarity based"
   ]
  },
  {
   "cell_type": "markdown",
   "id": "02acd809",
   "metadata": {
    "id": "5e-Pw-OrqHjo",
    "papermill": {
     "duration": 0.639572,
     "end_time": "2022-05-30T09:58:17.716039",
     "exception": false,
     "start_time": "2022-05-30T09:58:17.076467",
     "status": "completed"
    },
    "tags": []
   },
   "source": [
    "### customer-customer similarity"
   ]
  },
  {
   "cell_type": "code",
   "execution_count": 84,
   "id": "0026d015",
   "metadata": {
    "execution": {
     "iopub.execute_input": "2022-05-30T09:58:19.004414Z",
     "iopub.status.busy": "2022-05-30T09:58:19.004152Z",
     "iopub.status.idle": "2022-05-30T09:59:40.274308Z",
     "shell.execute_reply": "2022-05-30T09:59:40.273655Z"
    },
    "id": "oFvCGR--c9IW",
    "outputId": "754c0284-d849-4674-b856-7581fc4bef9a",
    "papermill": {
     "duration": 81.920816,
     "end_time": "2022-05-30T09:59:40.275970",
     "exception": false,
     "start_time": "2022-05-30T09:58:18.355154",
     "status": "completed"
    },
    "tags": []
   },
   "outputs": [
    {
     "name": "stderr",
     "output_type": "stream",
     "text": [
      "100%|██████████| 100/100 [01:21<00:00,  1.23it/s]\n"
     ]
    },
    {
     "data": {
      "text/html": [
       "<div>\n",
       "<style scoped>\n",
       "    .dataframe tbody tr th:only-of-type {\n",
       "        vertical-align: middle;\n",
       "    }\n",
       "\n",
       "    .dataframe tbody tr th {\n",
       "        vertical-align: top;\n",
       "    }\n",
       "\n",
       "    .dataframe thead th {\n",
       "        text-align: right;\n",
       "    }\n",
       "</style>\n",
       "<table border=\"1\" class=\"dataframe\">\n",
       "  <thead>\n",
       "    <tr style=\"text-align: right;\">\n",
       "      <th></th>\n",
       "      <th>0</th>\n",
       "      <th>1</th>\n",
       "      <th>2</th>\n",
       "      <th>3</th>\n",
       "      <th>4</th>\n",
       "      <th>5</th>\n",
       "      <th>6</th>\n",
       "      <th>7</th>\n",
       "      <th>8</th>\n",
       "      <th>9</th>\n",
       "      <th>...</th>\n",
       "      <th>90</th>\n",
       "      <th>91</th>\n",
       "      <th>92</th>\n",
       "      <th>93</th>\n",
       "      <th>94</th>\n",
       "      <th>95</th>\n",
       "      <th>96</th>\n",
       "      <th>97</th>\n",
       "      <th>98</th>\n",
       "      <th>99</th>\n",
       "    </tr>\n",
       "  </thead>\n",
       "  <tbody>\n",
       "    <tr>\n",
       "      <th>0</th>\n",
       "      <td>1.000000</td>\n",
       "      <td>0.097947</td>\n",
       "      <td>0.682861</td>\n",
       "      <td>0.807216</td>\n",
       "      <td>0.768810</td>\n",
       "      <td>0.546445</td>\n",
       "      <td>0.695962</td>\n",
       "      <td>0.363478</td>\n",
       "      <td>0.837352</td>\n",
       "      <td>0.154456</td>\n",
       "      <td>...</td>\n",
       "      <td>0.666320</td>\n",
       "      <td>-0.050361</td>\n",
       "      <td>0.282547</td>\n",
       "      <td>-0.312600</td>\n",
       "      <td>0.592128</td>\n",
       "      <td>0.524790</td>\n",
       "      <td>0.983174</td>\n",
       "      <td>0.217482</td>\n",
       "      <td>-0.184385</td>\n",
       "      <td>-0.063693</td>\n",
       "    </tr>\n",
       "    <tr>\n",
       "      <th>1</th>\n",
       "      <td>0.097947</td>\n",
       "      <td>1.000000</td>\n",
       "      <td>0.782042</td>\n",
       "      <td>-0.082187</td>\n",
       "      <td>0.549931</td>\n",
       "      <td>0.085118</td>\n",
       "      <td>-0.206253</td>\n",
       "      <td>-0.160713</td>\n",
       "      <td>0.433000</td>\n",
       "      <td>-0.044059</td>\n",
       "      <td>...</td>\n",
       "      <td>0.347019</td>\n",
       "      <td>-0.274259</td>\n",
       "      <td>-0.206415</td>\n",
       "      <td>-0.677040</td>\n",
       "      <td>0.263229</td>\n",
       "      <td>-0.104654</td>\n",
       "      <td>0.136813</td>\n",
       "      <td>-0.083233</td>\n",
       "      <td>0.087636</td>\n",
       "      <td>0.187762</td>\n",
       "    </tr>\n",
       "    <tr>\n",
       "      <th>2</th>\n",
       "      <td>0.682861</td>\n",
       "      <td>0.782042</td>\n",
       "      <td>1.000000</td>\n",
       "      <td>0.487064</td>\n",
       "      <td>0.838809</td>\n",
       "      <td>0.491989</td>\n",
       "      <td>0.252347</td>\n",
       "      <td>0.141012</td>\n",
       "      <td>0.795477</td>\n",
       "      <td>-0.024489</td>\n",
       "      <td>...</td>\n",
       "      <td>0.672384</td>\n",
       "      <td>-0.141024</td>\n",
       "      <td>0.112109</td>\n",
       "      <td>-0.635644</td>\n",
       "      <td>0.587007</td>\n",
       "      <td>0.223491</td>\n",
       "      <td>0.717751</td>\n",
       "      <td>0.010816</td>\n",
       "      <td>0.034526</td>\n",
       "      <td>0.154413</td>\n",
       "    </tr>\n",
       "    <tr>\n",
       "      <th>3</th>\n",
       "      <td>0.807216</td>\n",
       "      <td>-0.082187</td>\n",
       "      <td>0.487064</td>\n",
       "      <td>1.000000</td>\n",
       "      <td>0.517863</td>\n",
       "      <td>0.852499</td>\n",
       "      <td>0.286520</td>\n",
       "      <td>0.601634</td>\n",
       "      <td>0.649221</td>\n",
       "      <td>0.150928</td>\n",
       "      <td>...</td>\n",
       "      <td>0.806378</td>\n",
       "      <td>0.536080</td>\n",
       "      <td>0.743553</td>\n",
       "      <td>0.187051</td>\n",
       "      <td>0.792648</td>\n",
       "      <td>0.547351</td>\n",
       "      <td>0.810060</td>\n",
       "      <td>-0.335288</td>\n",
       "      <td>0.327381</td>\n",
       "      <td>0.432986</td>\n",
       "    </tr>\n",
       "    <tr>\n",
       "      <th>4</th>\n",
       "      <td>0.768810</td>\n",
       "      <td>0.549931</td>\n",
       "      <td>0.838809</td>\n",
       "      <td>0.517863</td>\n",
       "      <td>1.000000</td>\n",
       "      <td>0.410156</td>\n",
       "      <td>0.287845</td>\n",
       "      <td>0.444812</td>\n",
       "      <td>0.845205</td>\n",
       "      <td>0.264909</td>\n",
       "      <td>...</td>\n",
       "      <td>0.689209</td>\n",
       "      <td>-0.145346</td>\n",
       "      <td>0.163101</td>\n",
       "      <td>-0.433073</td>\n",
       "      <td>0.726903</td>\n",
       "      <td>0.192695</td>\n",
       "      <td>0.703156</td>\n",
       "      <td>0.132399</td>\n",
       "      <td>0.005695</td>\n",
       "      <td>0.153980</td>\n",
       "    </tr>\n",
       "    <tr>\n",
       "      <th>...</th>\n",
       "      <td>...</td>\n",
       "      <td>...</td>\n",
       "      <td>...</td>\n",
       "      <td>...</td>\n",
       "      <td>...</td>\n",
       "      <td>...</td>\n",
       "      <td>...</td>\n",
       "      <td>...</td>\n",
       "      <td>...</td>\n",
       "      <td>...</td>\n",
       "      <td>...</td>\n",
       "      <td>...</td>\n",
       "      <td>...</td>\n",
       "      <td>...</td>\n",
       "      <td>...</td>\n",
       "      <td>...</td>\n",
       "      <td>...</td>\n",
       "      <td>...</td>\n",
       "      <td>...</td>\n",
       "      <td>...</td>\n",
       "      <td>...</td>\n",
       "    </tr>\n",
       "    <tr>\n",
       "      <th>7516</th>\n",
       "      <td>0.300047</td>\n",
       "      <td>0.377336</td>\n",
       "      <td>0.514859</td>\n",
       "      <td>0.108751</td>\n",
       "      <td>0.057288</td>\n",
       "      <td>0.188721</td>\n",
       "      <td>0.494203</td>\n",
       "      <td>-0.444459</td>\n",
       "      <td>0.169277</td>\n",
       "      <td>-0.602562</td>\n",
       "      <td>...</td>\n",
       "      <td>-0.025838</td>\n",
       "      <td>-0.316744</td>\n",
       "      <td>-0.192104</td>\n",
       "      <td>-0.633179</td>\n",
       "      <td>-0.195903</td>\n",
       "      <td>0.084167</td>\n",
       "      <td>0.455374</td>\n",
       "      <td>0.291350</td>\n",
       "      <td>-0.298935</td>\n",
       "      <td>-0.386984</td>\n",
       "    </tr>\n",
       "    <tr>\n",
       "      <th>7517</th>\n",
       "      <td>-0.149527</td>\n",
       "      <td>0.003692</td>\n",
       "      <td>-0.165042</td>\n",
       "      <td>-0.510848</td>\n",
       "      <td>0.194323</td>\n",
       "      <td>-0.439091</td>\n",
       "      <td>0.097604</td>\n",
       "      <td>0.159674</td>\n",
       "      <td>-0.233801</td>\n",
       "      <td>-0.070959</td>\n",
       "      <td>...</td>\n",
       "      <td>-0.495559</td>\n",
       "      <td>-0.495272</td>\n",
       "      <td>-0.370009</td>\n",
       "      <td>-0.106006</td>\n",
       "      <td>-0.175786</td>\n",
       "      <td>-0.640077</td>\n",
       "      <td>-0.263334</td>\n",
       "      <td>0.648112</td>\n",
       "      <td>-0.258231</td>\n",
       "      <td>-0.402979</td>\n",
       "    </tr>\n",
       "    <tr>\n",
       "      <th>7518</th>\n",
       "      <td>0.328863</td>\n",
       "      <td>-0.447034</td>\n",
       "      <td>-0.066700</td>\n",
       "      <td>0.253064</td>\n",
       "      <td>-0.262671</td>\n",
       "      <td>0.193562</td>\n",
       "      <td>0.723236</td>\n",
       "      <td>-0.168500</td>\n",
       "      <td>-0.121528</td>\n",
       "      <td>-0.565736</td>\n",
       "      <td>...</td>\n",
       "      <td>-0.264556</td>\n",
       "      <td>-0.085941</td>\n",
       "      <td>0.044749</td>\n",
       "      <td>-0.063286</td>\n",
       "      <td>-0.299475</td>\n",
       "      <td>0.129180</td>\n",
       "      <td>0.431886</td>\n",
       "      <td>0.420094</td>\n",
       "      <td>-0.349365</td>\n",
       "      <td>-0.533306</td>\n",
       "    </tr>\n",
       "    <tr>\n",
       "      <th>7519</th>\n",
       "      <td>0.192052</td>\n",
       "      <td>-0.485602</td>\n",
       "      <td>-0.163235</td>\n",
       "      <td>0.201781</td>\n",
       "      <td>-0.380672</td>\n",
       "      <td>0.225579</td>\n",
       "      <td>0.586979</td>\n",
       "      <td>-0.125327</td>\n",
       "      <td>-0.275665</td>\n",
       "      <td>-0.659636</td>\n",
       "      <td>...</td>\n",
       "      <td>-0.342057</td>\n",
       "      <td>0.032762</td>\n",
       "      <td>0.124952</td>\n",
       "      <td>0.068361</td>\n",
       "      <td>-0.315195</td>\n",
       "      <td>0.007001</td>\n",
       "      <td>0.303399</td>\n",
       "      <td>0.326593</td>\n",
       "      <td>-0.211807</td>\n",
       "      <td>-0.444603</td>\n",
       "    </tr>\n",
       "    <tr>\n",
       "      <th>7520</th>\n",
       "      <td>-0.179610</td>\n",
       "      <td>-0.250377</td>\n",
       "      <td>-0.356685</td>\n",
       "      <td>-0.458057</td>\n",
       "      <td>0.042649</td>\n",
       "      <td>-0.397170</td>\n",
       "      <td>0.119691</td>\n",
       "      <td>0.240350</td>\n",
       "      <td>-0.365624</td>\n",
       "      <td>-0.108052</td>\n",
       "      <td>...</td>\n",
       "      <td>-0.572440</td>\n",
       "      <td>-0.360636</td>\n",
       "      <td>-0.252301</td>\n",
       "      <td>0.107388</td>\n",
       "      <td>-0.208687</td>\n",
       "      <td>-0.638932</td>\n",
       "      <td>-0.296030</td>\n",
       "      <td>0.622871</td>\n",
       "      <td>-0.212804</td>\n",
       "      <td>-0.400212</td>\n",
       "    </tr>\n",
       "  </tbody>\n",
       "</table>\n",
       "<p>7521 rows × 100 columns</p>\n",
       "</div>"
      ],
      "text/plain": [
       "            0         1         2         3         4         5         6   \\\n",
       "0     1.000000  0.097947  0.682861  0.807216  0.768810  0.546445  0.695962   \n",
       "1     0.097947  1.000000  0.782042 -0.082187  0.549931  0.085118 -0.206253   \n",
       "2     0.682861  0.782042  1.000000  0.487064  0.838809  0.491989  0.252347   \n",
       "3     0.807216 -0.082187  0.487064  1.000000  0.517863  0.852499  0.286520   \n",
       "4     0.768810  0.549931  0.838809  0.517863  1.000000  0.410156  0.287845   \n",
       "...        ...       ...       ...       ...       ...       ...       ...   \n",
       "7516  0.300047  0.377336  0.514859  0.108751  0.057288  0.188721  0.494203   \n",
       "7517 -0.149527  0.003692 -0.165042 -0.510848  0.194323 -0.439091  0.097604   \n",
       "7518  0.328863 -0.447034 -0.066700  0.253064 -0.262671  0.193562  0.723236   \n",
       "7519  0.192052 -0.485602 -0.163235  0.201781 -0.380672  0.225579  0.586979   \n",
       "7520 -0.179610 -0.250377 -0.356685 -0.458057  0.042649 -0.397170  0.119691   \n",
       "\n",
       "            7         8         9   ...        90        91        92  \\\n",
       "0     0.363478  0.837352  0.154456  ...  0.666320 -0.050361  0.282547   \n",
       "1    -0.160713  0.433000 -0.044059  ...  0.347019 -0.274259 -0.206415   \n",
       "2     0.141012  0.795477 -0.024489  ...  0.672384 -0.141024  0.112109   \n",
       "3     0.601634  0.649221  0.150928  ...  0.806378  0.536080  0.743553   \n",
       "4     0.444812  0.845205  0.264909  ...  0.689209 -0.145346  0.163101   \n",
       "...        ...       ...       ...  ...       ...       ...       ...   \n",
       "7516 -0.444459  0.169277 -0.602562  ... -0.025838 -0.316744 -0.192104   \n",
       "7517  0.159674 -0.233801 -0.070959  ... -0.495559 -0.495272 -0.370009   \n",
       "7518 -0.168500 -0.121528 -0.565736  ... -0.264556 -0.085941  0.044749   \n",
       "7519 -0.125327 -0.275665 -0.659636  ... -0.342057  0.032762  0.124952   \n",
       "7520  0.240350 -0.365624 -0.108052  ... -0.572440 -0.360636 -0.252301   \n",
       "\n",
       "            93        94        95        96        97        98        99  \n",
       "0    -0.312600  0.592128  0.524790  0.983174  0.217482 -0.184385 -0.063693  \n",
       "1    -0.677040  0.263229 -0.104654  0.136813 -0.083233  0.087636  0.187762  \n",
       "2    -0.635644  0.587007  0.223491  0.717751  0.010816  0.034526  0.154413  \n",
       "3     0.187051  0.792648  0.547351  0.810060 -0.335288  0.327381  0.432986  \n",
       "4    -0.433073  0.726903  0.192695  0.703156  0.132399  0.005695  0.153980  \n",
       "...        ...       ...       ...       ...       ...       ...       ...  \n",
       "7516 -0.633179 -0.195903  0.084167  0.455374  0.291350 -0.298935 -0.386984  \n",
       "7517 -0.106006 -0.175786 -0.640077 -0.263334  0.648112 -0.258231 -0.402979  \n",
       "7518 -0.063286 -0.299475  0.129180  0.431886  0.420094 -0.349365 -0.533306  \n",
       "7519  0.068361 -0.315195  0.007001  0.303399  0.326593 -0.211807 -0.444603  \n",
       "7520  0.107388 -0.208687 -0.638932 -0.296030  0.622871 -0.212804 -0.400212  \n",
       "\n",
       "[7521 rows x 100 columns]"
      ]
     },
     "execution_count": 84,
     "metadata": {},
     "output_type": "execute_result"
    }
   ],
   "source": [
    "# here we not only rely on our rating parameter but instead go out and use all parameters available\n",
    "from sklearn.metrics.pairwise import cosine_similarity\n",
    "from sklearn.preprocessing import StandardScaler\n",
    "from tqdm import tqdm\n",
    "cus_scaler=StandardScaler()\n",
    "x=final1[['customer_id','grand_total','time_taken','deliverydistance','vendor_rating_y','vendor_rating_x']]\n",
    "cust_sim=x.groupby(['customer_id']).mean()\n",
    "cust_sim1=cus_scaler.fit_transform(cust_sim)\n",
    "a=np.zeros((7521,100))\n",
    "for i in tqdm(range(100)):  #this can be taken to 7521 but for time constraint taking it till 100 only\n",
    "  for j in range(len(cust_sim1)):\n",
    "    a[j][i]=cosine_similarity([cust_sim1[i],cust_sim1[j]]).min()\n",
    "customer_sim=pd.DataFrame(a)\n",
    "del a\n",
    "customer_sim"
   ]
  },
  {
   "cell_type": "code",
   "execution_count": 85,
   "id": "4815aee7",
   "metadata": {
    "execution": {
     "iopub.execute_input": "2022-05-30T09:59:41.661059Z",
     "iopub.status.busy": "2022-05-30T09:59:41.660712Z",
     "iopub.status.idle": "2022-05-30T09:59:41.673236Z",
     "shell.execute_reply": "2022-05-30T09:59:41.671562Z"
    },
    "id": "dR--4RR7d7dj",
    "outputId": "a398b143-7041-47de-d9ce-57fa3314b28d",
    "papermill": {
     "duration": 0.684104,
     "end_time": "2022-05-30T09:59:41.675226",
     "exception": false,
     "start_time": "2022-05-30T09:59:40.991122",
     "status": "completed"
    },
    "tags": []
   },
   "outputs": [
    {
     "name": "stdout",
     "output_type": "stream",
     "text": [
      "vendor rating average given in vendor.csv 4.53,  rating acc to orders 4.56,    similarity score 1.00000   with index numb 4\n",
      "vendor rating average given in vendor.csv 4.70,  rating acc to orders 5.00,    similarity score 0.98771   with index numb 361\n",
      "vendor rating average given in vendor.csv 4.70,  rating acc to orders 5.00,    similarity score 0.98164   with index numb 188\n",
      "vendor rating average given in vendor.csv 4.70,  rating acc to orders 5.00,    similarity score 0.97822   with index numb 2469\n",
      "vendor rating average given in vendor.csv 4.62,  rating acc to orders 5.00,    similarity score 0.97695   with index numb 164\n",
      "vendor rating average given in vendor.csv 4.70,  rating acc to orders 4.67,    similarity score 0.97446   with index numb 407\n",
      "vendor rating average given in vendor.csv 4.70,  rating acc to orders 5.00,    similarity score 0.97334   with index numb 1196\n",
      "vendor rating average given in vendor.csv 4.47,  rating acc to orders 4.50,    similarity score 0.97328   with index numb 1611\n",
      "vendor rating average given in vendor.csv 4.52,  rating acc to orders 4.78,    similarity score 0.97102   with index numb 798\n",
      "vendor rating average given in vendor.csv 4.60,  rating acc to orders 5.00,    similarity score 0.97009   with index numb 3997\n"
     ]
    }
   ],
   "source": [
    "customer_numb=4\n",
    "for i in customer_sim.nlargest(10, [customer_numb]).index:\n",
    "  print('vendor rating average given in vendor.csv {:0.2f},  rating acc to orders {:0.2f},    similarity score {:0.5f}   with index numb {}'.format(cust_sim.vendor_rating_y.iloc[i],cust_sim.vendor_rating_x.iloc[i],customer_sim[customer_numb].iloc[i],i))"
   ]
  },
  {
   "cell_type": "markdown",
   "id": "76908e5a",
   "metadata": {
    "id": "WaQ-hg-xqAns",
    "papermill": {
     "duration": 0.677339,
     "end_time": "2022-05-30T09:59:43.032813",
     "exception": false,
     "start_time": "2022-05-30T09:59:42.355474",
     "status": "completed"
    },
    "tags": []
   },
   "source": [
    "### Vendor-vendor similarity"
   ]
  },
  {
   "cell_type": "code",
   "execution_count": 86,
   "id": "9666bd6d",
   "metadata": {
    "execution": {
     "iopub.execute_input": "2022-05-30T09:59:44.379429Z",
     "iopub.status.busy": "2022-05-30T09:59:44.379181Z",
     "iopub.status.idle": "2022-05-30T09:59:45.396415Z",
     "shell.execute_reply": "2022-05-30T09:59:45.395585Z"
    },
    "id": "8pgJARiJ1RJ0",
    "outputId": "af506478-a4a1-4582-8665-9e95b3acc5b4",
    "papermill": {
     "duration": 1.690446,
     "end_time": "2022-05-30T09:59:45.398899",
     "exception": false,
     "start_time": "2022-05-30T09:59:43.708453",
     "status": "completed"
    },
    "tags": []
   },
   "outputs": [
    {
     "data": {
      "text/html": [
       "<div>\n",
       "<style scoped>\n",
       "    .dataframe tbody tr th:only-of-type {\n",
       "        vertical-align: middle;\n",
       "    }\n",
       "\n",
       "    .dataframe tbody tr th {\n",
       "        vertical-align: top;\n",
       "    }\n",
       "\n",
       "    .dataframe thead th {\n",
       "        text-align: right;\n",
       "    }\n",
       "</style>\n",
       "<table border=\"1\" class=\"dataframe\">\n",
       "  <thead>\n",
       "    <tr style=\"text-align: right;\">\n",
       "      <th></th>\n",
       "      <th>0</th>\n",
       "      <th>1</th>\n",
       "      <th>2</th>\n",
       "      <th>3</th>\n",
       "      <th>4</th>\n",
       "      <th>5</th>\n",
       "      <th>6</th>\n",
       "      <th>7</th>\n",
       "      <th>8</th>\n",
       "      <th>9</th>\n",
       "      <th>...</th>\n",
       "      <th>90</th>\n",
       "      <th>91</th>\n",
       "      <th>92</th>\n",
       "      <th>93</th>\n",
       "      <th>94</th>\n",
       "      <th>95</th>\n",
       "      <th>96</th>\n",
       "      <th>97</th>\n",
       "      <th>98</th>\n",
       "      <th>99</th>\n",
       "    </tr>\n",
       "  </thead>\n",
       "  <tbody>\n",
       "    <tr>\n",
       "      <th>0</th>\n",
       "      <td>1.000000</td>\n",
       "      <td>0.382488</td>\n",
       "      <td>-0.429054</td>\n",
       "      <td>0.294958</td>\n",
       "      <td>-0.545677</td>\n",
       "      <td>-0.343252</td>\n",
       "      <td>-0.901071</td>\n",
       "      <td>-0.630957</td>\n",
       "      <td>-0.758379</td>\n",
       "      <td>-0.267468</td>\n",
       "      <td>...</td>\n",
       "      <td>0.521193</td>\n",
       "      <td>0.330128</td>\n",
       "      <td>0.202054</td>\n",
       "      <td>-0.273402</td>\n",
       "      <td>0.033930</td>\n",
       "      <td>0.070878</td>\n",
       "      <td>-0.586070</td>\n",
       "      <td>0.584824</td>\n",
       "      <td>0.551396</td>\n",
       "      <td>0.181810</td>\n",
       "    </tr>\n",
       "    <tr>\n",
       "      <th>1</th>\n",
       "      <td>0.382488</td>\n",
       "      <td>1.000000</td>\n",
       "      <td>0.228075</td>\n",
       "      <td>0.717192</td>\n",
       "      <td>0.334709</td>\n",
       "      <td>0.637253</td>\n",
       "      <td>-0.151788</td>\n",
       "      <td>-0.241878</td>\n",
       "      <td>0.287652</td>\n",
       "      <td>-0.076897</td>\n",
       "      <td>...</td>\n",
       "      <td>-0.191285</td>\n",
       "      <td>-0.408791</td>\n",
       "      <td>-0.010548</td>\n",
       "      <td>-0.531800</td>\n",
       "      <td>-0.718407</td>\n",
       "      <td>-0.684704</td>\n",
       "      <td>-0.432451</td>\n",
       "      <td>-0.070159</td>\n",
       "      <td>-0.225879</td>\n",
       "      <td>-0.044699</td>\n",
       "    </tr>\n",
       "    <tr>\n",
       "      <th>2</th>\n",
       "      <td>-0.429054</td>\n",
       "      <td>0.228075</td>\n",
       "      <td>1.000000</td>\n",
       "      <td>0.635377</td>\n",
       "      <td>0.315465</td>\n",
       "      <td>0.765307</td>\n",
       "      <td>0.275549</td>\n",
       "      <td>0.062250</td>\n",
       "      <td>0.611806</td>\n",
       "      <td>-0.335013</td>\n",
       "      <td>...</td>\n",
       "      <td>0.161406</td>\n",
       "      <td>-0.834223</td>\n",
       "      <td>-0.828300</td>\n",
       "      <td>-0.710947</td>\n",
       "      <td>-0.796411</td>\n",
       "      <td>-0.757464</td>\n",
       "      <td>-0.448865</td>\n",
       "      <td>-0.975805</td>\n",
       "      <td>-0.909866</td>\n",
       "      <td>-0.632755</td>\n",
       "    </tr>\n",
       "    <tr>\n",
       "      <th>3</th>\n",
       "      <td>0.294958</td>\n",
       "      <td>0.717192</td>\n",
       "      <td>0.635377</td>\n",
       "      <td>1.000000</td>\n",
       "      <td>-0.062935</td>\n",
       "      <td>0.645326</td>\n",
       "      <td>-0.378365</td>\n",
       "      <td>-0.571189</td>\n",
       "      <td>0.158588</td>\n",
       "      <td>-0.168859</td>\n",
       "      <td>...</td>\n",
       "      <td>0.291688</td>\n",
       "      <td>-0.454355</td>\n",
       "      <td>-0.502176</td>\n",
       "      <td>-0.791397</td>\n",
       "      <td>-0.773882</td>\n",
       "      <td>-0.706701</td>\n",
       "      <td>-0.834037</td>\n",
       "      <td>-0.517483</td>\n",
       "      <td>-0.413689</td>\n",
       "      <td>-0.626345</td>\n",
       "    </tr>\n",
       "    <tr>\n",
       "      <th>4</th>\n",
       "      <td>-0.545677</td>\n",
       "      <td>0.334709</td>\n",
       "      <td>0.315465</td>\n",
       "      <td>-0.062935</td>\n",
       "      <td>1.000000</td>\n",
       "      <td>0.518103</td>\n",
       "      <td>0.790912</td>\n",
       "      <td>0.802144</td>\n",
       "      <td>0.793373</td>\n",
       "      <td>-0.136615</td>\n",
       "      <td>...</td>\n",
       "      <td>-0.594796</td>\n",
       "      <td>-0.623296</td>\n",
       "      <td>-0.153820</td>\n",
       "      <td>-0.114811</td>\n",
       "      <td>-0.501634</td>\n",
       "      <td>-0.590822</td>\n",
       "      <td>0.395056</td>\n",
       "      <td>-0.299776</td>\n",
       "      <td>-0.647431</td>\n",
       "      <td>0.376664</td>\n",
       "    </tr>\n",
       "    <tr>\n",
       "      <th>...</th>\n",
       "      <td>...</td>\n",
       "      <td>...</td>\n",
       "      <td>...</td>\n",
       "      <td>...</td>\n",
       "      <td>...</td>\n",
       "      <td>...</td>\n",
       "      <td>...</td>\n",
       "      <td>...</td>\n",
       "      <td>...</td>\n",
       "      <td>...</td>\n",
       "      <td>...</td>\n",
       "      <td>...</td>\n",
       "      <td>...</td>\n",
       "      <td>...</td>\n",
       "      <td>...</td>\n",
       "      <td>...</td>\n",
       "      <td>...</td>\n",
       "      <td>...</td>\n",
       "      <td>...</td>\n",
       "      <td>...</td>\n",
       "      <td>...</td>\n",
       "    </tr>\n",
       "    <tr>\n",
       "      <th>95</th>\n",
       "      <td>0.070878</td>\n",
       "      <td>-0.684704</td>\n",
       "      <td>-0.757464</td>\n",
       "      <td>-0.706701</td>\n",
       "      <td>-0.590822</td>\n",
       "      <td>-0.745156</td>\n",
       "      <td>-0.158104</td>\n",
       "      <td>-0.164478</td>\n",
       "      <td>-0.538102</td>\n",
       "      <td>0.507729</td>\n",
       "      <td>...</td>\n",
       "      <td>-0.069081</td>\n",
       "      <td>0.860084</td>\n",
       "      <td>0.677460</td>\n",
       "      <td>0.844406</td>\n",
       "      <td>0.978948</td>\n",
       "      <td>1.000000</td>\n",
       "      <td>0.499914</td>\n",
       "      <td>0.629216</td>\n",
       "      <td>0.831551</td>\n",
       "      <td>0.154346</td>\n",
       "    </tr>\n",
       "    <tr>\n",
       "      <th>96</th>\n",
       "      <td>-0.586070</td>\n",
       "      <td>-0.432451</td>\n",
       "      <td>-0.448865</td>\n",
       "      <td>-0.834037</td>\n",
       "      <td>0.395056</td>\n",
       "      <td>-0.216084</td>\n",
       "      <td>0.717527</td>\n",
       "      <td>0.646836</td>\n",
       "      <td>0.313609</td>\n",
       "      <td>0.500996</td>\n",
       "      <td>...</td>\n",
       "      <td>-0.757105</td>\n",
       "      <td>0.283539</td>\n",
       "      <td>0.586686</td>\n",
       "      <td>0.847496</td>\n",
       "      <td>0.558106</td>\n",
       "      <td>0.499914</td>\n",
       "      <td>1.000000</td>\n",
       "      <td>0.303381</td>\n",
       "      <td>0.207709</td>\n",
       "      <td>0.466895</td>\n",
       "    </tr>\n",
       "    <tr>\n",
       "      <th>97</th>\n",
       "      <td>0.584824</td>\n",
       "      <td>-0.070159</td>\n",
       "      <td>-0.975805</td>\n",
       "      <td>-0.517483</td>\n",
       "      <td>-0.299776</td>\n",
       "      <td>-0.716599</td>\n",
       "      <td>-0.381407</td>\n",
       "      <td>-0.106475</td>\n",
       "      <td>-0.652364</td>\n",
       "      <td>0.189319</td>\n",
       "      <td>...</td>\n",
       "      <td>-0.076134</td>\n",
       "      <td>0.745289</td>\n",
       "      <td>0.781750</td>\n",
       "      <td>0.549452</td>\n",
       "      <td>0.662534</td>\n",
       "      <td>0.629216</td>\n",
       "      <td>0.303381</td>\n",
       "      <td>1.000000</td>\n",
       "      <td>0.881249</td>\n",
       "      <td>0.679686</td>\n",
       "    </tr>\n",
       "    <tr>\n",
       "      <th>98</th>\n",
       "      <td>0.551396</td>\n",
       "      <td>-0.225879</td>\n",
       "      <td>-0.909866</td>\n",
       "      <td>-0.413689</td>\n",
       "      <td>-0.647431</td>\n",
       "      <td>-0.717799</td>\n",
       "      <td>-0.518565</td>\n",
       "      <td>-0.439905</td>\n",
       "      <td>-0.734912</td>\n",
       "      <td>0.439413</td>\n",
       "      <td>...</td>\n",
       "      <td>0.008620</td>\n",
       "      <td>0.916566</td>\n",
       "      <td>0.793601</td>\n",
       "      <td>0.637866</td>\n",
       "      <td>0.807880</td>\n",
       "      <td>0.831551</td>\n",
       "      <td>0.207709</td>\n",
       "      <td>0.881249</td>\n",
       "      <td>1.000000</td>\n",
       "      <td>0.274760</td>\n",
       "    </tr>\n",
       "    <tr>\n",
       "      <th>99</th>\n",
       "      <td>0.181810</td>\n",
       "      <td>-0.044699</td>\n",
       "      <td>-0.632755</td>\n",
       "      <td>-0.626345</td>\n",
       "      <td>0.376664</td>\n",
       "      <td>-0.485817</td>\n",
       "      <td>0.137866</td>\n",
       "      <td>0.590295</td>\n",
       "      <td>-0.203711</td>\n",
       "      <td>-0.252896</td>\n",
       "      <td>...</td>\n",
       "      <td>-0.186255</td>\n",
       "      <td>0.182150</td>\n",
       "      <td>0.379281</td>\n",
       "      <td>0.295467</td>\n",
       "      <td>0.274858</td>\n",
       "      <td>0.154346</td>\n",
       "      <td>0.466895</td>\n",
       "      <td>0.679686</td>\n",
       "      <td>0.274760</td>\n",
       "      <td>1.000000</td>\n",
       "    </tr>\n",
       "  </tbody>\n",
       "</table>\n",
       "<p>100 rows × 100 columns</p>\n",
       "</div>"
      ],
      "text/plain": [
       "          0         1         2         3         4         5         6   \\\n",
       "0   1.000000  0.382488 -0.429054  0.294958 -0.545677 -0.343252 -0.901071   \n",
       "1   0.382488  1.000000  0.228075  0.717192  0.334709  0.637253 -0.151788   \n",
       "2  -0.429054  0.228075  1.000000  0.635377  0.315465  0.765307  0.275549   \n",
       "3   0.294958  0.717192  0.635377  1.000000 -0.062935  0.645326 -0.378365   \n",
       "4  -0.545677  0.334709  0.315465 -0.062935  1.000000  0.518103  0.790912   \n",
       "..       ...       ...       ...       ...       ...       ...       ...   \n",
       "95  0.070878 -0.684704 -0.757464 -0.706701 -0.590822 -0.745156 -0.158104   \n",
       "96 -0.586070 -0.432451 -0.448865 -0.834037  0.395056 -0.216084  0.717527   \n",
       "97  0.584824 -0.070159 -0.975805 -0.517483 -0.299776 -0.716599 -0.381407   \n",
       "98  0.551396 -0.225879 -0.909866 -0.413689 -0.647431 -0.717799 -0.518565   \n",
       "99  0.181810 -0.044699 -0.632755 -0.626345  0.376664 -0.485817  0.137866   \n",
       "\n",
       "          7         8         9   ...        90        91        92        93  \\\n",
       "0  -0.630957 -0.758379 -0.267468  ...  0.521193  0.330128  0.202054 -0.273402   \n",
       "1  -0.241878  0.287652 -0.076897  ... -0.191285 -0.408791 -0.010548 -0.531800   \n",
       "2   0.062250  0.611806 -0.335013  ...  0.161406 -0.834223 -0.828300 -0.710947   \n",
       "3  -0.571189  0.158588 -0.168859  ...  0.291688 -0.454355 -0.502176 -0.791397   \n",
       "4   0.802144  0.793373 -0.136615  ... -0.594796 -0.623296 -0.153820 -0.114811   \n",
       "..       ...       ...       ...  ...       ...       ...       ...       ...   \n",
       "95 -0.164478 -0.538102  0.507729  ... -0.069081  0.860084  0.677460  0.844406   \n",
       "96  0.646836  0.313609  0.500996  ... -0.757105  0.283539  0.586686  0.847496   \n",
       "97 -0.106475 -0.652364  0.189319  ... -0.076134  0.745289  0.781750  0.549452   \n",
       "98 -0.439905 -0.734912  0.439413  ...  0.008620  0.916566  0.793601  0.637866   \n",
       "99  0.590295 -0.203711 -0.252896  ... -0.186255  0.182150  0.379281  0.295467   \n",
       "\n",
       "          94        95        96        97        98        99  \n",
       "0   0.033930  0.070878 -0.586070  0.584824  0.551396  0.181810  \n",
       "1  -0.718407 -0.684704 -0.432451 -0.070159 -0.225879 -0.044699  \n",
       "2  -0.796411 -0.757464 -0.448865 -0.975805 -0.909866 -0.632755  \n",
       "3  -0.773882 -0.706701 -0.834037 -0.517483 -0.413689 -0.626345  \n",
       "4  -0.501634 -0.590822  0.395056 -0.299776 -0.647431  0.376664  \n",
       "..       ...       ...       ...       ...       ...       ...  \n",
       "95  0.978948  1.000000  0.499914  0.629216  0.831551  0.154346  \n",
       "96  0.558106  0.499914  1.000000  0.303381  0.207709  0.466895  \n",
       "97  0.662534  0.629216  0.303381  1.000000  0.881249  0.679686  \n",
       "98  0.807880  0.831551  0.207709  0.881249  1.000000  0.274760  \n",
       "99  0.274858  0.154346  0.466895  0.679686  0.274760  1.000000  \n",
       "\n",
       "[100 rows x 100 columns]"
      ]
     },
     "execution_count": 86,
     "metadata": {},
     "output_type": "execute_result"
    }
   ],
   "source": [
    "#here we will obtain vendor vendor similarity\n",
    "scaler = StandardScaler()\n",
    "x=final1[['vendor_id','grand_total','time_taken','deliverydistance','vendor_rating_y','vendor_rating_x']]\n",
    "vendor_sim=x.groupby(['vendor_id']).mean()\n",
    "vendor_sim1=scaler.fit_transform(vendor_sim)\n",
    "a=np.zeros((100,100))\n",
    "for i in range(len(vendor_sim1)):\n",
    "  for j in range(len(vendor_sim1)):\n",
    "    a[i][j]=cosine_similarity([vendor_sim1[i],vendor_sim1[j]]).min()\n",
    "vend_sim=pd.DataFrame(a)\n",
    "del a\n",
    "vend_sim"
   ]
  },
  {
   "cell_type": "code",
   "execution_count": 87,
   "id": "f33a51b1",
   "metadata": {
    "execution": {
     "iopub.execute_input": "2022-05-30T09:59:46.757392Z",
     "iopub.status.busy": "2022-05-30T09:59:46.757134Z",
     "iopub.status.idle": "2022-05-30T09:59:46.766824Z",
     "shell.execute_reply": "2022-05-30T09:59:46.766068Z"
    },
    "id": "CN3kQoYjU8Dr",
    "outputId": "8f4d93c4-7626-49d3-abd0-428256e6eee3",
    "papermill": {
     "duration": 0.685886,
     "end_time": "2022-05-30T09:59:46.769239",
     "exception": false,
     "start_time": "2022-05-30T09:59:46.083353",
     "status": "completed"
    },
    "tags": []
   },
   "outputs": [
    {
     "name": "stdout",
     "output_type": "stream",
     "text": [
      "vendor rating average given in vendor.csv 4.40,  rating acc to orders 4.58,    similarity score 1.00000,  with index numb 4\n",
      "vendor rating average given in vendor.csv 4.50,  rating acc to orders 4.63,    similarity score 0.98098,  with index numb 77\n",
      "vendor rating average given in vendor.csv 4.50,  rating acc to orders 4.54,    similarity score 0.90145,  with index numb 23\n",
      "vendor rating average given in vendor.csv 4.50,  rating acc to orders 4.50,    similarity score 0.87675,  with index numb 24\n",
      "vendor rating average given in vendor.csv 4.50,  rating acc to orders 4.43,    similarity score 0.87293,  with index numb 33\n",
      "vendor rating average given in vendor.csv 4.60,  rating acc to orders 4.61,    similarity score 0.87109,  with index numb 82\n",
      "vendor rating average given in vendor.csv 4.40,  rating acc to orders 4.61,    similarity score 0.84668,  with index numb 21\n",
      "vendor rating average given in vendor.csv 4.60,  rating acc to orders 4.52,    similarity score 0.81435,  with index numb 56\n",
      "vendor rating average given in vendor.csv 4.30,  rating acc to orders 4.38,    similarity score 0.80214,  with index numb 7\n",
      "vendor rating average given in vendor.csv 4.50,  rating acc to orders 4.61,    similarity score 0.79878,  with index numb 74\n"
     ]
    }
   ],
   "source": [
    "# lets check this with vendor rating of vendor_id 4\n",
    "vendor_id=4\n",
    "for i in vend_sim.nlargest(10, [vendor_id]).index:\n",
    "  #print(vendor_sim.iloc[i])\n",
    "  print('vendor rating average given in vendor.csv {:0.2f},  rating acc to orders {:0.2f},    similarity score {:0.5f},  with index numb {}'.format(vendor_sim.vendor_rating_y.iloc[i],vendor_sim.vendor_rating_x.iloc[i],vend_sim[vendor_id].iloc[i],i))"
   ]
  },
  {
   "cell_type": "code",
   "execution_count": 88,
   "id": "0ec6d1a8",
   "metadata": {
    "execution": {
     "iopub.execute_input": "2022-05-30T09:59:48.120865Z",
     "iopub.status.busy": "2022-05-30T09:59:48.120599Z",
     "iopub.status.idle": "2022-05-30T09:59:48.301491Z",
     "shell.execute_reply": "2022-05-30T09:59:48.300712Z"
    },
    "id": "P5q-o35mthhX",
    "outputId": "b7791269-bbf9-4d66-8245-fe3fd1a2e9e3",
    "papermill": {
     "duration": 0.857673,
     "end_time": "2022-05-30T09:59:48.303820",
     "exception": false,
     "start_time": "2022-05-30T09:59:47.446147",
     "status": "completed"
    },
    "tags": []
   },
   "outputs": [
    {
     "data": {
      "image/png": "[encoded data removed]",
      "text/plain": [
       "<Figure size 432x288 with 1 Axes>"
      ]
     },
     "metadata": {
      "needs_background": "light"
     },
     "output_type": "display_data"
    }
   ],
   "source": [
    "a=[]\n",
    "for i in range(len(vend_sim)):\n",
    "  a.append(i)\n",
    "plt.plot(a,vend_sim[4])\n",
    "plt.title(\"Most similar vendors to vendor numb 4\")\n",
    "plt.grid()"
   ]
  },
  {
   "cell_type": "markdown",
   "id": "8842411a",
   "metadata": {
    "id": "dLk6hQ93QwGd",
    "papermill": {
     "duration": 0.676758,
     "end_time": "2022-05-30T09:59:49.660510",
     "exception": false,
     "start_time": "2022-05-30T09:59:48.983752",
     "status": "completed"
    },
    "tags": []
   },
   "source": [
    "### Customer vendor rating realtionship"
   ]
  },
  {
   "cell_type": "code",
   "execution_count": 89,
   "id": "e061e6eb",
   "metadata": {
    "execution": {
     "iopub.execute_input": "2022-05-30T09:59:51.250584Z",
     "iopub.status.busy": "2022-05-30T09:59:51.249903Z",
     "iopub.status.idle": "2022-05-30T09:59:51.305283Z",
     "shell.execute_reply": "2022-05-30T09:59:51.304622Z"
    },
    "id": "ZzPv3jG07bN2",
    "outputId": "f0395a62-7049-479a-c471-1728bebb0570",
    "papermill": {
     "duration": 0.973626,
     "end_time": "2022-05-30T09:59:51.307067",
     "exception": false,
     "start_time": "2022-05-30T09:59:50.333441",
     "status": "completed"
    },
    "tags": []
   },
   "outputs": [
    {
     "data": {
      "text/html": [
       "<div>\n",
       "<style scoped>\n",
       "    .dataframe tbody tr th:only-of-type {\n",
       "        vertical-align: middle;\n",
       "    }\n",
       "\n",
       "    .dataframe tbody tr th {\n",
       "        vertical-align: top;\n",
       "    }\n",
       "\n",
       "    .dataframe thead th {\n",
       "        text-align: right;\n",
       "    }\n",
       "</style>\n",
       "<table border=\"1\" class=\"dataframe\">\n",
       "  <thead>\n",
       "    <tr style=\"text-align: right;\">\n",
       "      <th>vendor_idx</th>\n",
       "      <th>4</th>\n",
       "      <th>13</th>\n",
       "      <th>20</th>\n",
       "      <th>23</th>\n",
       "      <th>28</th>\n",
       "      <th>33</th>\n",
       "      <th>43</th>\n",
       "      <th>44</th>\n",
       "      <th>55</th>\n",
       "      <th>66</th>\n",
       "      <th>...</th>\n",
       "      <th>681</th>\n",
       "      <th>841</th>\n",
       "      <th>843</th>\n",
       "      <th>845</th>\n",
       "      <th>846</th>\n",
       "      <th>849</th>\n",
       "      <th>855</th>\n",
       "      <th>856</th>\n",
       "      <th>858</th>\n",
       "      <th>907</th>\n",
       "    </tr>\n",
       "    <tr>\n",
       "      <th>customer_idx</th>\n",
       "      <th></th>\n",
       "      <th></th>\n",
       "      <th></th>\n",
       "      <th></th>\n",
       "      <th></th>\n",
       "      <th></th>\n",
       "      <th></th>\n",
       "      <th></th>\n",
       "      <th></th>\n",
       "      <th></th>\n",
       "      <th></th>\n",
       "      <th></th>\n",
       "      <th></th>\n",
       "      <th></th>\n",
       "      <th></th>\n",
       "      <th></th>\n",
       "      <th></th>\n",
       "      <th></th>\n",
       "      <th></th>\n",
       "      <th></th>\n",
       "      <th></th>\n",
       "    </tr>\n",
       "  </thead>\n",
       "  <tbody>\n",
       "    <tr>\n",
       "      <th>0</th>\n",
       "      <td>NaN</td>\n",
       "      <td>NaN</td>\n",
       "      <td>NaN</td>\n",
       "      <td>NaN</td>\n",
       "      <td>NaN</td>\n",
       "      <td>NaN</td>\n",
       "      <td>NaN</td>\n",
       "      <td>NaN</td>\n",
       "      <td>NaN</td>\n",
       "      <td>NaN</td>\n",
       "      <td>...</td>\n",
       "      <td>NaN</td>\n",
       "      <td>NaN</td>\n",
       "      <td>NaN</td>\n",
       "      <td>NaN</td>\n",
       "      <td>NaN</td>\n",
       "      <td>NaN</td>\n",
       "      <td>NaN</td>\n",
       "      <td>NaN</td>\n",
       "      <td>NaN</td>\n",
       "      <td>NaN</td>\n",
       "    </tr>\n",
       "    <tr>\n",
       "      <th>1</th>\n",
       "      <td>NaN</td>\n",
       "      <td>NaN</td>\n",
       "      <td>NaN</td>\n",
       "      <td>NaN</td>\n",
       "      <td>NaN</td>\n",
       "      <td>NaN</td>\n",
       "      <td>NaN</td>\n",
       "      <td>NaN</td>\n",
       "      <td>NaN</td>\n",
       "      <td>NaN</td>\n",
       "      <td>...</td>\n",
       "      <td>NaN</td>\n",
       "      <td>NaN</td>\n",
       "      <td>NaN</td>\n",
       "      <td>NaN</td>\n",
       "      <td>NaN</td>\n",
       "      <td>NaN</td>\n",
       "      <td>NaN</td>\n",
       "      <td>NaN</td>\n",
       "      <td>NaN</td>\n",
       "      <td>NaN</td>\n",
       "    </tr>\n",
       "    <tr>\n",
       "      <th>2</th>\n",
       "      <td>NaN</td>\n",
       "      <td>NaN</td>\n",
       "      <td>NaN</td>\n",
       "      <td>NaN</td>\n",
       "      <td>NaN</td>\n",
       "      <td>NaN</td>\n",
       "      <td>NaN</td>\n",
       "      <td>NaN</td>\n",
       "      <td>NaN</td>\n",
       "      <td>NaN</td>\n",
       "      <td>...</td>\n",
       "      <td>NaN</td>\n",
       "      <td>NaN</td>\n",
       "      <td>NaN</td>\n",
       "      <td>NaN</td>\n",
       "      <td>NaN</td>\n",
       "      <td>NaN</td>\n",
       "      <td>NaN</td>\n",
       "      <td>NaN</td>\n",
       "      <td>NaN</td>\n",
       "      <td>NaN</td>\n",
       "    </tr>\n",
       "    <tr>\n",
       "      <th>3</th>\n",
       "      <td>NaN</td>\n",
       "      <td>NaN</td>\n",
       "      <td>NaN</td>\n",
       "      <td>NaN</td>\n",
       "      <td>NaN</td>\n",
       "      <td>NaN</td>\n",
       "      <td>NaN</td>\n",
       "      <td>NaN</td>\n",
       "      <td>NaN</td>\n",
       "      <td>NaN</td>\n",
       "      <td>...</td>\n",
       "      <td>NaN</td>\n",
       "      <td>NaN</td>\n",
       "      <td>NaN</td>\n",
       "      <td>NaN</td>\n",
       "      <td>NaN</td>\n",
       "      <td>NaN</td>\n",
       "      <td>NaN</td>\n",
       "      <td>NaN</td>\n",
       "      <td>NaN</td>\n",
       "      <td>NaN</td>\n",
       "    </tr>\n",
       "    <tr>\n",
       "      <th>4</th>\n",
       "      <td>NaN</td>\n",
       "      <td>NaN</td>\n",
       "      <td>NaN</td>\n",
       "      <td>NaN</td>\n",
       "      <td>NaN</td>\n",
       "      <td>4.0</td>\n",
       "      <td>NaN</td>\n",
       "      <td>NaN</td>\n",
       "      <td>NaN</td>\n",
       "      <td>NaN</td>\n",
       "      <td>...</td>\n",
       "      <td>NaN</td>\n",
       "      <td>NaN</td>\n",
       "      <td>NaN</td>\n",
       "      <td>NaN</td>\n",
       "      <td>NaN</td>\n",
       "      <td>NaN</td>\n",
       "      <td>NaN</td>\n",
       "      <td>NaN</td>\n",
       "      <td>5.0</td>\n",
       "      <td>NaN</td>\n",
       "    </tr>\n",
       "    <tr>\n",
       "      <th>...</th>\n",
       "      <td>...</td>\n",
       "      <td>...</td>\n",
       "      <td>...</td>\n",
       "      <td>...</td>\n",
       "      <td>...</td>\n",
       "      <td>...</td>\n",
       "      <td>...</td>\n",
       "      <td>...</td>\n",
       "      <td>...</td>\n",
       "      <td>...</td>\n",
       "      <td>...</td>\n",
       "      <td>...</td>\n",
       "      <td>...</td>\n",
       "      <td>...</td>\n",
       "      <td>...</td>\n",
       "      <td>...</td>\n",
       "      <td>...</td>\n",
       "      <td>...</td>\n",
       "      <td>...</td>\n",
       "      <td>...</td>\n",
       "      <td>...</td>\n",
       "    </tr>\n",
       "    <tr>\n",
       "      <th>7516</th>\n",
       "      <td>NaN</td>\n",
       "      <td>NaN</td>\n",
       "      <td>NaN</td>\n",
       "      <td>NaN</td>\n",
       "      <td>NaN</td>\n",
       "      <td>NaN</td>\n",
       "      <td>NaN</td>\n",
       "      <td>NaN</td>\n",
       "      <td>NaN</td>\n",
       "      <td>NaN</td>\n",
       "      <td>...</td>\n",
       "      <td>NaN</td>\n",
       "      <td>NaN</td>\n",
       "      <td>NaN</td>\n",
       "      <td>NaN</td>\n",
       "      <td>NaN</td>\n",
       "      <td>NaN</td>\n",
       "      <td>NaN</td>\n",
       "      <td>NaN</td>\n",
       "      <td>NaN</td>\n",
       "      <td>5.0</td>\n",
       "    </tr>\n",
       "    <tr>\n",
       "      <th>7517</th>\n",
       "      <td>NaN</td>\n",
       "      <td>NaN</td>\n",
       "      <td>NaN</td>\n",
       "      <td>NaN</td>\n",
       "      <td>NaN</td>\n",
       "      <td>NaN</td>\n",
       "      <td>NaN</td>\n",
       "      <td>NaN</td>\n",
       "      <td>NaN</td>\n",
       "      <td>NaN</td>\n",
       "      <td>...</td>\n",
       "      <td>NaN</td>\n",
       "      <td>NaN</td>\n",
       "      <td>NaN</td>\n",
       "      <td>NaN</td>\n",
       "      <td>NaN</td>\n",
       "      <td>NaN</td>\n",
       "      <td>NaN</td>\n",
       "      <td>NaN</td>\n",
       "      <td>NaN</td>\n",
       "      <td>5.0</td>\n",
       "    </tr>\n",
       "    <tr>\n",
       "      <th>7518</th>\n",
       "      <td>NaN</td>\n",
       "      <td>NaN</td>\n",
       "      <td>NaN</td>\n",
       "      <td>NaN</td>\n",
       "      <td>NaN</td>\n",
       "      <td>NaN</td>\n",
       "      <td>NaN</td>\n",
       "      <td>NaN</td>\n",
       "      <td>NaN</td>\n",
       "      <td>NaN</td>\n",
       "      <td>...</td>\n",
       "      <td>NaN</td>\n",
       "      <td>NaN</td>\n",
       "      <td>NaN</td>\n",
       "      <td>NaN</td>\n",
       "      <td>NaN</td>\n",
       "      <td>NaN</td>\n",
       "      <td>NaN</td>\n",
       "      <td>NaN</td>\n",
       "      <td>NaN</td>\n",
       "      <td>5.0</td>\n",
       "    </tr>\n",
       "    <tr>\n",
       "      <th>7519</th>\n",
       "      <td>NaN</td>\n",
       "      <td>NaN</td>\n",
       "      <td>NaN</td>\n",
       "      <td>NaN</td>\n",
       "      <td>NaN</td>\n",
       "      <td>NaN</td>\n",
       "      <td>NaN</td>\n",
       "      <td>NaN</td>\n",
       "      <td>NaN</td>\n",
       "      <td>NaN</td>\n",
       "      <td>...</td>\n",
       "      <td>NaN</td>\n",
       "      <td>NaN</td>\n",
       "      <td>NaN</td>\n",
       "      <td>NaN</td>\n",
       "      <td>NaN</td>\n",
       "      <td>NaN</td>\n",
       "      <td>NaN</td>\n",
       "      <td>NaN</td>\n",
       "      <td>NaN</td>\n",
       "      <td>5.0</td>\n",
       "    </tr>\n",
       "    <tr>\n",
       "      <th>7520</th>\n",
       "      <td>NaN</td>\n",
       "      <td>NaN</td>\n",
       "      <td>NaN</td>\n",
       "      <td>NaN</td>\n",
       "      <td>NaN</td>\n",
       "      <td>NaN</td>\n",
       "      <td>NaN</td>\n",
       "      <td>NaN</td>\n",
       "      <td>NaN</td>\n",
       "      <td>NaN</td>\n",
       "      <td>...</td>\n",
       "      <td>NaN</td>\n",
       "      <td>NaN</td>\n",
       "      <td>NaN</td>\n",
       "      <td>NaN</td>\n",
       "      <td>NaN</td>\n",
       "      <td>NaN</td>\n",
       "      <td>NaN</td>\n",
       "      <td>NaN</td>\n",
       "      <td>NaN</td>\n",
       "      <td>5.0</td>\n",
       "    </tr>\n",
       "  </tbody>\n",
       "</table>\n",
       "<p>7521 rows × 100 columns</p>\n",
       "</div>"
      ],
      "text/plain": [
       "vendor_idx    4    13   20   23   28   33   43   44   55   66   ...  681  841  \\\n",
       "customer_idx                                                    ...             \n",
       "0             NaN  NaN  NaN  NaN  NaN  NaN  NaN  NaN  NaN  NaN  ...  NaN  NaN   \n",
       "1             NaN  NaN  NaN  NaN  NaN  NaN  NaN  NaN  NaN  NaN  ...  NaN  NaN   \n",
       "2             NaN  NaN  NaN  NaN  NaN  NaN  NaN  NaN  NaN  NaN  ...  NaN  NaN   \n",
       "3             NaN  NaN  NaN  NaN  NaN  NaN  NaN  NaN  NaN  NaN  ...  NaN  NaN   \n",
       "4             NaN  NaN  NaN  NaN  NaN  4.0  NaN  NaN  NaN  NaN  ...  NaN  NaN   \n",
       "...           ...  ...  ...  ...  ...  ...  ...  ...  ...  ...  ...  ...  ...   \n",
       "7516          NaN  NaN  NaN  NaN  NaN  NaN  NaN  NaN  NaN  NaN  ...  NaN  NaN   \n",
       "7517          NaN  NaN  NaN  NaN  NaN  NaN  NaN  NaN  NaN  NaN  ...  NaN  NaN   \n",
       "7518          NaN  NaN  NaN  NaN  NaN  NaN  NaN  NaN  NaN  NaN  ...  NaN  NaN   \n",
       "7519          NaN  NaN  NaN  NaN  NaN  NaN  NaN  NaN  NaN  NaN  ...  NaN  NaN   \n",
       "7520          NaN  NaN  NaN  NaN  NaN  NaN  NaN  NaN  NaN  NaN  ...  NaN  NaN   \n",
       "\n",
       "vendor_idx    843  845  846  849  855  856  858  907  \n",
       "customer_idx                                          \n",
       "0             NaN  NaN  NaN  NaN  NaN  NaN  NaN  NaN  \n",
       "1             NaN  NaN  NaN  NaN  NaN  NaN  NaN  NaN  \n",
       "2             NaN  NaN  NaN  NaN  NaN  NaN  NaN  NaN  \n",
       "3             NaN  NaN  NaN  NaN  NaN  NaN  NaN  NaN  \n",
       "4             NaN  NaN  NaN  NaN  NaN  NaN  5.0  NaN  \n",
       "...           ...  ...  ...  ...  ...  ...  ...  ...  \n",
       "7516          NaN  NaN  NaN  NaN  NaN  NaN  NaN  5.0  \n",
       "7517          NaN  NaN  NaN  NaN  NaN  NaN  NaN  5.0  \n",
       "7518          NaN  NaN  NaN  NaN  NaN  NaN  NaN  5.0  \n",
       "7519          NaN  NaN  NaN  NaN  NaN  NaN  NaN  5.0  \n",
       "7520          NaN  NaN  NaN  NaN  NaN  NaN  NaN  5.0  \n",
       "\n",
       "[7521 rows x 100 columns]"
      ]
     },
     "execution_count": 89,
     "metadata": {},
     "output_type": "execute_result"
    }
   ],
   "source": [
    "ratings = final1[['customer_id', 'vendor_id', 'vendor_rating_x']].astype(int)\n",
    "ratings.rename(columns={'customer_id':'customer_idx', 'vendor_id':'vendor_idx', 'vendor_rating_x':'rating'}, inplace=True)\n",
    "ratings = ratings.groupby(['customer_idx', 'vendor_idx']).mean().reset_index()\n",
    "rating_full_matrix_by_index_with_nan = ratings.pivot(index='customer_idx', columns='vendor_idx', values='rating')\n",
    "rating_full_matrix_by_index_with_nan"
   ]
  },
  {
   "cell_type": "code",
   "execution_count": 90,
   "id": "b18168e2",
   "metadata": {
    "execution": {
     "iopub.execute_input": "2022-05-30T09:59:52.673850Z",
     "iopub.status.busy": "2022-05-30T09:59:52.673592Z",
     "iopub.status.idle": "2022-05-30T09:59:52.873022Z",
     "shell.execute_reply": "2022-05-30T09:59:52.872334Z"
    },
    "id": "lYVlmCKALxRw",
    "outputId": "e83e1f16-bda0-44a1-ec11-92d4d0fc9a11",
    "papermill": {
     "duration": 0.875925,
     "end_time": "2022-05-30T09:59:52.874845",
     "exception": false,
     "start_time": "2022-05-30T09:59:51.998920",
     "status": "completed"
    },
    "tags": []
   },
   "outputs": [
    {
     "data": {
      "text/plain": [
       "<AxesSubplot:ylabel='count'>"
      ]
     },
     "execution_count": 90,
     "metadata": {},
     "output_type": "execute_result"
    },
    {
     "data": {
      "image/png": "[encoded data removed]",
      "text/plain": [
       "<Figure size 432x288 with 1 Axes>"
      ]
     },
     "metadata": {
      "needs_background": "light"
     },
     "output_type": "display_data"
    }
   ],
   "source": [
    "sns.countplot(rating_full_matrix_by_index_with_nan.notnull().sum(axis=1))"
   ]
  },
  {
   "cell_type": "markdown",
   "id": "e0d9a193",
   "metadata": {
    "id": "fpZ_sm3mITlT",
    "papermill": {
     "duration": 0.675819,
     "end_time": "2022-05-30T09:59:54.224570",
     "exception": false,
     "start_time": "2022-05-30T09:59:53.548751",
     "status": "completed"
    },
    "tags": []
   },
   "source": [
    "This shows that user voted for max 15 vendors and data looks healthy"
   ]
  },
  {
   "cell_type": "markdown",
   "id": "588b4a4a",
   "metadata": {
    "id": "ce8yZNJ9QWiC",
    "papermill": {
     "duration": 0.678603,
     "end_time": "2022-05-30T09:59:55.577710",
     "exception": false,
     "start_time": "2022-05-30T09:59:54.899107",
     "status": "completed"
    },
    "tags": []
   },
   "source": [
    "## Testing the model"
   ]
  },
  {
   "cell_type": "code",
   "execution_count": 91,
   "id": "16dc6d9a",
   "metadata": {
    "execution": {
     "iopub.execute_input": "2022-05-30T09:59:56.931016Z",
     "iopub.status.busy": "2022-05-30T09:59:56.930746Z",
     "iopub.status.idle": "2022-05-30T09:59:56.955051Z",
     "shell.execute_reply": "2022-05-30T09:59:56.954027Z"
    },
    "id": "XnXyrfOmQcf3",
    "outputId": "a83e7db4-f8be-48d8-f05a-c5d88b3b1ba5",
    "papermill": {
     "duration": 0.705929,
     "end_time": "2022-05-30T09:59:56.957105",
     "exception": false,
     "start_time": "2022-05-30T09:59:56.251176",
     "status": "completed"
    },
    "tags": []
   },
   "outputs": [
    {
     "name": "stdout",
     "output_type": "stream",
     "text": [
      "****************************************************************************************************\n",
      "top recommended vendors are\n",
      "****************************************************************************************************\n",
      "1 you can go for vendor with id : 113\n",
      "2 you can go for vendor with id : 298\n",
      "3 you can go for vendor with id : 310\n"
     ]
    }
   ],
   "source": [
    "from collections import Counter\n",
    "def get_vendor(cust_id):\n",
    "  k=customer_sim.nlargest(4, [cust_id])\n",
    "  #print(k)\n",
    "  vendor_list=[]\n",
    "  for i in range(1,len(k)):\n",
    "    vendor_list.append(final1.vendor_id[final1.customer_id==i].unique())\n",
    "  a=[]\n",
    "  for i in range(3):\n",
    "    for j in vendor_list[i]:\n",
    "      a.append(j)\n",
    "  return Counter(a).most_common()\n",
    "\n",
    "k=4\n",
    "a=get_vendor(k)\n",
    "count=0;inc=1\n",
    "venlist=[]\n",
    "print(\"*\"*100)\n",
    "print(\"top recommended vendors are\")\n",
    "print(\"*\"*100)\n",
    "while len(venlist)<3:\n",
    "  try:\n",
    "    if (final.vendor_rating_x[(final1.customer_id==k) & (final1.vendor_id==a[count][0])].mean()) > 4:\n",
    "      venlist.append(str(inc)+' you can go for vendor with id : '+str(a[count][0]))\n",
    "      inc+=1\n",
    "    count+=1\n",
    "  except:\n",
    "    break\n",
    "for i in venlist:\n",
    "  print(i)"
   ]
  }
 ],
 "metadata": {
  "kernelspec": {
   "display_name": "Python 3.9.0 64-bit",
   "language": "python",
   "name": "python3"
  },
  "language_info": {
   "codemirror_mode": {
    "name": "ipython",
    "version": 3
   },
   "file_extension": ".py",
   "mimetype": "text/x-python",
   "name": "python",
   "nbconvert_exporter": "python",
   "pygments_lexer": "ipython3",
   "version": "3.9.0"
  },
  "papermill": {
   "default_parameters": {},
   "duration": 2001.831532,
   "end_time": "2022-05-30T10:00:00.357129",
   "environment_variables": {},
   "exception": null,
   "input_path": "__notebook__.ipynb",
   "output_path": "__notebook__.ipynb",
   "parameters": {},
   "start_time": "2022-05-30T09:26:38.525597",
   "version": "2.3.4"
  },
  "vscode": {
   "interpreter": {
    "hash": "8f5658c0cad6118503d9ca8bf5164b9411e04f668acea8746f7eb999caca282a"
   }
  }
 },
 "nbformat": 4,
 "nbformat_minor": 5
}
