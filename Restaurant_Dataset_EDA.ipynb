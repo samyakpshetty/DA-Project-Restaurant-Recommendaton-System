{
 "cells": [
  {
   "cell_type": "code",
   "execution_count": 29,
   "id": "18254f3e",
   "metadata": {},
   "outputs": [
    {
     "ename": "ModuleNotFoundError",
     "evalue": "No module named 'tensorflow'",
     "output_type": "error",
     "traceback": [
      "\u001b[0;31m---------------------------------------------------------------------------\u001b[0m",
      "\u001b[0;31mModuleNotFoundError\u001b[0m                       Traceback (most recent call last)",
      "Input \u001b[0;32mIn [29]\u001b[0m, in \u001b[0;36m<cell line: 7>\u001b[0;34m()\u001b[0m\n\u001b[1;32m      5\u001b[0m \u001b[38;5;28;01mimport\u001b[39;00m \u001b[38;5;21;01mseaborn\u001b[39;00m \u001b[38;5;28;01mas\u001b[39;00m \u001b[38;5;21;01msns\u001b[39;00m\n\u001b[1;32m      6\u001b[0m \u001b[38;5;28;01mimport\u001b[39;00m \u001b[38;5;21;01mmissingno\u001b[39;00m \u001b[38;5;28;01mas\u001b[39;00m \u001b[38;5;21;01mmsno\u001b[39;00m\n\u001b[0;32m----> 7\u001b[0m \u001b[38;5;28;01mimport\u001b[39;00m \u001b[38;5;21;01mtensorflow\u001b[39;00m \u001b[38;5;28;01mas\u001b[39;00m \u001b[38;5;21;01mtf\u001b[39;00m\n\u001b[1;32m      8\u001b[0m \u001b[38;5;28;01mfrom\u001b[39;00m \u001b[38;5;21;01mtensorflow\u001b[39;00m\u001b[38;5;21;01m.\u001b[39;00m\u001b[38;5;21;01mkeras\u001b[39;00m \u001b[38;5;28;01mimport\u001b[39;00m layers\n\u001b[1;32m      9\u001b[0m \u001b[38;5;28;01mfrom\u001b[39;00m \u001b[38;5;21;01mtensorflow\u001b[39;00m\u001b[38;5;21;01m.\u001b[39;00m\u001b[38;5;21;01mkeras\u001b[39;00m\u001b[38;5;21;01m.\u001b[39;00m\u001b[38;5;21;01mmodels\u001b[39;00m \u001b[38;5;28;01mimport\u001b[39;00m Model\n",
      "\u001b[0;31mModuleNotFoundError\u001b[0m: No module named 'tensorflow'"
     ]
    }
   ],
   "source": [
    "import pandas as pd\n",
    "import numpy as np\n",
    "import matplotlib as mpl\n",
    "import matplotlib.pyplot as plt\n",
    "import seaborn as sns\n",
    "import missingno as msno\n",
    "import tensorflow as tf\n",
    "from tensorflow.keras import layers\n",
    "from tensorflow.keras.models import Model\n",
    "from tensorflow.keras.layers import Input, Embedding, Dot, Add, Flatten\n",
    "from tensorflow.keras.regularizers import l2\n",
    "from tensorflow.keras.optimizers import SGD, Adam, Adamax\n",
    "from difflib import SequenceMatcher\n",
    "from sklearn.feature_extraction.text import TfidfVectorizer\n",
    "from sklearn.feature_extraction.text import CountVectorizer\n",
    "from sklearn.metrics.pairwise import cosine_similarity\n",
    "from gensim.models import Word2Vec"
   ]
  },
  {
   "cell_type": "code",
   "execution_count": null,
   "id": "6759a0f8",
   "metadata": {},
   "outputs": [],
   "source": [
    "# train_full dataset"
   ]
  },
  {
   "cell_type": "code",
   "execution_count": 7,
   "id": "e5522335",
   "metadata": {},
   "outputs": [
    {
     "name": "stderr",
     "output_type": "stream",
     "text": [
      "/var/folders/wq/b6jrf0m53410r55lzfgswyvr0000gn/T/ipykernel_16380/1503859556.py:2: DtypeWarning: Columns (1) have mixed types. Specify dtype option on import or set low_memory=False.\n",
      "  data1=pd.read_csv(\"train_full.csv\")\n"
     ]
    },
    {
     "data": {
      "text/html": [
       "<div>\n",
       "<style scoped>\n",
       "    .dataframe tbody tr th:only-of-type {\n",
       "        vertical-align: middle;\n",
       "    }\n",
       "\n",
       "    .dataframe tbody tr th {\n",
       "        vertical-align: top;\n",
       "    }\n",
       "\n",
       "    .dataframe thead th {\n",
       "        text-align: right;\n",
       "    }\n",
       "</style>\n",
       "<table border=\"1\" class=\"dataframe\">\n",
       "  <thead>\n",
       "    <tr style=\"text-align: right;\">\n",
       "      <th></th>\n",
       "      <th>customer_id</th>\n",
       "      <th>gender</th>\n",
       "      <th>status_x</th>\n",
       "      <th>verified_x</th>\n",
       "      <th>created_at_x</th>\n",
       "      <th>updated_at_x</th>\n",
       "      <th>location_number</th>\n",
       "      <th>location_type</th>\n",
       "      <th>latitude_x</th>\n",
       "      <th>longitude_x</th>\n",
       "      <th>...</th>\n",
       "      <th>country_id</th>\n",
       "      <th>city_id</th>\n",
       "      <th>created_at_y</th>\n",
       "      <th>updated_at_y</th>\n",
       "      <th>device_type</th>\n",
       "      <th>display_orders</th>\n",
       "      <th>location_number_obj</th>\n",
       "      <th>id_obj</th>\n",
       "      <th>CID X LOC_NUM X VENDOR</th>\n",
       "      <th>target</th>\n",
       "    </tr>\n",
       "  </thead>\n",
       "  <tbody>\n",
       "    <tr>\n",
       "      <th>0</th>\n",
       "      <td>TCHWPBT</td>\n",
       "      <td>Male</td>\n",
       "      <td>1</td>\n",
       "      <td>1</td>\n",
       "      <td>2018-02-07 19:16:23</td>\n",
       "      <td>2018-02-07 19:16:23</td>\n",
       "      <td>0</td>\n",
       "      <td>Work</td>\n",
       "      <td>-96.44</td>\n",
       "      <td>-67.2</td>\n",
       "      <td>...</td>\n",
       "      <td>1.0</td>\n",
       "      <td>1.0</td>\n",
       "      <td>2018-01-30 14:42:04</td>\n",
       "      <td>2020-04-07 15:12:43</td>\n",
       "      <td>3</td>\n",
       "      <td>1</td>\n",
       "      <td>0</td>\n",
       "      <td>4</td>\n",
       "      <td>TCHWPBT X 0 X 4</td>\n",
       "      <td>0</td>\n",
       "    </tr>\n",
       "    <tr>\n",
       "      <th>1</th>\n",
       "      <td>TCHWPBT</td>\n",
       "      <td>Male</td>\n",
       "      <td>1</td>\n",
       "      <td>1</td>\n",
       "      <td>2018-02-07 19:16:23</td>\n",
       "      <td>2018-02-07 19:16:23</td>\n",
       "      <td>0</td>\n",
       "      <td>Work</td>\n",
       "      <td>-96.44</td>\n",
       "      <td>-67.2</td>\n",
       "      <td>...</td>\n",
       "      <td>1.0</td>\n",
       "      <td>1.0</td>\n",
       "      <td>2018-05-03 12:32:06</td>\n",
       "      <td>2020-04-05 20:46:03</td>\n",
       "      <td>3</td>\n",
       "      <td>1</td>\n",
       "      <td>0</td>\n",
       "      <td>13</td>\n",
       "      <td>TCHWPBT X 0 X 13</td>\n",
       "      <td>0</td>\n",
       "    </tr>\n",
       "    <tr>\n",
       "      <th>2</th>\n",
       "      <td>TCHWPBT</td>\n",
       "      <td>Male</td>\n",
       "      <td>1</td>\n",
       "      <td>1</td>\n",
       "      <td>2018-02-07 19:16:23</td>\n",
       "      <td>2018-02-07 19:16:23</td>\n",
       "      <td>0</td>\n",
       "      <td>Work</td>\n",
       "      <td>-96.44</td>\n",
       "      <td>-67.2</td>\n",
       "      <td>...</td>\n",
       "      <td>1.0</td>\n",
       "      <td>1.0</td>\n",
       "      <td>2018-05-04 22:28:22</td>\n",
       "      <td>2020-04-07 16:35:55</td>\n",
       "      <td>3</td>\n",
       "      <td>1</td>\n",
       "      <td>0</td>\n",
       "      <td>20</td>\n",
       "      <td>TCHWPBT X 0 X 20</td>\n",
       "      <td>0</td>\n",
       "    </tr>\n",
       "    <tr>\n",
       "      <th>3</th>\n",
       "      <td>TCHWPBT</td>\n",
       "      <td>Male</td>\n",
       "      <td>1</td>\n",
       "      <td>1</td>\n",
       "      <td>2018-02-07 19:16:23</td>\n",
       "      <td>2018-02-07 19:16:23</td>\n",
       "      <td>0</td>\n",
       "      <td>Work</td>\n",
       "      <td>-96.44</td>\n",
       "      <td>-67.2</td>\n",
       "      <td>...</td>\n",
       "      <td>1.0</td>\n",
       "      <td>1.0</td>\n",
       "      <td>2018-05-06 19:20:48</td>\n",
       "      <td>2020-04-02 00:56:17</td>\n",
       "      <td>3</td>\n",
       "      <td>1</td>\n",
       "      <td>0</td>\n",
       "      <td>23</td>\n",
       "      <td>TCHWPBT X 0 X 23</td>\n",
       "      <td>0</td>\n",
       "    </tr>\n",
       "    <tr>\n",
       "      <th>4</th>\n",
       "      <td>TCHWPBT</td>\n",
       "      <td>Male</td>\n",
       "      <td>1</td>\n",
       "      <td>1</td>\n",
       "      <td>2018-02-07 19:16:23</td>\n",
       "      <td>2018-02-07 19:16:23</td>\n",
       "      <td>0</td>\n",
       "      <td>Work</td>\n",
       "      <td>-96.44</td>\n",
       "      <td>-67.2</td>\n",
       "      <td>...</td>\n",
       "      <td>1.0</td>\n",
       "      <td>1.0</td>\n",
       "      <td>2018-05-17 22:12:38</td>\n",
       "      <td>2020-04-05 15:57:41</td>\n",
       "      <td>3</td>\n",
       "      <td>1</td>\n",
       "      <td>0</td>\n",
       "      <td>28</td>\n",
       "      <td>TCHWPBT X 0 X 28</td>\n",
       "      <td>0</td>\n",
       "    </tr>\n",
       "  </tbody>\n",
       "</table>\n",
       "<p>5 rows × 73 columns</p>\n",
       "</div>"
      ],
      "text/plain": [
       "  customer_id gender  status_x  verified_x         created_at_x  \\\n",
       "0     TCHWPBT   Male         1           1  2018-02-07 19:16:23   \n",
       "1     TCHWPBT   Male         1           1  2018-02-07 19:16:23   \n",
       "2     TCHWPBT   Male         1           1  2018-02-07 19:16:23   \n",
       "3     TCHWPBT   Male         1           1  2018-02-07 19:16:23   \n",
       "4     TCHWPBT   Male         1           1  2018-02-07 19:16:23   \n",
       "\n",
       "          updated_at_x  location_number location_type  latitude_x  \\\n",
       "0  2018-02-07 19:16:23                0          Work      -96.44   \n",
       "1  2018-02-07 19:16:23                0          Work      -96.44   \n",
       "2  2018-02-07 19:16:23                0          Work      -96.44   \n",
       "3  2018-02-07 19:16:23                0          Work      -96.44   \n",
       "4  2018-02-07 19:16:23                0          Work      -96.44   \n",
       "\n",
       "   longitude_x  ...  country_id  city_id         created_at_y  \\\n",
       "0        -67.2  ...         1.0      1.0  2018-01-30 14:42:04   \n",
       "1        -67.2  ...         1.0      1.0  2018-05-03 12:32:06   \n",
       "2        -67.2  ...         1.0      1.0  2018-05-04 22:28:22   \n",
       "3        -67.2  ...         1.0      1.0  2018-05-06 19:20:48   \n",
       "4        -67.2  ...         1.0      1.0  2018-05-17 22:12:38   \n",
       "\n",
       "          updated_at_y device_type  display_orders  location_number_obj  \\\n",
       "0  2020-04-07 15:12:43           3               1                    0   \n",
       "1  2020-04-05 20:46:03           3               1                    0   \n",
       "2  2020-04-07 16:35:55           3               1                    0   \n",
       "3  2020-04-02 00:56:17           3               1                    0   \n",
       "4  2020-04-05 15:57:41           3               1                    0   \n",
       "\n",
       "   id_obj  CID X LOC_NUM X VENDOR target  \n",
       "0       4         TCHWPBT X 0 X 4      0  \n",
       "1      13        TCHWPBT X 0 X 13      0  \n",
       "2      20        TCHWPBT X 0 X 20      0  \n",
       "3      23        TCHWPBT X 0 X 23      0  \n",
       "4      28        TCHWPBT X 0 X 28      0  \n",
       "\n",
       "[5 rows x 73 columns]"
      ]
     },
     "execution_count": 7,
     "metadata": {},
     "output_type": "execute_result"
    }
   ],
   "source": [
    "#load data\n",
    "data1=pd.read_csv(\"train_full.csv\")\n",
    "data1.head()"
   ]
  },
  {
   "cell_type": "code",
   "execution_count": 9,
   "id": "fb980ed7",
   "metadata": {},
   "outputs": [
    {
     "name": "stdout",
     "output_type": "stream",
     "text": [
      "<class 'pandas.core.frame.DataFrame'>\n",
      "RangeIndex: 5802400 entries, 0 to 5802399\n",
      "Data columns (total 73 columns):\n",
      " #   Column                  Dtype  \n",
      "---  ------                  -----  \n",
      " 0   customer_id             object \n",
      " 1   gender                  object \n",
      " 2   status_x                int64  \n",
      " 3   verified_x              int64  \n",
      " 4   created_at_x            object \n",
      " 5   updated_at_x            object \n",
      " 6   location_number         int64  \n",
      " 7   location_type           object \n",
      " 8   latitude_x              float64\n",
      " 9   longitude_x             float64\n",
      " 10  id                      int64  \n",
      " 11  authentication_id       float64\n",
      " 12  latitude_y              float64\n",
      " 13  longitude_y             float64\n",
      " 14  vendor_category_en      object \n",
      " 15  vendor_category_id      float64\n",
      " 16  delivery_charge         float64\n",
      " 17  serving_distance        float64\n",
      " 18  is_open                 float64\n",
      " 19  OpeningTime             object \n",
      " 20  OpeningTime2            object \n",
      " 21  prepration_time         int64  \n",
      " 22  commission              float64\n",
      " 23  is_akeed_delivering     object \n",
      " 24  discount_percentage     float64\n",
      " 25  status_y                float64\n",
      " 26  verified_y              int64  \n",
      " 27  rank                    int64  \n",
      " 28  language                object \n",
      " 29  vendor_rating           float64\n",
      " 30  sunday_from_time1       object \n",
      " 31  sunday_to_time1         object \n",
      " 32  sunday_from_time2       object \n",
      " 33  sunday_to_time2         object \n",
      " 34  monday_from_time1       object \n",
      " 35  monday_to_time1         object \n",
      " 36  monday_from_time2       object \n",
      " 37  monday_to_time2         object \n",
      " 38  tuesday_from_time1      object \n",
      " 39  tuesday_to_time1        object \n",
      " 40  tuesday_from_time2      object \n",
      " 41  tuesday_to_time2        object \n",
      " 42  wednesday_from_time1    object \n",
      " 43  wednesday_to_time1      object \n",
      " 44  wednesday_from_time2    object \n",
      " 45  wednesday_to_time2      object \n",
      " 46  thursday_from_time1     object \n",
      " 47  thursday_to_time1       object \n",
      " 48  thursday_from_time2     object \n",
      " 49  thursday_to_time2       object \n",
      " 50  friday_from_time1       object \n",
      " 51  friday_to_time1         object \n",
      " 52  friday_from_time2       object \n",
      " 53  friday_to_time2         object \n",
      " 54  saturday_from_time1     object \n",
      " 55  saturday_to_time1       object \n",
      " 56  saturday_from_time2     object \n",
      " 57  saturday_to_time2       object \n",
      " 58  primary_tags            object \n",
      " 59  open_close_flags        float64\n",
      " 60  vendor_tag              object \n",
      " 61  vendor_tag_name         object \n",
      " 62  one_click_vendor        object \n",
      " 63  country_id              float64\n",
      " 64  city_id                 float64\n",
      " 65  created_at_y            object \n",
      " 66  updated_at_y            object \n",
      " 67  device_type             int64  \n",
      " 68  display_orders          int64  \n",
      " 69  location_number_obj     int64  \n",
      " 70  id_obj                  int64  \n",
      " 71  CID X LOC_NUM X VENDOR  object \n",
      " 72  target                  int64  \n",
      "dtypes: float64(16), int64(12), object(45)\n",
      "memory usage: 3.2+ GB\n"
     ]
    }
   ],
   "source": [
    "data1.info()"
   ]
  },
  {
   "cell_type": "code",
   "execution_count": 11,
   "id": "4af4fddb",
   "metadata": {},
   "outputs": [],
   "source": [
    "# The dataset has 73 columns and 5802400 rows :\n",
    "\n",
    "# So we will just look over about 8-10 columns\n",
    "\n",
    "# gender : Customer's sex\n",
    "# location type : Customer orders from one or more locations\n",
    "# language : Chose language\n",
    "# Opening Time : Vendr's operating time\n",
    "# city_id : City's id\n",
    "# vendor_rating : The vendor's average rating score"
   ]
  },
  {
   "cell_type": "code",
   "execution_count": 12,
   "id": "c4d5ca6e",
   "metadata": {},
   "outputs": [
    {
     "data": {
      "text/plain": [
       "<AxesSubplot: >"
      ]
     },
     "execution_count": 12,
     "metadata": {},
     "output_type": "execute_result"
    },
    {
     "data": {
      "image/png": "[encoded data removed]",
      "text/plain": [
       "<Figure size 1800x720 with 2 Axes>"
      ]
     },
     "metadata": {
      "needs_background": "light"
     },
     "output_type": "display_data"
    }
   ],
   "source": [
    "# Visualize missing values as a matrix\n",
    "main_df=data1[['gender','location_type','language','OpeningTime','city_id','vendor_rating']]\n",
    "msno.matrix(main_df)"
   ]
  },
  {
   "cell_type": "code",
   "execution_count": 13,
   "id": "8bd30593",
   "metadata": {},
   "outputs": [
    {
     "name": "stdout",
     "output_type": "stream",
     "text": [
      "Male      3789100\n",
      "Female     308200\n",
      "Name: gender, dtype: int64\n",
      "1705100\n"
     ]
    },
    {
     "data": {
      "text/plain": [
       "0.2938611608989384"
      ]
     },
     "execution_count": 13,
     "metadata": {},
     "output_type": "execute_result"
    }
   ],
   "source": [
    "#Gender\n",
    "\n",
    "print(data1['gender'].value_counts()) \n",
    "gender_null = np.count_nonzero(data1['gender'].isnull())\n",
    "print(gender_null)\n",
    "\n",
    "gender_null/data1.shape[0]\n",
    "# variables : Male / Female \n",
    "# null ratio is about 30%"
   ]
  },
  {
   "cell_type": "code",
   "execution_count": 31,
   "id": "097b23c6",
   "metadata": {},
   "outputs": [
    {
     "data": {
      "text/plain": [
       "<AxesSubplot: xlabel='gender', ylabel='count'>"
      ]
     },
     "execution_count": 31,
     "metadata": {},
     "output_type": "execute_result"
    },
    {
     "data": {
      "image/png": "[encoded data removed]",
      "text/plain": [
       "<Figure size 432x288 with 1 Axes>"
      ]
     },
     "metadata": {
      "needs_background": "light"
     },
     "output_type": "display_data"
    }
   ],
   "source": [
    "sns.countplot(x='gender',data=data1)"
   ]
  },
  {
   "cell_type": "code",
   "execution_count": 32,
   "id": "f6ac308d",
   "metadata": {},
   "outputs": [
    {
     "name": "stdout",
     "output_type": "stream",
     "text": [
      "Home     1921700\n",
      "Work      627400\n",
      "Other     599100\n",
      "Name: location_type, dtype: int64\n",
      "2654200\n",
      "null Ratio :  0.45743140769336826\n"
     ]
    }
   ],
   "source": [
    "#location type\n",
    "print(data1['location_type'].value_counts())\n",
    "location_null = np.count_nonzero(data1['location_type'].isnull())\n",
    "print(location_null)\n",
    "\n",
    "print(\"null Ratio : \", location_null/data1.shape[0]) \n",
    "# variables : Home / Work / Other  but, we don't know the meaning of 'other' \n",
    "# null ratio is about 45%"
   ]
  },
  {
   "cell_type": "code",
   "execution_count": 34,
   "id": "36df552f",
   "metadata": {},
   "outputs": [
    {
     "data": {
      "text/plain": [
       "<AxesSubplot: xlabel='location_type', ylabel='count'>"
      ]
     },
     "execution_count": 34,
     "metadata": {},
     "output_type": "execute_result"
    },
    {
     "data": {
      "image/png": "[encoded data removed]",
      "text/plain": [
       "<Figure size 432x288 with 1 Axes>"
      ]
     },
     "metadata": {
      "needs_background": "light"
     },
     "output_type": "display_data"
    }
   ],
   "source": [
    "sns.countplot(x='location_type',data=data1)"
   ]
  },
  {
   "cell_type": "code",
   "execution_count": 39,
   "id": "e94e3f6a",
   "metadata": {},
   "outputs": [
    {
     "data": {
      "text/plain": [
       "<AxesSubplot: xlabel='gender', ylabel='count'>"
      ]
     },
     "execution_count": 39,
     "metadata": {},
     "output_type": "execute_result"
    },
    {
     "data": {
      "image/png": "[encoded data removed]",
      "text/plain": [
       "<Figure size 432x288 with 1 Axes>"
      ]
     },
     "metadata": {
      "needs_background": "light"
     },
     "output_type": "display_data"
    }
   ],
   "source": [
    "# The difference of location type by gender\n",
    "sns.countplot(data=data1,x='gender',hue='location_type')"
   ]
  },
  {
   "cell_type": "code",
   "execution_count": 40,
   "id": "91331f3d",
   "metadata": {},
   "outputs": [
    {
     "name": "stdout",
     "output_type": "stream",
     "text": [
      "EN    4932040\n",
      "Name: language, dtype: int64\n",
      "870360\n"
     ]
    },
    {
     "data": {
      "text/plain": [
       "0.15"
      ]
     },
     "execution_count": 40,
     "metadata": {},
     "output_type": "execute_result"
    }
   ],
   "source": [
    "#Language\n",
    "print(data1['language'].value_counts())\n",
    "null = np.count_nonzero(data1['language'].isnull())\n",
    "print(null)\n",
    "\n",
    "null/data1.shape[0] \n",
    "# variables : it has only EN(english)\n",
    "# null ratio is about 15%"
   ]
  },
  {
   "cell_type": "code",
   "execution_count": 41,
   "id": "6d51baa4",
   "metadata": {},
   "outputs": [
    {
     "name": "stdout",
     "output_type": "stream",
     "text": [
      "522216\n"
     ]
    },
    {
     "data": {
      "text/plain": [
       "0.09"
      ]
     },
     "execution_count": 41,
     "metadata": {},
     "output_type": "execute_result"
    }
   ],
   "source": [
    "#Opening Time\n",
    "null = np.count_nonzero(data1['OpeningTime'].isnull())\n",
    "print(null)\n",
    "\n",
    "null/data1.shape[0]\n",
    "# null ratio is about 9%"
   ]
  },
  {
   "cell_type": "code",
   "execution_count": 42,
   "id": "0d344508",
   "metadata": {},
   "outputs": [
    {
     "name": "stdout",
     "output_type": "stream",
     "text": [
      "4.5    1102456\n",
      "4.3    1044432\n",
      "4.2     870360\n",
      "4.4     812336\n",
      "4.6     580240\n",
      "4.7     406168\n",
      "4.0     348144\n",
      "4.1     290120\n",
      "3.8     116048\n",
      "4.8     116048\n",
      "3.2      58024\n",
      "3.7      58024\n",
      "Name: vendor_rating, dtype: int64\n",
      "0\n"
     ]
    },
    {
     "data": {
      "text/plain": [
       "0.0"
      ]
     },
     "execution_count": 42,
     "metadata": {},
     "output_type": "execute_result"
    }
   ],
   "source": [
    "#Vendor's average rating score\n",
    "\n",
    "print(data1['vendor_rating'].value_counts())\n",
    "null = np.count_nonzero(data1['vendor_rating'].isnull())\n",
    "print(null)\n",
    "\n",
    "null/data1.shape[0]\n",
    "# it has no NaN"
   ]
  },
  {
   "cell_type": "code",
   "execution_count": 43,
   "id": "ef75a123",
   "metadata": {},
   "outputs": [
    {
     "data": {
      "text/plain": [
       "<AxesSubplot: xlabel='vendor_rating', ylabel='count'>"
      ]
     },
     "execution_count": 43,
     "metadata": {},
     "output_type": "execute_result"
    },
    {
     "data": {
      "image/png": "[encoded data removed]",
      "text/plain": [
       "<Figure size 432x288 with 1 Axes>"
      ]
     },
     "metadata": {
      "needs_background": "light"
     },
     "output_type": "display_data"
    }
   ],
   "source": [
    "sns.countplot(x='vendor_rating',data=data1)"
   ]
  },
  {
   "cell_type": "code",
   "execution_count": 44,
   "id": "2e036dd1",
   "metadata": {},
   "outputs": [],
   "source": [
    "# Vendor_rating's distribution is quite crowded between 4.2 and 4.5 👆🏼"
   ]
  },
  {
   "cell_type": "code",
   "execution_count": 46,
   "id": "f4758a48",
   "metadata": {},
   "outputs": [],
   "source": [
    "# Now Orders dataset :👇🏼"
   ]
  },
  {
   "cell_type": "code",
   "execution_count": 47,
   "id": "2654b337",
   "metadata": {},
   "outputs": [
    {
     "name": "stderr",
     "output_type": "stream",
     "text": [
      "/var/folders/wq/b6jrf0m53410r55lzfgswyvr0000gn/T/ipykernel_16380/658036531.py:1: DtypeWarning: Columns (15,16,18,19,20) have mixed types. Specify dtype option on import or set low_memory=False.\n",
      "  data2 = pd.read_csv(\"orders.csv\")\n"
     ]
    },
    {
     "data": {
      "text/html": [
       "<div>\n",
       "<style scoped>\n",
       "    .dataframe tbody tr th:only-of-type {\n",
       "        vertical-align: middle;\n",
       "    }\n",
       "\n",
       "    .dataframe tbody tr th {\n",
       "        vertical-align: top;\n",
       "    }\n",
       "\n",
       "    .dataframe thead th {\n",
       "        text-align: right;\n",
       "    }\n",
       "</style>\n",
       "<table border=\"1\" class=\"dataframe\">\n",
       "  <thead>\n",
       "    <tr style=\"text-align: right;\">\n",
       "      <th></th>\n",
       "      <th>akeed_order_id</th>\n",
       "      <th>customer_id</th>\n",
       "      <th>item_count</th>\n",
       "      <th>grand_total</th>\n",
       "      <th>payment_mode</th>\n",
       "      <th>promo_code</th>\n",
       "      <th>vendor_discount_amount</th>\n",
       "      <th>promo_code_discount_percentage</th>\n",
       "      <th>is_favorite</th>\n",
       "      <th>is_rated</th>\n",
       "      <th>...</th>\n",
       "      <th>driver_accepted_time</th>\n",
       "      <th>ready_for_pickup_time</th>\n",
       "      <th>picked_up_time</th>\n",
       "      <th>delivered_time</th>\n",
       "      <th>delivery_date</th>\n",
       "      <th>vendor_id</th>\n",
       "      <th>created_at</th>\n",
       "      <th>LOCATION_NUMBER</th>\n",
       "      <th>LOCATION_TYPE</th>\n",
       "      <th>CID X LOC_NUM X VENDOR</th>\n",
       "    </tr>\n",
       "  </thead>\n",
       "  <tbody>\n",
       "    <tr>\n",
       "      <th>0</th>\n",
       "      <td>163238.0</td>\n",
       "      <td>92PEE24</td>\n",
       "      <td>1.0</td>\n",
       "      <td>7.6</td>\n",
       "      <td>2</td>\n",
       "      <td>NaN</td>\n",
       "      <td>0.0</td>\n",
       "      <td>NaN</td>\n",
       "      <td>NaN</td>\n",
       "      <td>No</td>\n",
       "      <td>...</td>\n",
       "      <td>NaN</td>\n",
       "      <td>NaN</td>\n",
       "      <td>NaN</td>\n",
       "      <td>NaN</td>\n",
       "      <td>2019-07-31 05:30:00</td>\n",
       "      <td>105</td>\n",
       "      <td>2019-08-01 05:30:16</td>\n",
       "      <td>0</td>\n",
       "      <td>NaN</td>\n",
       "      <td>92PEE24 X 0 X 105</td>\n",
       "    </tr>\n",
       "    <tr>\n",
       "      <th>1</th>\n",
       "      <td>163240.0</td>\n",
       "      <td>QS68UD8</td>\n",
       "      <td>1.0</td>\n",
       "      <td>8.7</td>\n",
       "      <td>1</td>\n",
       "      <td>NaN</td>\n",
       "      <td>0.0</td>\n",
       "      <td>NaN</td>\n",
       "      <td>NaN</td>\n",
       "      <td>No</td>\n",
       "      <td>...</td>\n",
       "      <td>NaN</td>\n",
       "      <td>NaN</td>\n",
       "      <td>NaN</td>\n",
       "      <td>NaN</td>\n",
       "      <td>2019-07-31 05:30:00</td>\n",
       "      <td>294</td>\n",
       "      <td>2019-08-01 05:31:10</td>\n",
       "      <td>0</td>\n",
       "      <td>Work</td>\n",
       "      <td>QS68UD8 X 0 X 294</td>\n",
       "    </tr>\n",
       "    <tr>\n",
       "      <th>2</th>\n",
       "      <td>163241.0</td>\n",
       "      <td>MB7VY5F</td>\n",
       "      <td>2.0</td>\n",
       "      <td>14.4</td>\n",
       "      <td>1</td>\n",
       "      <td>NaN</td>\n",
       "      <td>0.0</td>\n",
       "      <td>NaN</td>\n",
       "      <td>NaN</td>\n",
       "      <td>No</td>\n",
       "      <td>...</td>\n",
       "      <td>NaN</td>\n",
       "      <td>NaN</td>\n",
       "      <td>NaN</td>\n",
       "      <td>NaN</td>\n",
       "      <td>2019-07-31 05:30:00</td>\n",
       "      <td>83</td>\n",
       "      <td>2019-08-01 05:31:33</td>\n",
       "      <td>0</td>\n",
       "      <td>NaN</td>\n",
       "      <td>MB7VY5F X 0 X 83</td>\n",
       "    </tr>\n",
       "    <tr>\n",
       "      <th>3</th>\n",
       "      <td>163244.0</td>\n",
       "      <td>KDJ951Y</td>\n",
       "      <td>1.0</td>\n",
       "      <td>7.1</td>\n",
       "      <td>1</td>\n",
       "      <td>NaN</td>\n",
       "      <td>0.0</td>\n",
       "      <td>NaN</td>\n",
       "      <td>NaN</td>\n",
       "      <td>No</td>\n",
       "      <td>...</td>\n",
       "      <td>NaN</td>\n",
       "      <td>NaN</td>\n",
       "      <td>NaN</td>\n",
       "      <td>NaN</td>\n",
       "      <td>2019-07-31 05:30:00</td>\n",
       "      <td>90</td>\n",
       "      <td>2019-08-01 05:34:54</td>\n",
       "      <td>0</td>\n",
       "      <td>Home</td>\n",
       "      <td>KDJ951Y X 0 X 90</td>\n",
       "    </tr>\n",
       "    <tr>\n",
       "      <th>4</th>\n",
       "      <td>163245.0</td>\n",
       "      <td>BAL0RVT</td>\n",
       "      <td>4.0</td>\n",
       "      <td>27.2</td>\n",
       "      <td>1</td>\n",
       "      <td>NaN</td>\n",
       "      <td>0.0</td>\n",
       "      <td>NaN</td>\n",
       "      <td>NaN</td>\n",
       "      <td>No</td>\n",
       "      <td>...</td>\n",
       "      <td>NaN</td>\n",
       "      <td>NaN</td>\n",
       "      <td>NaN</td>\n",
       "      <td>NaN</td>\n",
       "      <td>2019-07-31 05:30:00</td>\n",
       "      <td>83</td>\n",
       "      <td>2019-08-01 05:35:51</td>\n",
       "      <td>0</td>\n",
       "      <td>Work</td>\n",
       "      <td>BAL0RVT X 0 X 83</td>\n",
       "    </tr>\n",
       "  </tbody>\n",
       "</table>\n",
       "<p>5 rows × 26 columns</p>\n",
       "</div>"
      ],
      "text/plain": [
       "   akeed_order_id customer_id  item_count  grand_total  payment_mode  \\\n",
       "0        163238.0     92PEE24         1.0          7.6             2   \n",
       "1        163240.0     QS68UD8         1.0          8.7             1   \n",
       "2        163241.0     MB7VY5F         2.0         14.4             1   \n",
       "3        163244.0     KDJ951Y         1.0          7.1             1   \n",
       "4        163245.0     BAL0RVT         4.0         27.2             1   \n",
       "\n",
       "  promo_code  vendor_discount_amount  promo_code_discount_percentage  \\\n",
       "0        NaN                     0.0                             NaN   \n",
       "1        NaN                     0.0                             NaN   \n",
       "2        NaN                     0.0                             NaN   \n",
       "3        NaN                     0.0                             NaN   \n",
       "4        NaN                     0.0                             NaN   \n",
       "\n",
       "  is_favorite is_rated  ...  driver_accepted_time  ready_for_pickup_time  \\\n",
       "0         NaN       No  ...                   NaN                    NaN   \n",
       "1         NaN       No  ...                   NaN                    NaN   \n",
       "2         NaN       No  ...                   NaN                    NaN   \n",
       "3         NaN       No  ...                   NaN                    NaN   \n",
       "4         NaN       No  ...                   NaN                    NaN   \n",
       "\n",
       "   picked_up_time  delivered_time        delivery_date vendor_id  \\\n",
       "0             NaN             NaN  2019-07-31 05:30:00       105   \n",
       "1             NaN             NaN  2019-07-31 05:30:00       294   \n",
       "2             NaN             NaN  2019-07-31 05:30:00        83   \n",
       "3             NaN             NaN  2019-07-31 05:30:00        90   \n",
       "4             NaN             NaN  2019-07-31 05:30:00        83   \n",
       "\n",
       "            created_at LOCATION_NUMBER LOCATION_TYPE CID X LOC_NUM X VENDOR  \n",
       "0  2019-08-01 05:30:16               0           NaN      92PEE24 X 0 X 105  \n",
       "1  2019-08-01 05:31:10               0          Work      QS68UD8 X 0 X 294  \n",
       "2  2019-08-01 05:31:33               0           NaN       MB7VY5F X 0 X 83  \n",
       "3  2019-08-01 05:34:54               0          Home       KDJ951Y X 0 X 90  \n",
       "4  2019-08-01 05:35:51               0          Work       BAL0RVT X 0 X 83  \n",
       "\n",
       "[5 rows x 26 columns]"
      ]
     },
     "execution_count": 47,
     "metadata": {},
     "output_type": "execute_result"
    }
   ],
   "source": [
    "data2 = pd.read_csv(\"orders.csv\")\n",
    "data2.head()"
   ]
  },
  {
   "cell_type": "code",
   "execution_count": 48,
   "id": "f387ff48",
   "metadata": {},
   "outputs": [
    {
     "name": "stdout",
     "output_type": "stream",
     "text": [
      "<class 'pandas.core.frame.DataFrame'>\n",
      "RangeIndex: 135303 entries, 0 to 135302\n",
      "Data columns (total 26 columns):\n",
      " #   Column                          Non-Null Count   Dtype  \n",
      "---  ------                          --------------   -----  \n",
      " 0   akeed_order_id                  135233 non-null  float64\n",
      " 1   customer_id                     135303 non-null  object \n",
      " 2   item_count                      128378 non-null  float64\n",
      " 3   grand_total                     135303 non-null  float64\n",
      " 4   payment_mode                    135303 non-null  int64  \n",
      " 5   promo_code                      4305 non-null    object \n",
      " 6   vendor_discount_amount          135303 non-null  float64\n",
      " 7   promo_code_discount_percentage  65880 non-null   float64\n",
      " 8   is_favorite                     100108 non-null  object \n",
      " 9   is_rated                        135303 non-null  object \n",
      " 10  vendor_rating                   45220 non-null   float64\n",
      " 11  driver_rating                   135303 non-null  float64\n",
      " 12  deliverydistance                135303 non-null  float64\n",
      " 13  preparationtime                 79743 non-null   float64\n",
      " 14  delivery_time                   5123 non-null    object \n",
      " 15  order_accepted_time             86955 non-null   object \n",
      " 16  driver_accepted_time            46458 non-null   object \n",
      " 17  ready_for_pickup_time           84249 non-null   object \n",
      " 18  picked_up_time                  83865 non-null   object \n",
      " 19  delivered_time                  85741 non-null   object \n",
      " 20  delivery_date                   35544 non-null   object \n",
      " 21  vendor_id                       135303 non-null  int64  \n",
      " 22  created_at                      135303 non-null  object \n",
      " 23  LOCATION_NUMBER                 135303 non-null  int64  \n",
      " 24  LOCATION_TYPE                   86410 non-null   object \n",
      " 25  CID X LOC_NUM X VENDOR          135303 non-null  object \n",
      "dtypes: float64(9), int64(3), object(14)\n",
      "memory usage: 26.8+ MB\n"
     ]
    }
   ],
   "source": [
    "data2.info()"
   ]
  },
  {
   "cell_type": "code",
   "execution_count": 49,
   "id": "732a88c8",
   "metadata": {},
   "outputs": [],
   "source": [
    "# The dataset has 26 columns and 135303 rows :\n",
    "\n",
    "# Just simply explain some columns\n",
    "\n",
    "# akeed_order_id : Unique customer ID, used in train_locations and train_orders\n",
    "# vendor_rating : The ratings are rated by customers who use the vendor\n",
    "# vendor_id : vendor's unique id\n",
    "# customer_id : customer's unique id"
   ]
  },
  {
   "cell_type": "code",
   "execution_count": 50,
   "id": "8662eaef",
   "metadata": {},
   "outputs": [
    {
     "name": "stdout",
     "output_type": "stream",
     "text": [
      "0.0    25175\n",
      "5.0    14212\n",
      "4.0     2748\n",
      "3.0     1426\n",
      "1.0     1029\n",
      "2.0      630\n",
      "Name: vendor_rating, dtype: int64\n",
      "90083\n"
     ]
    },
    {
     "data": {
      "text/plain": [
       "0.6657871591908531"
      ]
     },
     "execution_count": 50,
     "metadata": {},
     "output_type": "execute_result"
    }
   ],
   "source": [
    "#vendor_rating\n",
    "\n",
    "print(data2['vendor_rating'].value_counts())\n",
    "null = np.count_nonzero(data2['vendor_rating'].isnull())\n",
    "print(null)\n",
    "\n",
    "null/data2.shape[0] \n",
    "# null ratio is about 66%"
   ]
  },
  {
   "cell_type": "code",
   "execution_count": 51,
   "id": "d2d8e0e3",
   "metadata": {},
   "outputs": [
    {
     "data": {
      "text/plain": [
       "<AxesSubplot: xlabel='vendor_rating', ylabel='count'>"
      ]
     },
     "execution_count": 51,
     "metadata": {},
     "output_type": "execute_result"
    },
    {
     "data": {
      "image/png": "[encoded data removed]",
      "text/plain": [
       "<Figure size 432x288 with 1 Axes>"
      ]
     },
     "metadata": {
      "needs_background": "light"
     },
     "output_type": "display_data"
    }
   ],
   "source": [
    "sns.countplot(x='vendor_rating',data=data2)"
   ]
  },
  {
   "cell_type": "code",
   "execution_count": 52,
   "id": "96db6219",
   "metadata": {},
   "outputs": [],
   "source": [
    "# The ratings except 0 score are almost 5 score"
   ]
  },
  {
   "cell_type": "code",
   "execution_count": 53,
   "id": "303c15a6",
   "metadata": {},
   "outputs": [
    {
     "name": "stdout",
     "output_type": "stream",
     "text": [
      "113    7807\n",
      "105    5562\n",
      "79     5117\n",
      "84     5001\n",
      "78     4643\n",
      "       ... \n",
      "304     562\n",
      "271     559\n",
      "196     512\n",
      "250     503\n",
      "295     474\n",
      "Name: vendor_id, Length: 100, dtype: int64\n"
     ]
    }
   ],
   "source": [
    "#vendor_id\n",
    "print(data2['vendor_id'].value_counts())\n",
    "#the unique vendor count is 100"
   ]
  },
  {
   "cell_type": "code",
   "execution_count": 54,
   "id": "0a40f728",
   "metadata": {},
   "outputs": [
    {
     "name": "stdout",
     "output_type": "stream",
     "text": [
      "XW90EAP    262\n",
      "TL7Z2DM    151\n",
      "VDEJEMP    146\n",
      "HJFTTGW    128\n",
      "B28LJKM    119\n",
      "          ... \n",
      "B6DEG8Q      1\n",
      "FP47TR0      1\n",
      "NIIOLY3      1\n",
      "1WM7MLN      1\n",
      "QDXLWM7      1\n",
      "Name: customer_id, Length: 27445, dtype: int64\n"
     ]
    }
   ],
   "source": [
    "#customer_id\n",
    "print(data2['customer_id'].value_counts())\n",
    "#the customer number is 27445"
   ]
  },
  {
   "cell_type": "code",
   "execution_count": null,
   "id": "148f6cc5",
   "metadata": {},
   "outputs": [],
   "source": [
    "# This completes our EDA for our Restaurant Dataset."
   ]
  }
 ],
 "metadata": {
  "kernelspec": {
   "display_name": "Python 3 (ipykernel)",
   "language": "python",
   "name": "python3"
  },
  "language_info": {
   "codemirror_mode": {
    "name": "ipython",
    "version": 3
   },
   "file_extension": ".py",
   "mimetype": "text/x-python",
   "name": "python",
   "nbconvert_exporter": "python",
   "pygments_lexer": "ipython3",
   "version": "3.9.14"
  }
 },
 "nbformat": 4,
 "nbformat_minor": 5
}
